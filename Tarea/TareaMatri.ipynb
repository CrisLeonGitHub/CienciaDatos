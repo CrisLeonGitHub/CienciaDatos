{
 "cells": [
  {
   "cell_type": "markdown",
   "metadata": {},
   "source": [
    "1. Create 2 matrices using numpy p & q as shown."
   ]
  },
  {
   "cell_type": "code",
   "execution_count": 4,
   "metadata": {},
   "outputs": [],
   "source": [
    "filas = int(input(\"Ingrese el número de filas (matriz P): \"))\n",
    "columnas = int(input(\"Ingrese el número de columnas (matriz P): \"))\n",
    "\n",
    "# Inicializar una lista vacía para almacenar los valores de la matriz\n",
    "matrizP = []\n",
    "\n",
    "# Solicitar al usuario que ingrese los valores de la matriz\n",
    "for i in range(filas):\n",
    "    fila = []\n",
    "    for j in range(columnas):\n",
    "        valor = int(input(f\"Ingrese el valor para la fila {i+1} y la columna {j+1}: \"))\n",
    "        fila.append(valor)\n",
    "    matrizP.append(fila)\n",
    "\n",
    "\n",
    "filas = int(input(\"Ingrese el número de filas (matriz Q): \"))\n",
    "columnas = int(input(\"Ingrese el número de columnas (matriz Q): \"))\n",
    "\n",
    "# Inicializar una lista vacía para almacenar los valores de la matriz\n",
    "matrizQ = []\n",
    "\n",
    "# Solicitar al usuario que ingrese los valores de la matriz\n",
    "for i in range(filas):\n",
    "    fila = []\n",
    "    for j in range(columnas):\n",
    "        valor = int(input(f\"Ingrese el valor para la fila {i+1} y la columna {j+1}: \"))\n",
    "        fila.append(valor)\n",
    "    matrizQ.append(fila)\n"
   ]
  },
  {
   "cell_type": "code",
   "execution_count": 5,
   "metadata": {},
   "outputs": [
    {
     "name": "stdout",
     "output_type": "stream",
     "text": [
      "La matriz creada es:\n",
      "[[1, 0], [0, 1]]\n",
      "[[1, 2], [3, 4]]\n"
     ]
    }
   ],
   "source": [
    "# Mostrar la matriz creada\n",
    "print(\"La matriz creada es:\")\n",
    "print(matrizP)\n",
    "print(matrizQ)"
   ]
  },
  {
   "cell_type": "markdown",
   "metadata": {},
   "source": [
    "2. Perform multiplication of the 2 matrices."
   ]
  },
  {
   "cell_type": "code",
   "execution_count": 7,
   "metadata": {},
   "outputs": [],
   "source": [
    "def multiplicar_matrices(matriz1, matriz2):\n",
    "    # Verificar si las matrices son multiplicables\n",
    "    if len(matriz1[0]) != len(matriz2):\n",
    "        print(\"No se pueden multiplicar las matrices. Las dimensiones no son compatibles.\")\n",
    "        return None\n",
    "\n",
    "    # Inicializar una matriz para almacenar el resultado\n",
    "    resultado = [[0 for _ in range(len(matriz2[0]))] for _ in range(len(matriz1))]\n",
    "\n",
    "    # Multiplicar las matrices\n",
    "    for i in range(len(matriz1)):\n",
    "        for j in range(len(matriz2[0])):\n",
    "            for k in range(len(matriz2)):\n",
    "                resultado[i][j] += matriz1[i][k] * matriz2[k][j]\n",
    "\n",
    "    return resultado\n",
    "\n",
    "resulMult = multiplicar_matrices(matrizP,matrizQ)\n"
   ]
  },
  {
   "cell_type": "markdown",
   "metadata": {},
   "source": [
    "3. Perform the addition of the 2 matrices.\n"
   ]
  },
  {
   "cell_type": "code",
   "execution_count": 9,
   "metadata": {},
   "outputs": [],
   "source": [
    "filas = int(input(\"Ingrese el número de filas (matriz A): \"))\n",
    "columnas = int(input(\"Ingrese el número de columnas (matriz A): \"))\n",
    "\n",
    "# Inicializar una lista vacía para almacenar los valores de la matriz\n",
    "matrizA = []\n",
    "\n",
    "# Solicitar al usuario que ingrese los valores de la matriz\n",
    "for i in range(filas):\n",
    "    fila = []\n",
    "    for j in range(columnas):\n",
    "        valor = int(input(f\"Ingrese el valor para la fila {i+1} y la columna {j+1}: \"))\n",
    "        fila.append(valor)\n",
    "    matrizA.append(fila)\n",
    "\n",
    "\n",
    "filas = int(input(\"Ingrese el número de filas (matriz B): \"))\n",
    "columnas = int(input(\"Ingrese el número de columnas (matriz B): \"))\n",
    "\n",
    "# Inicializar una lista vacía para almacenar los valores de la matriz\n",
    "matrizB = []\n",
    "\n",
    "# Solicitar al usuario que ingrese los valores de la matriz\n",
    "for i in range(filas):\n",
    "    fila = []\n",
    "    for j in range(columnas):\n",
    "        valor = int(input(f\"Ingrese el valor para la fila {i+1} y la columna {j+1}: \"))\n",
    "        fila.append(valor)\n",
    "    matrizB.append(fila)"
   ]
  },
  {
   "cell_type": "code",
   "execution_count": 10,
   "metadata": {},
   "outputs": [],
   "source": [
    "\n",
    "def sumar_matrices(matriz1, matriz2):\n",
    "    # Verificar si las matrices tienen las mismas dimensiones\n",
    "    if len(matriz1) != len(matriz2) or len(matriz1[0]) != len(matriz2[0]):\n",
    "        print(\"No se pueden sumar las matrices. Las dimensiones no son iguales.\")\n",
    "        return None\n",
    "\n",
    "    # Inicializar una matriz para almacenar el resultado\n",
    "    resultado = []\n",
    "\n",
    "    # Sumar las matrices\n",
    "    for i in range(len(matriz1)):\n",
    "        fila_resultado = []\n",
    "        for j in range(len(matriz1[0])):\n",
    "            suma_elementos = matriz1[i][j] + matriz2[i][j]\n",
    "            fila_resultado.append(suma_elementos)\n",
    "        resultado.append(fila_resultado)\n",
    "\n",
    "    return resultado\n",
    "\n",
    "resulSuma = sumar_matrices(matrizA,matrizB)\n"
   ]
  },
  {
   "cell_type": "markdown",
   "metadata": {},
   "source": [
    "4. Print the results."
   ]
  },
  {
   "cell_type": "code",
   "execution_count": 13,
   "metadata": {},
   "outputs": [
    {
     "name": "stdout",
     "output_type": "stream",
     "text": [
      "La multiplicacion de matriz\n",
      "Matriz P [[1, 0], [0, 1]]\n",
      "Matriz Q [[1, 2], [3, 4]]\n",
      "resultado de la multipliacaion: [[1, 2], [3, 4]]\n",
      "\n",
      "\n",
      "La suma de matriz\n",
      "Matriz A [[1, 0], [0, 1]]\n",
      "Matriz B [[1, 2], [3, 4]]\n",
      "resultado de la multipliacaion: [[2, 3], [4, 5]]\n"
     ]
    }
   ],
   "source": [
    "print('La multiplicacion de matriz')\n",
    "print('Matriz P', matrizP)\n",
    "print('Matriz Q', matrizQ)\n",
    "print('resultado de la multipliacaion:', resulMult)\n",
    "\n",
    "print('\\n\\nLa suma de matriz')\n",
    "print('Matriz A', matrizP)\n",
    "print('Matriz B', matrizQ)\n",
    "print('resultado de la multipliacaion:', resulSuma)"
   ]
  },
  {
   "cell_type": "markdown",
   "metadata": {},
   "source": [
    "5. Is matrix multiplication same as a dot product for the above?\n",
    "\n",
    "Multiplicación de Matrices: En la multiplicación de matrices, se combinan dos matrices para producir una nueva matriz. El producto de dos matrices se calcula multiplicando cada elemento de una fila de la primera matriz por cada elemento de una columna correspondiente en la segunda matriz, y luego sumando estos productos. El resultado es una matriz que puede tener dimensiones diferentes a las matrices originales, dependiendo de las dimensiones de las matrices de entrada.\n",
    "\n",
    "Producto Escalar: El producto escalar es una operación entre dos vectores que produce un solo valor escalar. Se calcula multiplicando los elementos correspondientes de los vectores y sumando los productos. El resultado es un número único, no una matriz.\n"
   ]
  },
  {
   "cell_type": "markdown",
   "metadata": {},
   "source": [
    "6. Try to achieve the same tasks as above but without using numpy arrays."
   ]
  }
 ],
 "metadata": {
  "kernelspec": {
   "display_name": "Python 3",
   "language": "python",
   "name": "python3"
  },
  "language_info": {
   "codemirror_mode": {
    "name": "ipython",
    "version": 3
   },
   "file_extension": ".py",
   "mimetype": "text/x-python",
   "name": "python",
   "nbconvert_exporter": "python",
   "pygments_lexer": "ipython3",
   "version": "3.12.3"
  }
 },
 "nbformat": 4,
 "nbformat_minor": 2
}
