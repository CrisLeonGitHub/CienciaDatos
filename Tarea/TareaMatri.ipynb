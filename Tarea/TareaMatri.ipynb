{
 "cells": [
  {
   "cell_type": "markdown",
   "metadata": {},
   "source": [
    "1. Create 2 matrices using numpy p & q as shown."
   ]
  },
  {
   "cell_type": "code",
   "execution_count": 6,
   "metadata": {},
   "outputs": [],
   "source": [
    "def mostrar_matriz(matriz):\n",
    "    for fila in matriz:\n",
    "        print(fila)\n",
    "\n",
    "def genera_matriz(nombre):\n",
    "    filas = int(input(f\"Ingrese el número de filas (matriz {nombre}: \"))\n",
    "    columnas = int(input(f\"Ingrese el número de columnas (matriz {nombre}: \"))\n",
    "\n",
    "    # Inicializar una lista vacía para almacenar los valores de la matriz\n",
    "    matriz = []\n",
    "\n",
    "    # Solicitar al usuario que ingrese los valores de la matriz\n",
    "    for i in range(filas):\n",
    "        fila = []\n",
    "        for j in range(columnas):\n",
    "            valor = int(input(f\"Ingrese el valor para la fila {i+1} y la columna {j+1}: \"))\n",
    "            fila.append(valor)\n",
    "        matriz.append(fila)\n",
    "    return matriz"
   ]
  },
  {
   "cell_type": "code",
   "execution_count": 7,
   "metadata": {},
   "outputs": [],
   "source": [
    "matrizP = genera_matriz(\"P\")\n",
    "\n",
    "matrizQ = genera_matriz(\"Q\")\n"
   ]
  },
  {
   "cell_type": "code",
   "execution_count": 8,
   "metadata": {},
   "outputs": [
    {
     "name": "stdout",
     "output_type": "stream",
     "text": [
      "La matriz creada es:\n",
      "[1, 0]\n",
      "[0, 1]\n",
      "[1, 2]\n",
      "[3, 4]\n"
     ]
    }
   ],
   "source": [
    "# Mostrar la matriz creada\n",
    "print(\"La matriz P:\")\n",
    "mostrar_matriz(matrizP)\n",
    "print(\"La matriz Q:\")\n",
    "mostrar_matriz(matrizQ)"
   ]
  },
  {
   "cell_type": "markdown",
   "metadata": {},
   "source": [
    "2. Perform multiplication of the 2 matrices."
   ]
  },
  {
   "cell_type": "code",
   "execution_count": 10,
   "metadata": {},
   "outputs": [],
   "source": [
    "def multiplicar_matrices(matriz1, matriz2):\n",
    "    # Verificar si las matrices son multiplicables\n",
    "    if len(matriz1[0]) != len(matriz2):\n",
    "        print(\"No se pueden multiplicar las matrices. Las dimensiones no son compatibles.\")\n",
    "        return None\n",
    "\n",
    "    # Inicializar una matriz para almacenar el resultado\n",
    "    resultado = [[0 for _ in range(len(matriz2[0]))] for _ in range(len(matriz1))]\n",
    "\n",
    "    # Multiplicar las matrices\n",
    "    for i in range(len(matriz1)):\n",
    "        for j in range(len(matriz2[0])):\n",
    "            for k in range(len(matriz2)):\n",
    "                resultado[i][j] += matriz1[i][k] * matriz2[k][j]\n",
    "\n",
    "    return resultado\n",
    "\n",
    "resulMult = multiplicar_matrices(matrizP,matrizQ)\n"
   ]
  },
  {
   "cell_type": "markdown",
   "metadata": {},
   "source": [
    "3. Perform the addition of the 2 matrices."
   ]
  },
  {
   "cell_type": "code",
   "execution_count": 11,
   "metadata": {},
   "outputs": [],
   "source": [
    "matrizA = genera_matriz(\"A\")\n",
    "\n",
    "matrizB = genera_matriz(\"B\")"
   ]
  },
  {
   "cell_type": "code",
   "execution_count": 12,
   "metadata": {},
   "outputs": [],
   "source": [
    "\n",
    "def sumar_matrices(matriz1, matriz2):\n",
    "    # Verificar si las matrices tienen las mismas dimensiones\n",
    "    if len(matriz1) != len(matriz2) or len(matriz1[0]) != len(matriz2[0]):\n",
    "        print(\"No se pueden sumar las matrices. Las dimensiones no son iguales.\")\n",
    "        return None\n",
    "\n",
    "    # Inicializar una matriz para almacenar el resultado\n",
    "    resultado = []\n",
    "\n",
    "    # Sumar las matrices\n",
    "    for i in range(len(matriz1)):\n",
    "        fila_resultado = []\n",
    "        for j in range(len(matriz1[0])):\n",
    "            suma_elementos = matriz1[i][j] + matriz2[i][j]\n",
    "            fila_resultado.append(suma_elementos)\n",
    "        resultado.append(fila_resultado)\n",
    "\n",
    "    return resultado\n",
    "\n",
    "resulSuma = sumar_matrices(matrizA,matrizB)\n"
   ]
  },
  {
   "cell_type": "markdown",
   "metadata": {},
   "source": [
    "Se presentan los resultados de las operaciones de las 4 matrices\n",
    "4. Print the results."
   ]
  },
  {
   "cell_type": "code",
   "execution_count": 14,
   "metadata": {},
   "outputs": [
    {
     "name": "stdout",
     "output_type": "stream",
     "text": [
      "La multiplicacion de matriz\n",
      "Matriz P\n",
      "[1, 0]\n",
      "[0, 1]\n",
      "Matriz Q\n",
      "[1, 2]\n",
      "[3, 4]\n",
      "resultado de la multipliacaion:\n",
      "[1, 2]\n",
      "[3, 4]\n",
      "\n",
      "\n",
      "La suma de matriz\n",
      "Matriz A\n",
      "[1, 2, 3]\n",
      "[4, 5, 6]\n",
      "[7, 8, 9]\n",
      "Matriz B\n",
      "[1, 1, 1]\n",
      "[1, 1, 1]\n",
      "[1, 1, 1]\n",
      "resultado de la multipliacaion:\n",
      "[2, 3, 4]\n",
      "[5, 6, 7]\n",
      "[8, 9, 10]\n"
     ]
    }
   ],
   "source": [
    "print('La multiplicacion de matriz')\n",
    "print('Matriz P')\n",
    "mostrar_matriz(matrizP)\n",
    "print('Matriz Q')\n",
    "mostrar_matriz(matrizQ)\n",
    "print('resultado de la multipliacaion:')\n",
    "mostrar_matriz(resulMult)\n",
    "\n",
    "print('\\n\\nLa suma de matriz')\n",
    "print('Matriz A')\n",
    "mostrar_matriz(matrizA)\n",
    "print('Matriz B')\n",
    "mostrar_matriz(matrizB)\n",
    "print('resultado de la multipliacaion:')\n",
    "mostrar_matriz(resulSuma)"
   ]
  },
  {
   "cell_type": "markdown",
   "metadata": {},
   "source": [
    "5. Is matrix multiplication same as a dot product for the above?\n",
    "\n",
    "Multiplicación de Matrices: En la multiplicación de matrices, se combinan dos matrices para producir una nueva matriz. El producto de dos matrices se calcula multiplicando cada elemento de una fila de la primera matriz por cada elemento de una columna correspondiente en la segunda matriz, y luego sumando estos productos. El resultado es una matriz que puede tener dimensiones diferentes a las matrices originales, dependiendo de las dimensiones de las matrices de entrada.\n",
    "\n",
    "Producto Escalar: El producto escalar es una operación entre dos vectores que produce un solo valor escalar. Se calcula multiplicando los elementos correspondientes de los vectores y sumando los productos. El resultado es un número único, no una matriz.\n"
   ]
  },
  {
   "cell_type": "markdown",
   "metadata": {},
   "source": [
    "6. Try to achieve the same tasks as above but without using numpy arrays."
   ]
  }
 ],
 "metadata": {
  "kernelspec": {
   "display_name": "Python 3",
   "language": "python",
   "name": "python3"
  },
  "language_info": {
   "codemirror_mode": {
    "name": "ipython",
    "version": 3
   },
   "file_extension": ".py",
   "mimetype": "text/x-python",
   "name": "python",
   "nbconvert_exporter": "python",
   "pygments_lexer": "ipython3",
   "version": "3.12.3"
  }
 },
 "nbformat": 4,
 "nbformat_minor": 2
}
