{
 "cells": [
  {
   "cell_type": "markdown",
   "metadata": {},
   "source": [
    "Tarea realizada por Cristian León"
   ]
  },
  {
   "cell_type": "markdown",
   "metadata": {},
   "source": [
    "1.\tCree un Dataframe de pandas con datos como se muestra en la figura."
   ]
  },
  {
   "cell_type": "code",
   "execution_count": 10,
   "metadata": {},
   "outputs": [],
   "source": [
    "# importacion de librerias\n",
    "import numpy as np\n",
    "import pandas as pd"
   ]
  },
  {
   "cell_type": "code",
   "execution_count": 2,
   "metadata": {},
   "outputs": [
    {
     "name": "stdout",
     "output_type": "stream",
     "text": [
      "        Name  Score  Attempts Qualify\n",
      "0  Anastasia   12.5         1      si\n",
      "1       Dima    9.0         3      no\n",
      "2  Katherine   16.9         2      si\n",
      "3      James    NaN         3      no\n",
      "4      Emily    9.0         2      no\n"
     ]
    }
   ],
   "source": [
    "data = { 'Name':['Anastasia', 'Dima', 'Katherine', 'James','Emily'],\n",
    "          'Score':[12.5 , 9.0 , 16.9 , np.nan , 9.0],\n",
    "          'Attempts': [1 , 3, 2, 3, 2],\n",
    "          'Qualify':['si','no','si','no','no']}\n",
    "df = pd.DataFrame(data)\n",
    "\n",
    "print(df)"
   ]
  },
  {
   "cell_type": "markdown",
   "metadata": {},
   "source": [
    "2.\tExtraiga los detalles de Emily del Dataframe"
   ]
  },
  {
   "cell_type": "code",
   "execution_count": 3,
   "metadata": {},
   "outputs": [
    {
     "name": "stdout",
     "output_type": "stream",
     "text": [
      "La informacion de Emily es:\n",
      "    Name  Score  Attempts Qualify\n",
      "4  Emily    9.0         2      no\n"
     ]
    }
   ],
   "source": [
    "\n",
    "fila = df.iloc[(df['Name'] == 'Emily').values]\n",
    "print('La informacion de Emily es:')\n",
    "print(fila)\n"
   ]
  },
  {
   "cell_type": "markdown",
   "metadata": {},
   "source": [
    "3.\tEncuentre los nombres de todas las personas registradas."
   ]
  },
  {
   "cell_type": "code",
   "execution_count": 4,
   "metadata": {},
   "outputs": [
    {
     "name": "stdout",
     "output_type": "stream",
     "text": [
      "Los nombres almacenados son:\n",
      "\t Anastasia\n",
      "\t Dima\n",
      "\t Emily\n",
      "\t James\n",
      "\t Katherine\n"
     ]
    }
   ],
   "source": [
    "print('Los nombres almacenados son:')\n",
    "for nombre in df['Name'].sort_values():\n",
    "    print('\\t',nombre)"
   ]
  },
  {
   "cell_type": "markdown",
   "metadata": {},
   "source": [
    "4.\tEncuentre el número promedio de intentos"
   ]
  },
  {
   "cell_type": "code",
   "execution_count": 8,
   "metadata": {},
   "outputs": [
    {
     "name": "stdout",
     "output_type": "stream",
     "text": [
      "Valor del promedio de datos(Attempts) es:2.20 \n"
     ]
    }
   ],
   "source": [
    "promedio= df[\"Attempts\"].mean()\n",
    "print(f'Valor del promedio de datos(Attempts) es:{promedio:,.2f} ')"
   ]
  },
  {
   "cell_type": "markdown",
   "metadata": {},
   "source": [
    "5.\tLea los datos almacenados en un archivo de Excel"
   ]
  },
  {
   "cell_type": "code",
   "execution_count": null,
   "metadata": {},
   "outputs": [],
   "source": [
    "dfe = pd.read_excel('archivo.xlsx', sheet_name='Hoja1')\n",
    "\n",
    "print(dfe)\n"
   ]
  },
  {
   "cell_type": "markdown",
   "metadata": {},
   "source": [
    "6.\tImprima el número de filas y columnas en el marco de datos"
   ]
  },
  {
   "cell_type": "code",
   "execution_count": 42,
   "metadata": {},
   "outputs": [
    {
     "name": "stdout",
     "output_type": "stream",
     "text": [
      "Del primer Dateframe:\n",
      "\t Número de filas: 5\n",
      "\t Número de columnas: 4\n",
      "Del segundo Dateframe:\n",
      "\t Número de filas: 5\n",
      "\t Número de columnas: 4\n"
     ]
    }
   ],
   "source": [
    "num_filas, num_columnas = df.shape\n",
    "print('Del primer Dateframe:')\n",
    "print('\\t Número de filas:', num_filas)\n",
    "print('\\t Número de columnas:', num_columnas)\n",
    "\n",
    "dfe = df\n",
    "num_filas, num_columnas = dfe.shape\n",
    "print('Del segundo Dateframe:')\n",
    "print('\\t Número de filas:', num_filas)\n",
    "print('\\t Número de columnas:', num_columnas)"
   ]
  },
  {
   "cell_type": "markdown",
   "metadata": {},
   "source": [
    "7.\tExtraiga el subconjunto de ese dataframe"
   ]
  },
  {
   "cell_type": "code",
   "execution_count": 11,
   "metadata": {},
   "outputs": [
    {
     "name": "stdout",
     "output_type": "stream",
     "text": [
      "        Name  Score\n",
      "0  Anastasia   12.5\n",
      "1       Dima    9.0\n",
      "2  Katherine   16.9\n"
     ]
    }
   ],
   "source": [
    "# Obtener un subconjunto de filas y columnas por etiquetas\n",
    "subconjunto = df.loc[[0,1, 2], ['Name', 'Score']]\n",
    "\n",
    "print(subconjunto)"
   ]
  },
  {
   "cell_type": "markdown",
   "metadata": {},
   "source": [
    "8.\tGuarde el subconjunto como un archivo csv"
   ]
  },
  {
   "cell_type": "code",
   "execution_count": 12,
   "metadata": {},
   "outputs": [],
   "source": [
    "subconjunto.to_csv('archivo.csv', index=False)"
   ]
  }
 ],
 "metadata": {
  "kernelspec": {
   "display_name": "Python 3",
   "language": "python",
   "name": "python3"
  },
  "language_info": {
   "codemirror_mode": {
    "name": "ipython",
    "version": 3
   },
   "file_extension": ".py",
   "mimetype": "text/x-python",
   "name": "python",
   "nbconvert_exporter": "python",
   "pygments_lexer": "ipython3",
   "version": "3.12.3"
  }
 },
 "nbformat": 4,
 "nbformat_minor": 2
}
