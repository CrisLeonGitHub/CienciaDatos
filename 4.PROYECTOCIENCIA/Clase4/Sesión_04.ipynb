{
  "nbformat": 4,
  "nbformat_minor": 0,
  "metadata": {
    "colab": {
      "name": "Sesión 04.ipynb",
      "provenance": []
    },
    "kernelspec": {
      "name": "python3",
      "display_name": "Python 3"
    },
    "language_info": {
      "name": "python"
    },
    "widgets": {
      "application/vnd.jupyter.widget-state+json": {
        "3e1e2b0e64ea4b9e9858ce50aec86c29": {
          "model_module": "@jupyter-widgets/controls",
          "model_name": "HBoxModel",
          "model_module_version": "1.5.0",
          "state": {
            "_dom_classes": [],
            "_model_module": "@jupyter-widgets/controls",
            "_model_module_version": "1.5.0",
            "_model_name": "HBoxModel",
            "_view_count": null,
            "_view_module": "@jupyter-widgets/controls",
            "_view_module_version": "1.5.0",
            "_view_name": "HBoxView",
            "box_style": "",
            "children": [
              "IPY_MODEL_abced2a6f64d48eaa993cec1470c17fe",
              "IPY_MODEL_eaf8901aa85b4cdfbbea53954b27b328",
              "IPY_MODEL_020734b454884763a3e2e08376eeb03a"
            ],
            "layout": "IPY_MODEL_8a9a10b55b834ea39e34faf377ff9169"
          }
        },
        "abced2a6f64d48eaa993cec1470c17fe": {
          "model_module": "@jupyter-widgets/controls",
          "model_name": "HTMLModel",
          "model_module_version": "1.5.0",
          "state": {
            "_dom_classes": [],
            "_model_module": "@jupyter-widgets/controls",
            "_model_module_version": "1.5.0",
            "_model_name": "HTMLModel",
            "_view_count": null,
            "_view_module": "@jupyter-widgets/controls",
            "_view_module_version": "1.5.0",
            "_view_name": "HTMLView",
            "description": "",
            "description_tooltip": null,
            "layout": "IPY_MODEL_b2a853dd621e4eed840e2ce873e07de4",
            "placeholder": "​",
            "style": "IPY_MODEL_8b396ab615484e258c91e198af73a2b9",
            "value": "100%"
          }
        },
        "eaf8901aa85b4cdfbbea53954b27b328": {
          "model_module": "@jupyter-widgets/controls",
          "model_name": "FloatProgressModel",
          "model_module_version": "1.5.0",
          "state": {
            "_dom_classes": [],
            "_model_module": "@jupyter-widgets/controls",
            "_model_module_version": "1.5.0",
            "_model_name": "FloatProgressModel",
            "_view_count": null,
            "_view_module": "@jupyter-widgets/controls",
            "_view_module_version": "1.5.0",
            "_view_name": "ProgressView",
            "bar_style": "success",
            "description": "",
            "description_tooltip": null,
            "layout": "IPY_MODEL_2ead79fbda1a4339af53dacc7fdf5959",
            "max": 181,
            "min": 0,
            "orientation": "horizontal",
            "style": "IPY_MODEL_d98b06d97132467fb75cb9f315878ed5",
            "value": 181
          }
        },
        "020734b454884763a3e2e08376eeb03a": {
          "model_module": "@jupyter-widgets/controls",
          "model_name": "HTMLModel",
          "model_module_version": "1.5.0",
          "state": {
            "_dom_classes": [],
            "_model_module": "@jupyter-widgets/controls",
            "_model_module_version": "1.5.0",
            "_model_name": "HTMLModel",
            "_view_count": null,
            "_view_module": "@jupyter-widgets/controls",
            "_view_module_version": "1.5.0",
            "_view_name": "HTMLView",
            "description": "",
            "description_tooltip": null,
            "layout": "IPY_MODEL_5ace5664f0394d06ba1474f3127593fa",
            "placeholder": "​",
            "style": "IPY_MODEL_c9bb16a79225430f88249e826ae94ace",
            "value": " 181/181 [00:00&lt;00:00, 588.64it/s]"
          }
        },
        "8a9a10b55b834ea39e34faf377ff9169": {
          "model_module": "@jupyter-widgets/base",
          "model_name": "LayoutModel",
          "model_module_version": "1.2.0",
          "state": {
            "_model_module": "@jupyter-widgets/base",
            "_model_module_version": "1.2.0",
            "_model_name": "LayoutModel",
            "_view_count": null,
            "_view_module": "@jupyter-widgets/base",
            "_view_module_version": "1.2.0",
            "_view_name": "LayoutView",
            "align_content": null,
            "align_items": null,
            "align_self": null,
            "border": null,
            "bottom": null,
            "display": null,
            "flex": null,
            "flex_flow": null,
            "grid_area": null,
            "grid_auto_columns": null,
            "grid_auto_flow": null,
            "grid_auto_rows": null,
            "grid_column": null,
            "grid_gap": null,
            "grid_row": null,
            "grid_template_areas": null,
            "grid_template_columns": null,
            "grid_template_rows": null,
            "height": null,
            "justify_content": null,
            "justify_items": null,
            "left": null,
            "margin": null,
            "max_height": null,
            "max_width": null,
            "min_height": null,
            "min_width": null,
            "object_fit": null,
            "object_position": null,
            "order": null,
            "overflow": null,
            "overflow_x": null,
            "overflow_y": null,
            "padding": null,
            "right": null,
            "top": null,
            "visibility": null,
            "width": null
          }
        },
        "b2a853dd621e4eed840e2ce873e07de4": {
          "model_module": "@jupyter-widgets/base",
          "model_name": "LayoutModel",
          "model_module_version": "1.2.0",
          "state": {
            "_model_module": "@jupyter-widgets/base",
            "_model_module_version": "1.2.0",
            "_model_name": "LayoutModel",
            "_view_count": null,
            "_view_module": "@jupyter-widgets/base",
            "_view_module_version": "1.2.0",
            "_view_name": "LayoutView",
            "align_content": null,
            "align_items": null,
            "align_self": null,
            "border": null,
            "bottom": null,
            "display": null,
            "flex": null,
            "flex_flow": null,
            "grid_area": null,
            "grid_auto_columns": null,
            "grid_auto_flow": null,
            "grid_auto_rows": null,
            "grid_column": null,
            "grid_gap": null,
            "grid_row": null,
            "grid_template_areas": null,
            "grid_template_columns": null,
            "grid_template_rows": null,
            "height": null,
            "justify_content": null,
            "justify_items": null,
            "left": null,
            "margin": null,
            "max_height": null,
            "max_width": null,
            "min_height": null,
            "min_width": null,
            "object_fit": null,
            "object_position": null,
            "order": null,
            "overflow": null,
            "overflow_x": null,
            "overflow_y": null,
            "padding": null,
            "right": null,
            "top": null,
            "visibility": null,
            "width": null
          }
        },
        "8b396ab615484e258c91e198af73a2b9": {
          "model_module": "@jupyter-widgets/controls",
          "model_name": "DescriptionStyleModel",
          "model_module_version": "1.5.0",
          "state": {
            "_model_module": "@jupyter-widgets/controls",
            "_model_module_version": "1.5.0",
            "_model_name": "DescriptionStyleModel",
            "_view_count": null,
            "_view_module": "@jupyter-widgets/base",
            "_view_module_version": "1.2.0",
            "_view_name": "StyleView",
            "description_width": ""
          }
        },
        "2ead79fbda1a4339af53dacc7fdf5959": {
          "model_module": "@jupyter-widgets/base",
          "model_name": "LayoutModel",
          "model_module_version": "1.2.0",
          "state": {
            "_model_module": "@jupyter-widgets/base",
            "_model_module_version": "1.2.0",
            "_model_name": "LayoutModel",
            "_view_count": null,
            "_view_module": "@jupyter-widgets/base",
            "_view_module_version": "1.2.0",
            "_view_name": "LayoutView",
            "align_content": null,
            "align_items": null,
            "align_self": null,
            "border": null,
            "bottom": null,
            "display": null,
            "flex": null,
            "flex_flow": null,
            "grid_area": null,
            "grid_auto_columns": null,
            "grid_auto_flow": null,
            "grid_auto_rows": null,
            "grid_column": null,
            "grid_gap": null,
            "grid_row": null,
            "grid_template_areas": null,
            "grid_template_columns": null,
            "grid_template_rows": null,
            "height": null,
            "justify_content": null,
            "justify_items": null,
            "left": null,
            "margin": null,
            "max_height": null,
            "max_width": null,
            "min_height": null,
            "min_width": null,
            "object_fit": null,
            "object_position": null,
            "order": null,
            "overflow": null,
            "overflow_x": null,
            "overflow_y": null,
            "padding": null,
            "right": null,
            "top": null,
            "visibility": null,
            "width": null
          }
        },
        "d98b06d97132467fb75cb9f315878ed5": {
          "model_module": "@jupyter-widgets/controls",
          "model_name": "ProgressStyleModel",
          "model_module_version": "1.5.0",
          "state": {
            "_model_module": "@jupyter-widgets/controls",
            "_model_module_version": "1.5.0",
            "_model_name": "ProgressStyleModel",
            "_view_count": null,
            "_view_module": "@jupyter-widgets/base",
            "_view_module_version": "1.2.0",
            "_view_name": "StyleView",
            "bar_color": null,
            "description_width": ""
          }
        },
        "5ace5664f0394d06ba1474f3127593fa": {
          "model_module": "@jupyter-widgets/base",
          "model_name": "LayoutModel",
          "model_module_version": "1.2.0",
          "state": {
            "_model_module": "@jupyter-widgets/base",
            "_model_module_version": "1.2.0",
            "_model_name": "LayoutModel",
            "_view_count": null,
            "_view_module": "@jupyter-widgets/base",
            "_view_module_version": "1.2.0",
            "_view_name": "LayoutView",
            "align_content": null,
            "align_items": null,
            "align_self": null,
            "border": null,
            "bottom": null,
            "display": null,
            "flex": null,
            "flex_flow": null,
            "grid_area": null,
            "grid_auto_columns": null,
            "grid_auto_flow": null,
            "grid_auto_rows": null,
            "grid_column": null,
            "grid_gap": null,
            "grid_row": null,
            "grid_template_areas": null,
            "grid_template_columns": null,
            "grid_template_rows": null,
            "height": null,
            "justify_content": null,
            "justify_items": null,
            "left": null,
            "margin": null,
            "max_height": null,
            "max_width": null,
            "min_height": null,
            "min_width": null,
            "object_fit": null,
            "object_position": null,
            "order": null,
            "overflow": null,
            "overflow_x": null,
            "overflow_y": null,
            "padding": null,
            "right": null,
            "top": null,
            "visibility": null,
            "width": null
          }
        },
        "c9bb16a79225430f88249e826ae94ace": {
          "model_module": "@jupyter-widgets/controls",
          "model_name": "DescriptionStyleModel",
          "model_module_version": "1.5.0",
          "state": {
            "_model_module": "@jupyter-widgets/controls",
            "_model_module_version": "1.5.0",
            "_model_name": "DescriptionStyleModel",
            "_view_count": null,
            "_view_module": "@jupyter-widgets/base",
            "_view_module_version": "1.2.0",
            "_view_name": "StyleView",
            "description_width": ""
          }
        }
      }
    }
  },
  "cells": [
    {
      "cell_type": "code",
      "execution_count": 1,
      "metadata": {
        "id": "s3vft6YXtYPe"
      },
      "outputs": [],
      "source": [
        "import pandas as pd\n",
        "import seaborn as sns\n",
        "import matplotlib.pyplot as plt\n",
        "import numpy as np"
      ]
    },
    {
      "cell_type": "code",
      "source": [
        "df=pd.read_csv('precios_mundiales_petroleo.csv', delimiter=\";\")\n",
        "df = df.replace(',',\"\")\n",
        "df['World Share'] = df['World Share'].str.rstrip('%').astype(float)"
      ],
      "metadata": {
        "id": "PKUIRYNzx4H-"
      },
      "execution_count": 2,
      "outputs": []
    },
    {
      "cell_type": "code",
      "source": [
        "aux = df[[\"Price Per Gallon (USD)\"]]\n",
        "aux.astype(float).plot(kind=\"box\")"
      ],
      "metadata": {
        "colab": {
          "base_uri": "https://localhost:8080/",
          "height": 282
        },
        "id": "jymZ0k9rx89R",
        "outputId": "feee6634-62e7-4c74-ee15-c39a817a6916"
      },
      "execution_count": 3,
      "outputs": [
        {
          "output_type": "execute_result",
          "data": {
            "text/plain": [
              "<matplotlib.axes._subplots.AxesSubplot at 0x7fc04febfc90>"
            ]
          },
          "metadata": {},
          "execution_count": 3
        },
        {
          "output_type": "display_data",
          "data": {
            "text/plain": [
              "<Figure size 432x288 with 1 Axes>"
            ],
            "image/png": "[encoded data removed]"
          },
          "metadata": {
            "needs_background": "light"
          }
        }
      ]
    },
    {
      "cell_type": "code",
      "source": [
        "def outlier_IQR(df):\n",
        "    Q1=df.quantile(0.25)\n",
        "    Q3=df.quantile(0.75)\n",
        "    IQR=Q3-Q1\n",
        "    df_final = df[(df <= Q3+1.5*IQR) & (df >= Q1-1.5*IQR)]\n",
        "    return df_final\n",
        "\n",
        "nuevo_aux = outlier_IQR(aux)\n",
        "nuevo_aux = pd.DataFrame(nuevo_aux)\n",
        "ind_dif = aux.index.difference(nuevo_aux.index)\n",
        "\n",
        "for i in range(len(ind_dif)):\n",
        "  df2 = aux.drop([ind_dif[i]])\n",
        "  nuevo_aux = df2\n",
        "\n",
        "nuevo_aux.astype(float).plot(kind=\"box\")"
      ],
      "metadata": {
        "colab": {
          "base_uri": "https://localhost:8080/",
          "height": 282
        },
        "id": "6qPLhNdAyiKU",
        "outputId": "dce66cfb-d78a-4670-f61e-f7b2092fe871"
      },
      "execution_count": 4,
      "outputs": [
        {
          "output_type": "execute_result",
          "data": {
            "text/plain": [
              "<matplotlib.axes._subplots.AxesSubplot at 0x7fc04fdae110>"
            ]
          },
          "metadata": {},
          "execution_count": 4
        },
        {
          "output_type": "display_data",
          "data": {
            "text/plain": [
              "<Figure size 432x288 with 1 Axes>"
            ],
            "image/png": "[encoded data removed]"
          },
          "metadata": {
            "needs_background": "light"
          }
        }
      ]
    },
    {
      "cell_type": "code",
      "source": [
        "def outlier_Hampel(df):\n",
        "    med=df.median()\n",
        "    List=abs(df-med)\n",
        "    cond=List.median()*4.5\n",
        "    df_final=List[~(List>cond)]\n",
        "    return df_final\n",
        "\n",
        "nuevo_aux = outlier_Hampel(aux)\n",
        "nuevo_aux = pd.DataFrame(nuevo_aux)\n",
        "ind_dif = aux.index.difference(nuevo_aux.index)\n",
        "\n",
        "for i in range(len(ind_dif)):\n",
        "  df2 = aux.drop([ind_dif[i]])\n",
        "  nuevo_aux = df2\n",
        "  \n",
        "nuevo_aux.astype(float).plot(kind=\"box\")"
      ],
      "metadata": {
        "colab": {
          "base_uri": "https://localhost:8080/",
          "height": 282
        },
        "id": "oQ3OyG3IzoQJ",
        "outputId": "100772f6-129f-493c-daeb-b461528b00e4"
      },
      "execution_count": 6,
      "outputs": [
        {
          "output_type": "execute_result",
          "data": {
            "text/plain": [
              "<matplotlib.axes._subplots.AxesSubplot at 0x7fc04f934bd0>"
            ]
          },
          "metadata": {},
          "execution_count": 6
        },
        {
          "output_type": "display_data",
          "data": {
            "text/plain": [
              "<Figure size 432x288 with 1 Axes>"
            ],
            "image/png": "[encoded data removed]"
          },
          "metadata": {
            "needs_background": "light"
          }
        }
      ]
    },
    {
      "cell_type": "code",
      "source": [
        "from tqdm import tqdm_notebook as tqdm\n",
        "\n",
        "a = np.arange(0, aux.shape[1])\n",
        "dfaumentado = pd.DataFrame(index=aux.index, columns=aux.columns, dtype='float64')\n",
        "\n",
        "for i in tqdm(range(0, len(aux))):\n",
        "    razon = 0.5\n",
        "    cuenta = np.floor(aux.shape[1]*razon).astype('int16')\n",
        "    \n",
        "    indices_aumentados = np.random.choice(aux.shape[1], cuenta, replace=False)\n",
        "    indices_aumentados.sort()\n",
        "    \n",
        "    indices = np.where(np.logical_not(np.in1d(a, indices_aumentados)))[0]\n",
        "        \n",
        "    dfaumentado.iloc[i, indices] = df.iloc[i, indices]\n",
        "    indicesaleatorios = np.random.choice(len(aux), len(indices_aumentados), replace=True)\n",
        "        \n",
        "    for n, j in enumerate(indices_aumentados):\n",
        "        dfaumentado.iloc[i, j] = aux.iloc[indicesaleatorios[n], j]\n",
        "\n",
        "print(dfaumentado)"
      ],
      "metadata": {
        "colab": {
          "base_uri": "https://localhost:8080/",
          "height": 364,
          "referenced_widgets": [
            "3e1e2b0e64ea4b9e9858ce50aec86c29",
            "abced2a6f64d48eaa993cec1470c17fe",
            "eaf8901aa85b4cdfbbea53954b27b328",
            "020734b454884763a3e2e08376eeb03a",
            "8a9a10b55b834ea39e34faf377ff9169",
            "b2a853dd621e4eed840e2ce873e07de4",
            "8b396ab615484e258c91e198af73a2b9",
            "2ead79fbda1a4339af53dacc7fdf5959",
            "d98b06d97132467fb75cb9f315878ed5",
            "5ace5664f0394d06ba1474f3127593fa",
            "c9bb16a79225430f88249e826ae94ace"
          ]
        },
        "id": "ZKwFEozG2zbL",
        "outputId": "de4e544a-b1dc-4974-e7c8-5b1f4d141fcb"
      },
      "execution_count": 26,
      "outputs": [
        {
          "output_type": "stream",
          "name": "stderr",
          "text": [
            "/usr/local/lib/python3.7/dist-packages/ipykernel_launcher.py:6: TqdmDeprecationWarning: This function will be removed in tqdm==5.0.0\n",
            "Please use `tqdm.notebook.tqdm` instead of `tqdm.tqdm_notebook`\n",
            "  \n"
          ]
        },
        {
          "output_type": "display_data",
          "data": {
            "text/plain": [
              "  0%|          | 0/181 [00:00<?, ?it/s]"
            ],
            "application/vnd.jupyter.widget-view+json": {
              "version_major": 2,
              "version_minor": 0,
              "model_id": "3e1e2b0e64ea4b9e9858ce50aec86c29"
            }
          },
          "metadata": {}
        },
        {
          "output_type": "stream",
          "name": "stdout",
          "text": [
            "     Price Per Gallon (USD)\n",
            "0                       1.0\n",
            "1                       2.0\n",
            "2                       3.0\n",
            "3                       4.0\n",
            "4                       5.0\n",
            "..                      ...\n",
            "176                   177.0\n",
            "177                   178.0\n",
            "178                   179.0\n",
            "179                   180.0\n",
            "180                   181.0\n",
            "\n",
            "[181 rows x 1 columns]\n"
          ]
        }
      ]
    },
    {
      "cell_type": "code",
      "source": [
        "# ejemplo para generar imágenes con GAN\n",
        "\n",
        "!pip -q install imageio\n",
        "!pip -q install scikit-image\n",
        "!pip install -q git+https://github.com/tensorflow/docs\n",
        "\n",
        "from absl import logging\n",
        "\n",
        "import imageio\n",
        "import PIL.Image\n",
        "import matplotlib.pyplot as plt\n",
        "import numpy as np\n",
        "\n",
        "import tensorflow as tf\n",
        "\n",
        "import tensorflow_hub as hub\n",
        "from tensorflow_docs.vis import embed\n",
        "import time\n",
        "from skimage.transform import resize\n",
        "\n",
        "from google.colab import files\n",
        "\n",
        "from IPython import display\n",
        "from skimage import transform\n",
        "\n",
        "latent_dim = 512\n",
        "\n",
        "def interpolate_hypersphere(v1, v2, num_steps):\n",
        "  v1_norm = tf.norm(v1)\n",
        "  v2_norm = tf.norm(v2)\n",
        "  v2_normalized = v2 * (v1_norm / v2_norm)\n",
        "\n",
        "  vectors = []\n",
        "  for step in range(num_steps):\n",
        "    interpolated = v1 + (v2_normalized - v1) * step / (num_steps - 1)\n",
        "    interpolated_norm = tf.norm(interpolated)\n",
        "    interpolated_normalized = interpolated * (v1_norm / interpolated_norm)\n",
        "    vectors.append(interpolated_normalized)\n",
        "  return tf.stack(vectors)\n",
        "\n",
        "def display_image(image):\n",
        "  image = tf.constant(image)\n",
        "  image = tf.image.convert_image_dtype(image, tf.uint8)\n",
        "  return PIL.Image.fromarray(image.numpy())\n",
        "\n",
        "def animate(images):\n",
        "  images = np.array(images)\n",
        "  converted_images = np.clip(images * 255, 0, 255).astype(np.uint8)\n",
        "  imageio.mimsave('./animation.gif', converted_images)\n",
        "  return embed.embed_file('./animation.gif')\n",
        "\n",
        "logging.set_verbosity(logging.ERROR)"
      ],
      "metadata": {
        "id": "iq-z6mHs7mWb"
      },
      "execution_count": null,
      "outputs": []
    },
    {
      "cell_type": "code",
      "source": [
        "progan = hub.load(\"https://tfhub.dev/google/progan-128/1\").signatures['default']\n",
        "def get_module_space_image():\n",
        "  vector = tf.random.normal([1, latent_dim])\n",
        "  images = progan(vector)['default'][0]\n",
        "  return images\n",
        "\n",
        "def upload_image():\n",
        "  uploaded = files.upload()\n",
        "  image = imageio.imread(uploaded[list(uploaded.keys())[0]])\n",
        "  return transform.resize(image, [128, 128])\n",
        "\n",
        "target_image = upload_image()\n",
        "display_image(target_image)"
      ],
      "metadata": {
        "id": "fdzoR_HGAHVu"
      },
      "execution_count": null,
      "outputs": []
    },
    {
      "cell_type": "code",
      "source": [
        "tf.random.set_seed(4321)\n",
        "initial_vector = tf.random.normal([1, latent_dim])\n",
        "display_image(progan(initial_vector)['default'][0])"
      ],
      "metadata": {
        "id": "2KHoGCsMAKG3"
      },
      "execution_count": null,
      "outputs": []
    },
    {
      "cell_type": "code",
      "source": [
        "def find_closest_latent_vector(initial_vector, num_optimization_steps, steps_per_image):\n",
        "  images = []\n",
        "  losses = []\n",
        "\n",
        "  vector = tf.Variable(initial_vector)  \n",
        "  optimizer = tf.optimizers.Adam(learning_rate=0.01)\n",
        "  loss_fn = tf.losses.MeanAbsoluteError(reduction=\"sum\")\n",
        "\n",
        "  for step in range(num_optimization_steps):\n",
        "    if (step % 100)==0:\n",
        "      print()\n",
        "    print('.', end='')\n",
        "    with tf.GradientTape() as tape:\n",
        "      image = progan(vector.read_value())['default'][0]\n",
        "      if (step % steps_per_image) == 0:\n",
        "        images.append(image.numpy())\n",
        "      loss = loss_fn(image, target_image[:,:,:3])\n",
        "      losses.append(loss.numpy())\n",
        "    grads = tape.gradient(loss, [vector])\n",
        "    optimizer.apply_gradients(zip(grads, [vector]))\n",
        "\n",
        "  return images, losses\n",
        "\n",
        "\n",
        "num_optimization_steps=10000\n",
        "steps_per_image=100\n",
        "images, loss = find_closest_latent_vector(initial_vector, num_optimization_steps, steps_per_image)\n"
      ],
      "metadata": {
        "id": "vxqM6o38AP7K"
      },
      "execution_count": null,
      "outputs": []
    },
    {
      "cell_type": "code",
      "source": [
        "animate(np.stack(images))"
      ],
      "metadata": {
        "id": "rdPihmXiAS0q"
      },
      "execution_count": null,
      "outputs": []
    },
    {
      "cell_type": "code",
      "source": [
        "plt.plot(loss)\n",
        "plt.xlabel(\"Epoca\")\n",
        "plt.ylabel(\"Costo\")\n",
        "plt.grid(True)\n",
        "plt.ylim([0,max(plt.ylim())])\n",
        "plt.show()\n",
        "\n",
        "display_image(np.concatenate([images[-1], target_image], axis=1))"
      ],
      "metadata": {
        "id": "ltZzCBCJATeG"
      },
      "execution_count": null,
      "outputs": []
    }
  ]
}