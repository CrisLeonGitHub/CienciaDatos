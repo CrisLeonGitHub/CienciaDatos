{
 "cells": [
  {
   "cell_type": "code",
   "execution_count": 30,
   "metadata": {},
   "outputs": [],
   "source": [
    "#Importamos librerias\n",
    "import numpy as np\n",
    "import matplotlib.pyplot as plt\n",
    "import pandas as pd        \n",
    "import seaborn as sns\n",
    "import keras #Wrapper de tensorflow (pytorch)\n",
    "from sklearn import linear_model\n",
    "from sklearn.preprocessing import LabelEncoder, OneHotEncoder, StandardScaler\n",
    "from sklearn.model_selection import train_test_split\n",
    "from sklearn.metrics import confusion_matrix,accuracy_score\n",
    "from keras.models import Sequential\n",
    "from keras.layers import Dense #Full-connected\n",
    "%matplotlib inline     \n",
    "sns.set(color_codes=True)"
   ]
  },
  {
   "cell_type": "code",
   "execution_count": 31,
   "metadata": {},
   "outputs": [],
   "source": [
    "#Cargamos el CSV\n",
    "df = pd.read_csv('emisiones_co2.csv')"
   ]
  },
  {
   "cell_type": "code",
   "execution_count": 34,
   "metadata": {},
   "outputs": [],
   "source": [
    "#Agregamos funcion para  que calcule si el indice de C02 cumple la normativa esperada\n",
    "def ValidaNormativa(intCO2Vehiculo):\n",
    "\n",
    "\n",
    "    intcumple = 0\n",
    "    intCE02Norma=df[\"CO2\"].median()#Cambiar por valor entregado, considerar mas columnas\n",
    "    if (intCO2Vehiculo<=intCE02Norma):\n",
    "        intcumple=1\n",
    "    else:\n",
    "        intcumple=0\n",
    "\n",
    "    return intcumple\n"
   ]
  },
  {
   "cell_type": "code",
   "execution_count": 35,
   "metadata": {},
   "outputs": [],
   "source": [
    "#Agregamos la nueva columna para validar si cumple la normativa esperada\n",
    "#Remplazamos peso en blanco por mediana\n",
    "\n",
    "df['Volume']=df['Volume'].replace(0,df['Volume'].mean())\n",
    "\n",
    "df[\"CumpleNormativa\"] =df.apply(lambda x: ValidaNormativa(x[\"CO2\"]),axis=1)\n",
    "\n"
   ]
  },
  {
   "cell_type": "code",
   "execution_count": 36,
   "metadata": {},
   "outputs": [
    {
     "data": {
      "text/html": [
       "<div>\n",
       "<style scoped>\n",
       "    .dataframe tbody tr th:only-of-type {\n",
       "        vertical-align: middle;\n",
       "    }\n",
       "\n",
       "    .dataframe tbody tr th {\n",
       "        vertical-align: top;\n",
       "    }\n",
       "\n",
       "    .dataframe thead th {\n",
       "        text-align: right;\n",
       "    }\n",
       "</style>\n",
       "<table border=\"1\" class=\"dataframe\">\n",
       "  <thead>\n",
       "    <tr style=\"text-align: right;\">\n",
       "      <th></th>\n",
       "      <th>Car</th>\n",
       "      <th>Model</th>\n",
       "      <th>Volume</th>\n",
       "      <th>Weight</th>\n",
       "      <th>CO2</th>\n",
       "      <th>CumpleNormativa</th>\n",
       "    </tr>\n",
       "  </thead>\n",
       "  <tbody>\n",
       "    <tr>\n",
       "      <th>0</th>\n",
       "      <td>Toyota</td>\n",
       "      <td>Aygo</td>\n",
       "      <td>1000</td>\n",
       "      <td>790</td>\n",
       "      <td>99</td>\n",
       "      <td>1</td>\n",
       "    </tr>\n",
       "    <tr>\n",
       "      <th>1</th>\n",
       "      <td>Mitsubishi</td>\n",
       "      <td>Space Star</td>\n",
       "      <td>1200</td>\n",
       "      <td>1160</td>\n",
       "      <td>95</td>\n",
       "      <td>1</td>\n",
       "    </tr>\n",
       "    <tr>\n",
       "      <th>2</th>\n",
       "      <td>Skoda</td>\n",
       "      <td>Citigo</td>\n",
       "      <td>1000</td>\n",
       "      <td>929</td>\n",
       "      <td>95</td>\n",
       "      <td>1</td>\n",
       "    </tr>\n",
       "    <tr>\n",
       "      <th>3</th>\n",
       "      <td>Fiat</td>\n",
       "      <td>500</td>\n",
       "      <td>900</td>\n",
       "      <td>865</td>\n",
       "      <td>90</td>\n",
       "      <td>1</td>\n",
       "    </tr>\n",
       "    <tr>\n",
       "      <th>4</th>\n",
       "      <td>Mini</td>\n",
       "      <td>Cooper</td>\n",
       "      <td>1500</td>\n",
       "      <td>1140</td>\n",
       "      <td>105</td>\n",
       "      <td>1</td>\n",
       "    </tr>\n",
       "    <tr>\n",
       "      <th>...</th>\n",
       "      <td>...</td>\n",
       "      <td>...</td>\n",
       "      <td>...</td>\n",
       "      <td>...</td>\n",
       "      <td>...</td>\n",
       "      <td>...</td>\n",
       "    </tr>\n",
       "    <tr>\n",
       "      <th>1949</th>\n",
       "      <td>Faw</td>\n",
       "      <td>X80 2.0 Lts. DOHC Station Wagon 5P. T/A Motor ...</td>\n",
       "      <td>2000</td>\n",
       "      <td>1701</td>\n",
       "      <td>205</td>\n",
       "      <td>0</td>\n",
       "    </tr>\n",
       "    <tr>\n",
       "      <th>1950</th>\n",
       "      <td>Fiat</td>\n",
       "      <td>500 Abarth 595 Competizione T-Jet 1.4 Lts. DOH...</td>\n",
       "      <td>1400</td>\n",
       "      <td>1701</td>\n",
       "      <td>155</td>\n",
       "      <td>1</td>\n",
       "    </tr>\n",
       "    <tr>\n",
       "      <th>1951</th>\n",
       "      <td>Opel</td>\n",
       "      <td>Adam 1.4 Lts. DOHC Hatch Back 3P. T/M Motor Otto</td>\n",
       "      <td>1400</td>\n",
       "      <td>1474</td>\n",
       "      <td>129</td>\n",
       "      <td>1</td>\n",
       "    </tr>\n",
       "    <tr>\n",
       "      <th>1952</th>\n",
       "      <td>Porsche</td>\n",
       "      <td>Boxster GTS 3.4 Lts. DOHC Cabriolet 2P T/A Mot...</td>\n",
       "      <td>3400</td>\n",
       "      <td>1474</td>\n",
       "      <td>195</td>\n",
       "      <td>0</td>\n",
       "    </tr>\n",
       "    <tr>\n",
       "      <th>1953</th>\n",
       "      <td>BMW</td>\n",
       "      <td>X4 xDrive35i 3.0 Lts. DOHC Station Wagon 5P. 4...</td>\n",
       "      <td>3000</td>\n",
       "      <td>1701</td>\n",
       "      <td>193</td>\n",
       "      <td>0</td>\n",
       "    </tr>\n",
       "  </tbody>\n",
       "</table>\n",
       "<p>1954 rows × 6 columns</p>\n",
       "</div>"
      ],
      "text/plain": [
       "             Car                                              Model  Volume  \\\n",
       "0         Toyota                                               Aygo    1000   \n",
       "1     Mitsubishi                                         Space Star    1200   \n",
       "2          Skoda                                             Citigo    1000   \n",
       "3           Fiat                                                500     900   \n",
       "4           Mini                                             Cooper    1500   \n",
       "...          ...                                                ...     ...   \n",
       "1949         Faw  X80 2.0 Lts. DOHC Station Wagon 5P. T/A Motor ...    2000   \n",
       "1950        Fiat  500 Abarth 595 Competizione T-Jet 1.4 Lts. DOH...    1400   \n",
       "1951        Opel   Adam 1.4 Lts. DOHC Hatch Back 3P. T/M Motor Otto    1400   \n",
       "1952     Porsche  Boxster GTS 3.4 Lts. DOHC Cabriolet 2P T/A Mot...    3400   \n",
       "1953         BMW  X4 xDrive35i 3.0 Lts. DOHC Station Wagon 5P. 4...    3000   \n",
       "\n",
       "      Weight  CO2  CumpleNormativa  \n",
       "0        790   99                1  \n",
       "1       1160   95                1  \n",
       "2        929   95                1  \n",
       "3        865   90                1  \n",
       "4       1140  105                1  \n",
       "...      ...  ...              ...  \n",
       "1949    1701  205                0  \n",
       "1950    1701  155                1  \n",
       "1951    1474  129                1  \n",
       "1952    1474  195                0  \n",
       "1953    1701  193                0  \n",
       "\n",
       "[1954 rows x 6 columns]"
      ]
     },
     "execution_count": 36,
     "metadata": {},
     "output_type": "execute_result"
    }
   ],
   "source": []
  },
  {
   "cell_type": "code",
   "execution_count": 47,
   "metadata": {},
   "outputs": [
    {
     "data": {
      "text/plain": [
       "<AxesSubplot:xlabel='Volume'>"
      ]
     },
     "execution_count": 47,
     "metadata": {},
     "output_type": "execute_result"
    },
    {
     "data": {
      "image/png": "[encoded data removed]",
      "text/plain": [
       "<Figure size 432x288 with 1 Axes>"
      ]
     },
     "metadata": {},
     "output_type": "display_data"
    }
   ],
   "source": [
    "#Revisión outliner\n",
    "sns.boxplot(x=df['Volume'])"
   ]
  },
  {
   "cell_type": "code",
   "execution_count": 48,
   "metadata": {},
   "outputs": [
    {
     "data": {
      "text/plain": [
       "<AxesSubplot:xlabel='Weight'>"
      ]
     },
     "execution_count": 48,
     "metadata": {},
     "output_type": "execute_result"
    },
    {
     "data": {
      "image/png": "[encoded data removed]",
      "text/plain": [
       "<Figure size 432x288 with 1 Axes>"
      ]
     },
     "metadata": {},
     "output_type": "display_data"
    }
   ],
   "source": [
    "#Revisión outliner\n",
    "sns.boxplot(x=df['Weight'])"
   ]
  },
  {
   "cell_type": "code",
   "execution_count": 49,
   "metadata": {},
   "outputs": [
    {
     "data": {
      "text/plain": [
       "<AxesSubplot:xlabel='CO2'>"
      ]
     },
     "execution_count": 49,
     "metadata": {},
     "output_type": "execute_result"
    },
    {
     "data": {
      "image/png": "[encoded data removed]",
      "text/plain": [
       "<Figure size 432x288 with 1 Axes>"
      ]
     },
     "metadata": {},
     "output_type": "display_data"
    }
   ],
   "source": [
    "#Revisión outliner\n",
    "sns.boxplot(x=df['CO2'])  "
   ]
  },
  {
   "cell_type": "code",
   "execution_count": 50,
   "metadata": {},
   "outputs": [
    {
     "name": "stdout",
     "output_type": "stream",
     "text": [
      "Volume             400.0\n",
      "Weight             341.0\n",
      "CO2                 47.0\n",
      "CumpleNormativa      1.0\n",
      "dtype: float64\n"
     ]
    }
   ],
   "source": [
    "Q1 = df.quantile(0.25)\n",
    "Q3 = df.quantile(0.75)\n",
    "IQR = Q3 - Q1\n",
    "print(IQR)"
   ]
  },
  {
   "cell_type": "code",
   "execution_count": 51,
   "metadata": {},
   "outputs": [
    {
     "name": "stderr",
     "output_type": "stream",
     "text": [
      "C:\\Users\\Eric Hutchinson\\AppData\\Local\\Temp\\ipykernel_2224\\4147643536.py:1: FutureWarning: Automatic reindexing on DataFrame vs Series comparisons is deprecated and will raise ValueError in a future version. Do `left, right = left.align(right, axis=1, copy=False)` before e.g. `left == right`\n",
      "  df = df[~((df < (Q1 - 1.5 * IQR)) |(df > (Q3 + 1.5 * IQR))).any(axis=1)]\n"
     ]
    },
    {
     "data": {
      "text/plain": [
       "(1532, 6)"
      ]
     },
     "execution_count": 51,
     "metadata": {},
     "output_type": "execute_result"
    }
   ],
   "source": [
    "df = df[~((df < (Q1 - 1.5 * IQR)) |(df > (Q3 + 1.5 * IQR))).any(axis=1)]\n",
    "df.shape"
   ]
  },
  {
   "cell_type": "code",
   "execution_count": 52,
   "metadata": {},
   "outputs": [],
   "source": [
    "X = df.iloc[:, 0:5].values #Primera columnas, no consideramos si cumple normativa o no\n",
    "y = df.iloc[:, 5].values #Ultima columna para ver si cumple normativa\n",
    "Le_Car = LabelEncoder()\n",
    "X[:, 0] = Le_Car.fit_transform(X[:, 0])\n",
    "Le_Model = LabelEncoder()\n",
    "X[:, 1] = Le_Model.fit_transform(X[:, 1])\n",
    "# ohe = OneHotEncoder(categorical_features=[1])\n",
    "# X = ohe.fit_transform(X).toarray()\n",
    "# # evitar trampa de variable irrrelevante ;)\n",
    "# X = X[:, 1:]\n"
   ]
  },
  {
   "cell_type": "code",
   "execution_count": 54,
   "metadata": {},
   "outputs": [],
   "source": [
    "\n",
    "X_train, X_test, y_train, y_test = train_test_split(X, y, test_size=0.2, random_state=0)\n",
    "# print(X_train.shape)\n",
    "# print(X_test-shape)\n",
    "# 1). Hold-out: Dividir data de forma random en training-test (data muy grande)\n",
    "# 2). (Stratified)K-Cross-Validation: Dividir data de forma random en K particiones balanceadas, se toman k-1 para training test y la restante para (data pequeña (100 datos) - grande) - [K Random Hold-Out ]\n",
    "# 3). Leave-One-Out=K-CV con K=N. [muy pocos datos]. Discutido si es mejor que K-CV HW: Bootstrapping"
   ]
  },
  {
   "cell_type": "code",
   "execution_count": 44,
   "metadata": {},
   "outputs": [],
   "source": [
    "\n",
    "sc = StandardScaler() #normalizacion Z\n",
    "X_train = sc.fit_transform(X_train)\n",
    "X_test = sc.transform(X_test)\n",
    "#print(X_train)"
   ]
  },
  {
   "cell_type": "code",
   "execution_count": 45,
   "metadata": {},
   "outputs": [],
   "source": [
    "# Crear clasificador ANN\n",
    "classifier = Sequential()\n",
    "# una regla de dedo gordo para determinar numero de nodos en capas ocultas (al comienzo) \n",
    "# es usar el promedio de numero de nodos de entrada y salida\n",
    "classifier.add(Dense(units=6, input_dim=5, kernel_initializer='uniform', activation='relu')) #5 = numero de columnas\n",
    "# agregar segunda capa oculta\n",
    "classifier.add(Dense(units=6, kernel_initializer='uniform', activation='relu'))\n",
    "# capa de salida\n",
    "# en este caso usar como funcion de activacion sigmoide ya que requerimos tener probabilidades de salida\n",
    "classifier.add(Dense(units=1, kernel_initializer='uniform', activation='sigmoid')) #Linear->regresion, relu->regresion (valores positivos)\n",
    "# compile clasificador\n",
    "# adam es una variante adaptiva de SGD\n",
    "# crossentropy es la funcion de costo logaritmica de raices de Information Theory, para clasificacion binaria use 'binary_crossentropy' \n",
    "# para clasificacion multiclase use 'categorical_crossentropy'\n",
    "classifier.compile(optimizer='adam', loss='binary_crossentropy', metrics=['accuracy'])"
   ]
  },
  {
   "cell_type": "code",
   "execution_count": 46,
   "metadata": {},
   "outputs": [
    {
     "name": "stdout",
     "output_type": "stream",
     "text": [
      "Epoch 1/100\n",
      "141/141 [==============================] - 1s 1ms/step - loss: 0.6780 - accuracy: 0.7192\n",
      "Epoch 2/100\n",
      "141/141 [==============================] - 0s 1ms/step - loss: 0.4921 - accuracy: 0.9073\n",
      "Epoch 3/100\n",
      "141/141 [==============================] - 0s 1ms/step - loss: 0.2731 - accuracy: 0.9152\n",
      "Epoch 4/100\n",
      "141/141 [==============================] - 0s 1ms/step - loss: 0.1801 - accuracy: 0.9330\n",
      "Epoch 5/100\n",
      "141/141 [==============================] - 0s 1ms/step - loss: 0.1306 - accuracy: 0.9608\n",
      "Epoch 6/100\n",
      "141/141 [==============================] - 0s 1ms/step - loss: 0.0984 - accuracy: 0.9743\n",
      "Epoch 7/100\n",
      "141/141 [==============================] - 0s 1ms/step - loss: 0.0776 - accuracy: 0.9857\n",
      "Epoch 8/100\n",
      "141/141 [==============================] - 0s 1ms/step - loss: 0.0643 - accuracy: 0.9872\n",
      "Epoch 9/100\n",
      "141/141 [==============================] - 0s 1ms/step - loss: 0.0556 - accuracy: 0.9922\n",
      "Epoch 10/100\n",
      "141/141 [==============================] - 0s 994us/step - loss: 0.0492 - accuracy: 0.9936\n",
      "Epoch 11/100\n",
      "141/141 [==============================] - 0s 977us/step - loss: 0.0443 - accuracy: 0.9936\n",
      "Epoch 12/100\n",
      "141/141 [==============================] - 0s 1ms/step - loss: 0.0403 - accuracy: 0.9950\n",
      "Epoch 13/100\n",
      "141/141 [==============================] - 0s 977us/step - loss: 0.0371 - accuracy: 0.9971\n",
      "Epoch 14/100\n",
      "141/141 [==============================] - 0s 1ms/step - loss: 0.0342 - accuracy: 0.9950\n",
      "Epoch 15/100\n",
      "141/141 [==============================] - 0s 1ms/step - loss: 0.0319 - accuracy: 0.9964\n",
      "Epoch 16/100\n",
      "141/141 [==============================] - 0s 1ms/step - loss: 0.0291 - accuracy: 0.9957\n",
      "Epoch 17/100\n",
      "141/141 [==============================] - 0s 1ms/step - loss: 0.0281 - accuracy: 0.9943\n",
      "Epoch 18/100\n",
      "141/141 [==============================] - 0s 1ms/step - loss: 0.0259 - accuracy: 0.9971\n",
      "Epoch 19/100\n",
      "141/141 [==============================] - 0s 1ms/step - loss: 0.0248 - accuracy: 0.9971\n",
      "Epoch 20/100\n",
      "141/141 [==============================] - 0s 1ms/step - loss: 0.0230 - accuracy: 0.9964\n",
      "Epoch 21/100\n",
      "141/141 [==============================] - 0s 1ms/step - loss: 0.0222 - accuracy: 0.9964\n",
      "Epoch 22/100\n",
      "141/141 [==============================] - 0s 1ms/step - loss: 0.0210 - accuracy: 0.9971\n",
      "Epoch 23/100\n",
      "141/141 [==============================] - 0s 1ms/step - loss: 0.0197 - accuracy: 0.9979\n",
      "Epoch 24/100\n",
      "141/141 [==============================] - 0s 993us/step - loss: 0.0191 - accuracy: 0.9979\n",
      "Epoch 25/100\n",
      "141/141 [==============================] - 0s 998us/step - loss: 0.0181 - accuracy: 0.9971\n",
      "Epoch 26/100\n",
      "141/141 [==============================] - 0s 1ms/step - loss: 0.0169 - accuracy: 0.9979\n",
      "Epoch 27/100\n",
      "141/141 [==============================] - 0s 1ms/step - loss: 0.0158 - accuracy: 0.9993\n",
      "Epoch 28/100\n",
      "141/141 [==============================] - 0s 1ms/step - loss: 0.0156 - accuracy: 0.9964\n",
      "Epoch 29/100\n",
      "141/141 [==============================] - 0s 1ms/step - loss: 0.0146 - accuracy: 0.9979\n",
      "Epoch 30/100\n",
      "141/141 [==============================] - 0s 1ms/step - loss: 0.0143 - accuracy: 0.9986\n",
      "Epoch 31/100\n",
      "141/141 [==============================] - 0s 1ms/step - loss: 0.0137 - accuracy: 0.9964\n",
      "Epoch 32/100\n",
      "141/141 [==============================] - 0s 2ms/step - loss: 0.0131 - accuracy: 0.9971\n",
      "Epoch 33/100\n",
      "141/141 [==============================] - 0s 1ms/step - loss: 0.0124 - accuracy: 0.9986\n",
      "Epoch 34/100\n",
      "141/141 [==============================] - 0s 2ms/step - loss: 0.0122 - accuracy: 0.9971\n",
      "Epoch 35/100\n",
      "141/141 [==============================] - 0s 1ms/step - loss: 0.0113 - accuracy: 0.9979\n",
      "Epoch 36/100\n",
      "141/141 [==============================] - 0s 1ms/step - loss: 0.0113 - accuracy: 0.9986\n",
      "Epoch 37/100\n",
      "141/141 [==============================] - 0s 999us/step - loss: 0.0108 - accuracy: 0.9993\n",
      "Epoch 38/100\n",
      "141/141 [==============================] - 0s 991us/step - loss: 0.0106 - accuracy: 0.9986\n",
      "Epoch 39/100\n",
      "141/141 [==============================] - 0s 1ms/step - loss: 0.0098 - accuracy: 0.9979\n",
      "Epoch 40/100\n",
      "141/141 [==============================] - 0s 974us/step - loss: 0.0093 - accuracy: 0.9993\n",
      "Epoch 41/100\n",
      "141/141 [==============================] - 0s 994us/step - loss: 0.0092 - accuracy: 0.9986\n",
      "Epoch 42/100\n",
      "141/141 [==============================] - 0s 1ms/step - loss: 0.0087 - accuracy: 0.9986\n",
      "Epoch 43/100\n",
      "141/141 [==============================] - 0s 1ms/step - loss: 0.0083 - accuracy: 1.0000\n",
      "Epoch 44/100\n",
      "141/141 [==============================] - 0s 1ms/step - loss: 0.0088 - accuracy: 0.9979\n",
      "Epoch 45/100\n",
      "141/141 [==============================] - 0s 1ms/step - loss: 0.0078 - accuracy: 0.9986\n",
      "Epoch 46/100\n",
      "141/141 [==============================] - 0s 1ms/step - loss: 0.0078 - accuracy: 0.9993\n",
      "Epoch 47/100\n",
      "141/141 [==============================] - 0s 1ms/step - loss: 0.0067 - accuracy: 0.9993\n",
      "Epoch 48/100\n",
      "141/141 [==============================] - 0s 1ms/step - loss: 0.0076 - accuracy: 0.9986\n",
      "Epoch 49/100\n",
      "141/141 [==============================] - 0s 1ms/step - loss: 0.0074 - accuracy: 0.9979\n",
      "Epoch 50/100\n",
      "141/141 [==============================] - 0s 1ms/step - loss: 0.0067 - accuracy: 0.9986\n",
      "Epoch 51/100\n",
      "141/141 [==============================] - 0s 1ms/step - loss: 0.0065 - accuracy: 0.9993\n",
      "Epoch 52/100\n",
      "141/141 [==============================] - 0s 1ms/step - loss: 0.0065 - accuracy: 1.0000\n",
      "Epoch 53/100\n",
      "141/141 [==============================] - 0s 1ms/step - loss: 0.0063 - accuracy: 1.0000\n",
      "Epoch 54/100\n",
      "141/141 [==============================] - 0s 996us/step - loss: 0.0058 - accuracy: 1.0000\n",
      "Epoch 55/100\n",
      "141/141 [==============================] - 0s 1ms/step - loss: 0.0061 - accuracy: 0.9986\n",
      "Epoch 56/100\n",
      "141/141 [==============================] - 0s 1ms/step - loss: 0.0061 - accuracy: 0.9993\n",
      "Epoch 57/100\n",
      "141/141 [==============================] - 0s 1ms/step - loss: 0.0058 - accuracy: 0.9986\n",
      "Epoch 58/100\n",
      "141/141 [==============================] - 0s 1ms/step - loss: 0.0052 - accuracy: 0.9993\n",
      "Epoch 59/100\n",
      "141/141 [==============================] - 0s 1ms/step - loss: 0.0050 - accuracy: 1.0000\n",
      "Epoch 60/100\n",
      "141/141 [==============================] - 0s 1ms/step - loss: 0.0048 - accuracy: 1.0000\n",
      "Epoch 61/100\n",
      "141/141 [==============================] - 0s 958us/step - loss: 0.0049 - accuracy: 1.0000\n",
      "Epoch 62/100\n",
      "141/141 [==============================] - 0s 1ms/step - loss: 0.0048 - accuracy: 1.0000\n",
      "Epoch 63/100\n",
      "141/141 [==============================] - 0s 969us/step - loss: 0.0046 - accuracy: 1.0000\n",
      "Epoch 64/100\n",
      "141/141 [==============================] - 0s 951us/step - loss: 0.0044 - accuracy: 1.0000\n",
      "Epoch 65/100\n",
      "141/141 [==============================] - 0s 990us/step - loss: 0.0044 - accuracy: 1.0000\n",
      "Epoch 66/100\n",
      "141/141 [==============================] - 0s 975us/step - loss: 0.0045 - accuracy: 1.0000\n",
      "Epoch 67/100\n",
      "141/141 [==============================] - 0s 1ms/step - loss: 0.0042 - accuracy: 0.9993\n",
      "Epoch 68/100\n",
      "141/141 [==============================] - 0s 1ms/step - loss: 0.0040 - accuracy: 1.0000\n",
      "Epoch 69/100\n",
      "141/141 [==============================] - 0s 1ms/step - loss: 0.0037 - accuracy: 0.9993\n",
      "Epoch 70/100\n",
      "141/141 [==============================] - 0s 1ms/step - loss: 0.0038 - accuracy: 1.0000\n",
      "Epoch 71/100\n",
      "141/141 [==============================] - 0s 1ms/step - loss: 0.0037 - accuracy: 1.0000\n",
      "Epoch 72/100\n",
      "141/141 [==============================] - 0s 1ms/step - loss: 0.0038 - accuracy: 1.0000\n",
      "Epoch 73/100\n",
      "141/141 [==============================] - 0s 1ms/step - loss: 0.0036 - accuracy: 1.0000\n",
      "Epoch 74/100\n",
      "141/141 [==============================] - 0s 1ms/step - loss: 0.0030 - accuracy: 1.0000\n",
      "Epoch 75/100\n",
      "141/141 [==============================] - 0s 1ms/step - loss: 0.0033 - accuracy: 1.0000\n",
      "Epoch 76/100\n",
      "141/141 [==============================] - 0s 1ms/step - loss: 0.0033 - accuracy: 1.0000\n",
      "Epoch 77/100\n",
      "141/141 [==============================] - 0s 992us/step - loss: 0.0031 - accuracy: 1.0000\n",
      "Epoch 78/100\n",
      "141/141 [==============================] - 0s 1ms/step - loss: 0.0032 - accuracy: 1.0000\n",
      "Epoch 79/100\n",
      "141/141 [==============================] - 0s 1ms/step - loss: 0.0030 - accuracy: 1.0000\n",
      "Epoch 80/100\n",
      "141/141 [==============================] - 0s 1ms/step - loss: 0.0031 - accuracy: 1.0000\n",
      "Epoch 81/100\n",
      "141/141 [==============================] - 0s 1ms/step - loss: 0.0027 - accuracy: 1.0000\n",
      "Epoch 82/100\n",
      "141/141 [==============================] - 0s 1ms/step - loss: 0.0027 - accuracy: 1.0000\n",
      "Epoch 83/100\n",
      "141/141 [==============================] - 0s 1ms/step - loss: 0.0026 - accuracy: 1.0000\n",
      "Epoch 84/100\n",
      "141/141 [==============================] - 0s 1ms/step - loss: 0.0027 - accuracy: 1.0000\n",
      "Epoch 85/100\n",
      "141/141 [==============================] - 0s 1ms/step - loss: 0.0028 - accuracy: 1.0000\n",
      "Epoch 86/100\n",
      "141/141 [==============================] - 0s 1ms/step - loss: 0.0026 - accuracy: 1.0000\n",
      "Epoch 87/100\n",
      "141/141 [==============================] - 0s 1ms/step - loss: 0.0022 - accuracy: 1.0000\n",
      "Epoch 88/100\n",
      "141/141 [==============================] - 0s 1ms/step - loss: 0.0025 - accuracy: 1.0000\n",
      "Epoch 89/100\n",
      "141/141 [==============================] - 0s 1ms/step - loss: 0.0021 - accuracy: 1.0000\n",
      "Epoch 90/100\n",
      "141/141 [==============================] - 0s 986us/step - loss: 0.0020 - accuracy: 1.0000\n",
      "Epoch 91/100\n",
      "141/141 [==============================] - 0s 1ms/step - loss: 0.0022 - accuracy: 1.0000\n",
      "Epoch 92/100\n",
      "141/141 [==============================] - 0s 1ms/step - loss: 0.0021 - accuracy: 1.0000\n",
      "Epoch 93/100\n",
      "141/141 [==============================] - 0s 1ms/step - loss: 0.0021 - accuracy: 1.0000\n",
      "Epoch 94/100\n",
      "141/141 [==============================] - 0s 1ms/step - loss: 0.0017 - accuracy: 1.0000\n",
      "Epoch 95/100\n",
      "141/141 [==============================] - 0s 1ms/step - loss: 0.0027 - accuracy: 1.0000\n",
      "Epoch 96/100\n",
      "141/141 [==============================] - 0s 1ms/step - loss: 0.0017 - accuracy: 1.0000\n",
      "Epoch 97/100\n",
      "141/141 [==============================] - 0s 1ms/step - loss: 0.0016 - accuracy: 1.0000\n",
      "Epoch 98/100\n",
      "141/141 [==============================] - 0s 1ms/step - loss: 0.0018 - accuracy: 1.0000\n",
      "Epoch 99/100\n",
      "141/141 [==============================] - 0s 1ms/step - loss: 0.0016 - accuracy: 1.0000\n",
      "Epoch 100/100\n",
      "141/141 [==============================] - 0s 1ms/step - loss: 0.0015 - accuracy: 1.0000\n"
     ]
    },
    {
     "data": {
      "text/plain": [
       "<keras.callbacks.History at 0x1812ab5b220>"
      ]
     },
     "execution_count": 46,
     "metadata": {},
     "output_type": "execute_result"
    }
   ],
   "source": [
    "classifier.fit(X_train, y_train, epochs=100, batch_size=10)"
   ]
  },
  {
   "cell_type": "code",
   "execution_count": 108,
   "metadata": {},
   "outputs": [
    {
     "name": "stdout",
     "output_type": "stream",
     "text": [
      "1/1 [==============================] - 0s 40ms/step\n",
      "[[10  0]\n",
      " [ 0 17]]\n"
     ]
    }
   ],
   "source": [
    "y_pred = classifier.predict(X_train)\n",
    "y_pred = (y_pred > 0.5)\n",
    "print(confusion_matrix(y_train, y_pred))"
   ]
  },
  {
   "cell_type": "code",
   "execution_count": 109,
   "metadata": {},
   "outputs": [
    {
     "name": "stdout",
     "output_type": "stream",
     "text": [
      "1.0\n"
     ]
    }
   ],
   "source": [
    "print(accuracy_score(y_train,y_pred))"
   ]
  },
  {
   "cell_type": "code",
   "execution_count": 110,
   "metadata": {},
   "outputs": [
    {
     "name": "stdout",
     "output_type": "stream",
     "text": [
      "1/1 [==============================] - 0s 15ms/step\n",
      "[[5 0]\n",
      " [0 2]]\n",
      "1.0\n"
     ]
    }
   ],
   "source": [
    "y_predt = classifier.predict(X_test)\n",
    "y_predt = (y_predt > 0.5)\n",
    "print(confusion_matrix(y_test, y_predt))\n",
    "print(accuracy_score(y_test,y_predt))"
   ]
  },
  {
   "cell_type": "code",
   "execution_count": 111,
   "metadata": {},
   "outputs": [
    {
     "data": {
      "text/html": [
       "<div>\n",
       "<style scoped>\n",
       "    .dataframe tbody tr th:only-of-type {\n",
       "        vertical-align: middle;\n",
       "    }\n",
       "\n",
       "    .dataframe tbody tr th {\n",
       "        vertical-align: top;\n",
       "    }\n",
       "\n",
       "    .dataframe thead th {\n",
       "        text-align: right;\n",
       "    }\n",
       "</style>\n",
       "<table border=\"1\" class=\"dataframe\">\n",
       "  <thead>\n",
       "    <tr style=\"text-align: right;\">\n",
       "      <th></th>\n",
       "      <th>Car</th>\n",
       "      <th>Model</th>\n",
       "      <th>Volume</th>\n",
       "      <th>Weight</th>\n",
       "      <th>CO2</th>\n",
       "      <th>CumpleNormativa</th>\n",
       "    </tr>\n",
       "  </thead>\n",
       "  <tbody>\n",
       "    <tr>\n",
       "      <th>0</th>\n",
       "      <td>Toyota</td>\n",
       "      <td>Aygo</td>\n",
       "      <td>1000</td>\n",
       "      <td>790</td>\n",
       "      <td>99</td>\n",
       "      <td>1</td>\n",
       "    </tr>\n",
       "    <tr>\n",
       "      <th>1</th>\n",
       "      <td>Mitsubishi</td>\n",
       "      <td>Space Star</td>\n",
       "      <td>1200</td>\n",
       "      <td>1160</td>\n",
       "      <td>95</td>\n",
       "      <td>1</td>\n",
       "    </tr>\n",
       "    <tr>\n",
       "      <th>2</th>\n",
       "      <td>Skoda</td>\n",
       "      <td>Citigo</td>\n",
       "      <td>1000</td>\n",
       "      <td>929</td>\n",
       "      <td>95</td>\n",
       "      <td>1</td>\n",
       "    </tr>\n",
       "    <tr>\n",
       "      <th>3</th>\n",
       "      <td>Fiat</td>\n",
       "      <td>500</td>\n",
       "      <td>900</td>\n",
       "      <td>865</td>\n",
       "      <td>90</td>\n",
       "      <td>1</td>\n",
       "    </tr>\n",
       "    <tr>\n",
       "      <th>4</th>\n",
       "      <td>Mini</td>\n",
       "      <td>Cooper</td>\n",
       "      <td>1500</td>\n",
       "      <td>1140</td>\n",
       "      <td>105</td>\n",
       "      <td>0</td>\n",
       "    </tr>\n",
       "  </tbody>\n",
       "</table>\n",
       "</div>"
      ],
      "text/plain": [
       "          Car       Model  Volume  Weight  CO2  CumpleNormativa\n",
       "0      Toyota        Aygo    1000     790   99                1\n",
       "1  Mitsubishi  Space Star    1200    1160   95                1\n",
       "2       Skoda      Citigo    1000     929   95                1\n",
       "3        Fiat         500     900     865   90                1\n",
       "4        Mini      Cooper    1500    1140  105                0"
      ]
     },
     "execution_count": 111,
     "metadata": {},
     "output_type": "execute_result"
    }
   ],
   "source": [
    "df.head()"
   ]
  },
  {
   "cell_type": "code",
   "execution_count": 67,
   "metadata": {},
   "outputs": [
    {
     "data": {
      "text/plain": [
       "<matplotlib.legend.Legend at 0x230d8696e90>"
      ]
     },
     "execution_count": 67,
     "metadata": {},
     "output_type": "execute_result"
    },
    {
     "data": {
      "image/png": "[encoded data removed]",
      "text/plain": [
       "<Figure size 432x288 with 1 Axes>"
      ]
     },
     "metadata": {
      "needs_background": "light"
     },
     "output_type": "display_data"
    }
   ],
   "source": [
    "# Visualización de gráficas\n",
    "\n",
    "df['CO2'].astype(float).plot()\n",
    "plt.grid(True)\n",
    "plt.xlabel(\"Ranking\")\n",
    "plt.ylabel(\"C02\")\n",
    "plt.title(\"Consumo de CO2 por ranking\")\n",
    "plt.legend([\"esta curva\"])"
   ]
  },
  {
   "cell_type": "code",
   "execution_count": 68,
   "metadata": {},
   "outputs": [
    {
     "data": {
      "text/plain": [
       "(array([1, 2, 3]),\n",
       " [Text(1, 0, 'Volume'), Text(2, 0, 'Weight'), Text(3, 0, 'CumpleNormativa')])"
      ]
     },
     "execution_count": 68,
     "metadata": {},
     "output_type": "execute_result"
    },
    {
     "data": {
      "image/png": "[encoded data removed]",
      "text/plain": [
       "<Figure size 432x288 with 1 Axes>"
      ]
     },
     "metadata": {
      "needs_background": "light"
     },
     "output_type": "display_data"
    }
   ],
   "source": [
    "df_sin_varios = df.loc[:, ~df.columns.isin(['Car', 'Model', 'CO2'])]\n",
    "df_sin_varios.astype(float).plot(kind=\"box\")\n",
    "plt.xticks(rotation=45)"
   ]
  },
  {
   "cell_type": "code",
   "execution_count": 113,
   "metadata": {},
   "outputs": [
    {
     "data": {
      "text/plain": [
       "Text(0.5, 0.98, 'muchos histogramas')"
      ]
     },
     "execution_count": 113,
     "metadata": {},
     "output_type": "execute_result"
    },
    {
     "data": {
      "image/png": "[encoded data removed]",
      "text/plain": [
       "<Figure size 432x288 with 6 Axes>"
      ]
     },
     "metadata": {},
     "output_type": "display_data"
    }
   ],
   "source": [
    "filas = 2\n",
    "columnas = 3\n",
    "cajitas = 10\n",
    "contador = 0\n",
    "colores = ['orange', 'green', 'red', 'blue', 'black', 'brown']\n",
    "fig, axs = plt.subplots(filas, columnas)\n",
    "for fil in range(filas):\n",
    "  for col in range(columnas):\n",
    "    axs[fil, col].hist(np.log10(df['CO2'].astype(float).values), bins=cajitas, color=colores[contador])\n",
    "    axs[fil, col].legend([\"bins=\" + str(cajitas)])\n",
    "    cajitas *= 2\n",
    "    contador += 1\n",
    "fig.suptitle(\"muchos histogramas\")"
   ]
  },
  {
   "cell_type": "code",
   "execution_count": 78,
   "metadata": {},
   "outputs": [
    {
     "data": {
      "text/html": [
       "<div>\n",
       "<style scoped>\n",
       "    .dataframe tbody tr th:only-of-type {\n",
       "        vertical-align: middle;\n",
       "    }\n",
       "\n",
       "    .dataframe tbody tr th {\n",
       "        vertical-align: top;\n",
       "    }\n",
       "\n",
       "    .dataframe thead th {\n",
       "        text-align: right;\n",
       "    }\n",
       "</style>\n",
       "<table border=\"1\" class=\"dataframe\">\n",
       "  <thead>\n",
       "    <tr style=\"text-align: right;\">\n",
       "      <th></th>\n",
       "      <th>Car</th>\n",
       "      <th>Model</th>\n",
       "      <th>Volume</th>\n",
       "      <th>Weight</th>\n",
       "      <th>CO2</th>\n",
       "      <th>CumpleNormativa</th>\n",
       "    </tr>\n",
       "  </thead>\n",
       "  <tbody>\n",
       "    <tr>\n",
       "      <th>0</th>\n",
       "      <td>14</td>\n",
       "      <td>10</td>\n",
       "      <td>1000</td>\n",
       "      <td>790</td>\n",
       "      <td>99</td>\n",
       "      <td>1</td>\n",
       "    </tr>\n",
       "    <tr>\n",
       "      <th>1</th>\n",
       "      <td>10</td>\n",
       "      <td>29</td>\n",
       "      <td>1200</td>\n",
       "      <td>1160</td>\n",
       "      <td>95</td>\n",
       "      <td>1</td>\n",
       "    </tr>\n",
       "    <tr>\n",
       "      <th>2</th>\n",
       "      <td>12</td>\n",
       "      <td>14</td>\n",
       "      <td>1000</td>\n",
       "      <td>929</td>\n",
       "      <td>95</td>\n",
       "      <td>1</td>\n",
       "    </tr>\n",
       "    <tr>\n",
       "      <th>3</th>\n",
       "      <td>2</td>\n",
       "      <td>4</td>\n",
       "      <td>900</td>\n",
       "      <td>865</td>\n",
       "      <td>90</td>\n",
       "      <td>1</td>\n",
       "    </tr>\n",
       "    <tr>\n",
       "      <th>4</th>\n",
       "      <td>9</td>\n",
       "      <td>16</td>\n",
       "      <td>1500</td>\n",
       "      <td>1140</td>\n",
       "      <td>105</td>\n",
       "      <td>0</td>\n",
       "    </tr>\n",
       "  </tbody>\n",
       "</table>\n",
       "</div>"
      ],
      "text/plain": [
       "   Car  Model  Volume  Weight  CO2  CumpleNormativa\n",
       "0   14     10    1000     790   99                1\n",
       "1   10     29    1200    1160   95                1\n",
       "2   12     14    1000     929   95                1\n",
       "3    2      4     900     865   90                1\n",
       "4    9     16    1500    1140  105                0"
      ]
     },
     "execution_count": 78,
     "metadata": {},
     "output_type": "execute_result"
    }
   ],
   "source": [
    "enc = LabelEncoder()\n",
    "temp = df.copy()\n",
    "temp.iloc[:, 0]=enc.fit_transform(df.iloc[:, 0])\n",
    "temp.iloc[:, 1]=enc.fit_transform(df.iloc[:, 1])\n",
    "temp.head()"
   ]
  },
  {
   "cell_type": "code",
   "execution_count": 79,
   "metadata": {},
   "outputs": [
    {
     "name": "stdout",
     "output_type": "stream",
     "text": [
      "(36, 6)\n"
     ]
    }
   ],
   "source": [
    "#Regresion Lineal\n",
    "target = temp[['CO2']].copy()\n",
    "x2=temp[temp.columns[0:6]]\n",
    "\n",
    "y2 = target[\"CO2\"]\n",
    "print(x2.shape)"
   ]
  },
  {
   "cell_type": "code",
   "execution_count": 80,
   "metadata": {},
   "outputs": [],
   "source": [
    "lm = linear_model.LinearRegression()\n",
    "model = lm.fit(x2,y2)"
   ]
  },
  {
   "cell_type": "code",
   "execution_count": 82,
   "metadata": {},
   "outputs": [
    {
     "name": "stdout",
     "output_type": "stream",
     "text": [
      "[ 99.  95.  95.  90. 105. 105.  90.  92.  98.  99.]\n"
     ]
    }
   ],
   "source": [
    "predictions = lm.predict(x2)\n",
    "print(predictions[0:10])"
   ]
  },
  {
   "cell_type": "code",
   "execution_count": 83,
   "metadata": {},
   "outputs": [
    {
     "data": {
      "text/plain": [
       "1.0"
      ]
     },
     "execution_count": 83,
     "metadata": {},
     "output_type": "execute_result"
    }
   ],
   "source": [
    "lm.score(x2,y2)"
   ]
  },
  {
   "cell_type": "code",
   "execution_count": 84,
   "metadata": {},
   "outputs": [
    {
     "data": {
      "text/plain": [
       "array([-4.01716378e-16, -5.00034042e-16, -5.98514236e-17,  3.57475312e-17,\n",
       "        1.00000000e+00, -2.66404509e-16])"
      ]
     },
     "execution_count": 84,
     "metadata": {},
     "output_type": "execute_result"
    }
   ],
   "source": [
    "lm.coef_"
   ]
  },
  {
   "cell_type": "code",
   "execution_count": 85,
   "metadata": {},
   "outputs": [
    {
     "data": {
      "text/plain": [
       "-9.947598300641403e-14"
      ]
     },
     "execution_count": 85,
     "metadata": {},
     "output_type": "execute_result"
    }
   ],
   "source": [
    "lm.intercept_"
   ]
  }
 ],
 "metadata": {
  "kernelspec": {
   "display_name": "Python 3.10.5 64-bit",
   "language": "python",
   "name": "python3"
  },
  "language_info": {
   "codemirror_mode": {
    "name": "ipython",
    "version": 3
   },
   "file_extension": ".py",
   "mimetype": "text/x-python",
   "name": "python",
   "nbconvert_exporter": "python",
   "pygments_lexer": "ipython3",
   "version": "3.10.5"
  },
  "orig_nbformat": 4,
  "vscode": {
   "interpreter": {
    "hash": "26de051ba29f2982a8de78e945f0abaf191376122a1563185a90213a26c5da77"
   }
  }
 },
 "nbformat": 4,
 "nbformat_minor": 2
}
