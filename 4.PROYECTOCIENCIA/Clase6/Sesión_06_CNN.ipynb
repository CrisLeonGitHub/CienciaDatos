{
  "nbformat": 4,
  "nbformat_minor": 0,
  "metadata": {
    "colab": {
      "name": "Sesión_06_CNN.ipynb",
      "provenance": []
    },
    "kernelspec": {
      "name": "python3",
      "display_name": "Python 3"
    },
    "language_info": {
      "name": "python"
    }
  },
  "cells": [
    {
      "cell_type": "code",
      "metadata": {
        "id": "It4PSIxfsdqV",
        "colab": {
          "base_uri": "https://localhost:8080/"
        },
        "outputId": "bc993e15-83a4-4ee9-893f-ec2858935269"
      },
      "source": [
        "from keras.datasets import cifar10\n",
        "(x_train, y_train), (x_test, y_test) = cifar10.load_data()"
      ],
      "execution_count": null,
      "outputs": [
        {
          "output_type": "stream",
          "text": [
            "Downloading data from https://www.cs.toronto.edu/~kriz/cifar-10-python.tar.gz\n",
            "170500096/170498071 [==============================] - 11s 0us/step\n"
          ],
          "name": "stdout"
        }
      ]
    },
    {
      "cell_type": "code",
      "metadata": {
        "colab": {
          "base_uri": "https://localhost:8080/"
        },
        "id": "sGFy2bho6PR2",
        "outputId": "be061d7e-bfda-40dc-c610-c0aa14f1052e"
      },
      "source": [
        "print('Dimensión de atributos en conjunto de entrenamiento:', x_train.shape)\n",
        "print('Dimensión de arreglo de etiquetas en conjunto de entrenamiento:', y_train.shape)"
      ],
      "execution_count": null,
      "outputs": [
        {
          "output_type": "stream",
          "text": [
            "Dimensión de atributos en conjunto de entrenamiento: (50000, 32, 32, 3)\n",
            "Dimensión de arreglo de etiquetas en conjunto de entrenamiento: (50000, 1)\n"
          ],
          "name": "stdout"
        }
      ]
    },
    {
      "cell_type": "code",
      "metadata": {
        "colab": {
          "base_uri": "https://localhost:8080/"
        },
        "id": "ABNqiWc96eiB",
        "outputId": "64566a52-7b26-47e5-dcbb-788901be56cf"
      },
      "source": [
        "# Representación numérica de cierta fotografía del conjunto de datos\n",
        "print(x_train[0])"
      ],
      "execution_count": null,
      "outputs": [
        {
          "output_type": "stream",
          "text": [
            "[[[ 59  62  63]\n",
            "  [ 43  46  45]\n",
            "  [ 50  48  43]\n",
            "  ...\n",
            "  [158 132 108]\n",
            "  [152 125 102]\n",
            "  [148 124 103]]\n",
            "\n",
            " [[ 16  20  20]\n",
            "  [  0   0   0]\n",
            "  [ 18   8   0]\n",
            "  ...\n",
            "  [123  88  55]\n",
            "  [119  83  50]\n",
            "  [122  87  57]]\n",
            "\n",
            " [[ 25  24  21]\n",
            "  [ 16   7   0]\n",
            "  [ 49  27   8]\n",
            "  ...\n",
            "  [118  84  50]\n",
            "  [120  84  50]\n",
            "  [109  73  42]]\n",
            "\n",
            " ...\n",
            "\n",
            " [[208 170  96]\n",
            "  [201 153  34]\n",
            "  [198 161  26]\n",
            "  ...\n",
            "  [160 133  70]\n",
            "  [ 56  31   7]\n",
            "  [ 53  34  20]]\n",
            "\n",
            " [[180 139  96]\n",
            "  [173 123  42]\n",
            "  [186 144  30]\n",
            "  ...\n",
            "  [184 148  94]\n",
            "  [ 97  62  34]\n",
            "  [ 83  53  34]]\n",
            "\n",
            " [[177 144 116]\n",
            "  [168 129  94]\n",
            "  [179 142  87]\n",
            "  ...\n",
            "  [216 184 140]\n",
            "  [151 118  84]\n",
            "  [123  92  72]]]\n"
          ],
          "name": "stdout"
        }
      ]
    },
    {
      "cell_type": "code",
      "metadata": {
        "colab": {
          "base_uri": "https://localhost:8080/",
          "height": 266
        },
        "id": "rc9jI0zd634K",
        "outputId": "9e26ffe4-d796-4ba7-f428-62cba3e4557a"
      },
      "source": [
        "# Representación visual de cierta fotografía del conjunto de datos\n",
        "import matplotlib.pyplot as plt\n",
        "img = plt.imshow(x_train[0])"
      ],
      "execution_count": null,
      "outputs": [
        {
          "output_type": "display_data",
          "data": {
            "image/png": "[encoded data removed]",
            "text/plain": [
              "<Figure size 432x288 with 1 Axes>"
            ]
          },
          "metadata": {
            "tags": [],
            "needs_background": "light"
          }
        }
      ]
    },
    {
      "cell_type": "code",
      "metadata": {
        "colab": {
          "base_uri": "https://localhost:8080/"
        },
        "id": "Btve4Eq6MKk6",
        "outputId": "a467617f-c046-4631-f80b-c15efb3c02ec"
      },
      "source": [
        "print(y_train[0])"
      ],
      "execution_count": null,
      "outputs": [
        {
          "output_type": "stream",
          "text": [
            "[6]\n"
          ],
          "name": "stdout"
        }
      ]
    },
    {
      "cell_type": "code",
      "metadata": {
        "colab": {
          "base_uri": "https://localhost:8080/"
        },
        "id": "LYJ4ecDT7Exz",
        "outputId": "a966432d-6f21-46be-9bc0-1d3c7038dc0b"
      },
      "source": [
        "# Visualización de etiquetas\n",
        "numero_a_categoria = ['avion', 'auto', 'pajaro', 'gato', 'venado', 'perro', 'rana', 'caballo', 'Barco', 'camion']\n",
        "print('La etiqueta es:', numero_a_categoria[int(y_train[0])])"
      ],
      "execution_count": null,
      "outputs": [
        {
          "output_type": "stream",
          "text": [
            "La etiqueta es: rana\n"
          ],
          "name": "stdout"
        }
      ]
    },
    {
      "cell_type": "code",
      "metadata": {
        "colab": {
          "base_uri": "https://localhost:8080/"
        },
        "id": "Okir6Ey28t3N",
        "outputId": "039537c5-0763-4686-b6f6-c6781fb6426e"
      },
      "source": [
        "# one-hot encoding\n",
        "import keras\n",
        "y_train_one_hot = keras.utils.to_categorical(y_train, 10)\n",
        "y_test_one_hot = keras.utils.to_categorical(y_test, 10)\n",
        "print('La etiqueta en one-hot encoding es:', y_train_one_hot[0])"
      ],
      "execution_count": null,
      "outputs": [
        {
          "output_type": "stream",
          "text": [
            "La etiqueta en one-hot encoding es: [0. 0. 0. 0. 0. 0. 1. 0. 0. 0.]\n"
          ],
          "name": "stdout"
        }
      ]
    },
    {
      "cell_type": "code",
      "metadata": {
        "id": "tDD6niVS9F4R"
      },
      "source": [
        "# Normalización\n",
        "x_train = x_train.astype('float32')\n",
        "x_test = x_test.astype('float32')\n",
        "x_train = x_train / 255\n",
        "x_test = x_test / 255"
      ],
      "execution_count": null,
      "outputs": []
    },
    {
      "cell_type": "code",
      "metadata": {
        "id": "rVXfE4z49Mpx",
        "colab": {
          "base_uri": "https://localhost:8080/"
        },
        "outputId": "d3e94b93-e1e9-4a53-d13a-c2b66bfe6830"
      },
      "source": [
        "# Construcción de la red\n",
        "from keras.models import Sequential\n",
        "from keras.layers import Dense, Dropout, Flatten, Conv2D, MaxPooling2D\n",
        "\n",
        "model = Sequential()\n",
        "model.add(Conv2D(32, (3, 3), activation='relu', padding='same', input_shape=(32,32,3)))\n",
        "model.add(Conv2D(32, (3, 3), activation='relu', padding='same'))\n",
        "model.add(MaxPooling2D(pool_size=(2, 2)))\n",
        "model.add(Dropout(0.25))\n",
        "model.add(Flatten())\n",
        "model.add(Dense(512, activation='relu'))\n",
        "model.add(Dropout(0.5))\n",
        "model.add(Dense(10, activation='softmax'))\n",
        "model.compile(loss='categorical_crossentropy', optimizer='adam', metrics=['accuracy'])\n",
        "model.summary()"
      ],
      "execution_count": null,
      "outputs": [
        {
          "output_type": "stream",
          "text": [
            "Model: \"sequential\"\n",
            "_________________________________________________________________\n",
            "Layer (type)                 Output Shape              Param #   \n",
            "=================================================================\n",
            "conv2d (Conv2D)              (None, 32, 32, 32)        896       \n",
            "_________________________________________________________________\n",
            "conv2d_1 (Conv2D)            (None, 32, 32, 32)        9248      \n",
            "_________________________________________________________________\n",
            "max_pooling2d (MaxPooling2D) (None, 16, 16, 32)        0         \n",
            "_________________________________________________________________\n",
            "dropout (Dropout)            (None, 16, 16, 32)        0         \n",
            "_________________________________________________________________\n",
            "flatten (Flatten)            (None, 8192)              0         \n",
            "_________________________________________________________________\n",
            "dense (Dense)                (None, 512)               4194816   \n",
            "_________________________________________________________________\n",
            "dropout_1 (Dropout)          (None, 512)               0         \n",
            "_________________________________________________________________\n",
            "dense_1 (Dense)              (None, 10)                5130      \n",
            "=================================================================\n",
            "Total params: 4,210,090\n",
            "Trainable params: 4,210,090\n",
            "Non-trainable params: 0\n",
            "_________________________________________________________________\n"
          ],
          "name": "stdout"
        }
      ]
    },
    {
      "cell_type": "code",
      "metadata": {
        "colab": {
          "base_uri": "https://localhost:8080/"
        },
        "id": "tW88wQN393rE",
        "outputId": "ddcd8f1c-6c05-4724-9a0b-69ab21ad73f0"
      },
      "source": [
        "# Entrenamiento de la red\n",
        "#early_stop = keras.callbacks.EarlyStopping(monitor='val_loss', patience=10)\n",
        "#hist = model.fit(x_train, y_train_one_hot, batch_size=32, epochs=1000, validation_split=0.2, callbacks=[early_stop,])\n",
        "hist = model.fit(x_train, y_train_one_hot, batch_size=32, epochs=5, validation_split=0.2)"
      ],
      "execution_count": null,
      "outputs": [
        {
          "output_type": "stream",
          "text": [
            "Epoch 1/5\n",
            "1250/1250 [==============================] - 17s 14ms/step - loss: 0.6950 - accuracy: 0.7572 - val_loss: 0.9213 - val_accuracy: 0.6861\n",
            "Epoch 2/5\n",
            "1250/1250 [==============================] - 17s 14ms/step - loss: 0.6175 - accuracy: 0.7828 - val_loss: 0.8997 - val_accuracy: 0.6970\n",
            "Epoch 3/5\n",
            "1250/1250 [==============================] - 17s 14ms/step - loss: 0.5544 - accuracy: 0.8037 - val_loss: 0.9075 - val_accuracy: 0.6958\n",
            "Epoch 4/5\n",
            "1250/1250 [==============================] - 17s 14ms/step - loss: 0.5023 - accuracy: 0.8229 - val_loss: 0.9137 - val_accuracy: 0.7009\n",
            "Epoch 5/5\n",
            "1250/1250 [==============================] - 17s 13ms/step - loss: 0.4552 - accuracy: 0.8382 - val_loss: 0.9672 - val_accuracy: 0.7021\n"
          ],
          "name": "stdout"
        }
      ]
    },
    {
      "cell_type": "code",
      "metadata": {
        "id": "vnaam_gV-8Ud"
      },
      "source": [
        "# Guardar el modelo\n",
        "model.save('mi_red_cnn.h5')\n",
        "\n",
        "# Cargar modelo guardado\n",
        "#from keras.models import load_model\n",
        "#model = load_model('mi_red_cnn.h5')"
      ],
      "execution_count": null,
      "outputs": []
    },
    {
      "cell_type": "code",
      "metadata": {
        "id": "kqv-3sYf9-Bd",
        "colab": {
          "base_uri": "https://localhost:8080/",
          "height": 541
        },
        "outputId": "bddc9f60-7432-4f1c-db68-4bf554dd9cd6"
      },
      "source": [
        "# Visualización del desempeño (costo y precisión)\n",
        "plt.plot(hist.history['loss'])\n",
        "plt.plot(hist.history['val_loss'])\n",
        "plt.ylabel('Costo')\n",
        "plt.xlabel('Epoca')\n",
        "plt.legend(['Entrenamiento', 'Validación'], loc='upper right')\n",
        "plt.grid(True)\n",
        "plt.show()\n",
        "\n",
        "plt.plot(hist.history['accuracy'])\n",
        "plt.plot(hist.history['val_accuracy'])\n",
        "plt.ylabel('Precisión')\n",
        "plt.xlabel('Epoca')\n",
        "plt.legend(['Entrenamiento', 'Validación'], loc='lower right')\n",
        "plt.grid(True)\n",
        "plt.show()"
      ],
      "execution_count": null,
      "outputs": [
        {
          "output_type": "display_data",
          "data": {
            "image/png": "[encoded data removed]",
            "text/plain": [
              "<Figure size 432x288 with 1 Axes>"
            ]
          },
          "metadata": {
            "tags": [],
            "needs_background": "light"
          }
        },
        {
          "output_type": "display_data",
          "data": {
            "image/png": "[encoded data removed]",
            "text/plain": [
              "<Figure size 432x288 with 1 Axes>"
            ]
          },
          "metadata": {
            "tags": [],
            "needs_background": "light"
          }
        }
      ]
    },
    {
      "cell_type": "code",
      "metadata": {
        "id": "Fdhhg1Ge_T-M",
        "colab": {
          "base_uri": "https://localhost:8080/",
          "height": 266
        },
        "outputId": "ae5b3fde-415a-425d-b8c1-1b270d52833d"
      },
      "source": [
        "# Prueba con imagen propia\n",
        "imagen = plt.imread(\"mi_foto2.PNG\")\n",
        "np.random().seed(123)\n",
        "from skimage.transform import resize\n",
        "imagen_escalada = resize(imagen, (32,32,3))\n",
        "img = plt.imshow(imagen_escalada)"
      ],
      "execution_count": null,
      "outputs": [
        {
          "output_type": "display_data",
          "data": {
            "image/png": "[encoded data removed]",
            "text/plain": [
              "<Figure size 432x288 with 1 Axes>"
            ]
          },
          "metadata": {
            "tags": [],
            "needs_background": "light"
          }
        }
      ]
    },
    {
      "cell_type": "code",
      "metadata": {
        "id": "laQzMsTL_td0",
        "colab": {
          "base_uri": "https://localhost:8080/"
        },
        "outputId": "bb39b3bd-aa04-4d65-c3d9-ba63717feb7f"
      },
      "source": [
        "# Predicción con imagen propia\n",
        "import numpy as np\n",
        "probs = model.predict(np.array( [imagen_escalada,] ))\n",
        "indices = np.argsort(probs[0,:])\n",
        "print(\"Mayor probabilidad:\", numero_a_categoria[indices[9]], \"-- Probabilidad:\", probs[0,indices[9]])\n",
        "print(\"Segundo más probable:\", numero_a_categoria[indices[8]], \"-- Probabilidad:\", probs[0,indices[8]])\n",
        "print(\"Tercer más probable:\", numero_a_categoria[indices[7]], \"-- Probabilidad:\", probs[0,indices[7]])"
      ],
      "execution_count": null,
      "outputs": [
        {
          "output_type": "stream",
          "text": [
            "Mayor probabilidad: avion -- Probabilidad: 0.8239415\n",
            "Segundo más probable: Barco -- Probabilidad: 0.15785557\n",
            "Tercer más probable: pajaro -- Probabilidad: 0.018094925\n"
          ],
          "name": "stdout"
        }
      ]
    },
    {
      "cell_type": "code",
      "metadata": {
        "id": "OYH9-nlnLWEE"
      },
      "source": [
        ""
      ],
      "execution_count": null,
      "outputs": []
    }
  ]
}