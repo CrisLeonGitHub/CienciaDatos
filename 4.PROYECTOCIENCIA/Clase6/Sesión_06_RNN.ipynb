{
  "nbformat": 4,
  "nbformat_minor": 0,
  "metadata": {
    "colab": {
      "name": "Sesión_06_RNN.ipynb",
      "provenance": []
    },
    "kernelspec": {
      "name": "python3",
      "display_name": "Python 3"
    },
    "language_info": {
      "name": "python"
    },
    "accelerator": "GPU"
  },
  "cells": [
    {
      "cell_type": "code",
      "metadata": {
        "id": "tzbIhhPIyQv-"
      },
      "source": [
        "from keras.models import Sequential\n",
        "from keras.layers import Dense, SimpleRNN, Dropout, LSTM\n",
        "from sklearn.preprocessing import MinMaxScaler\n",
        "from sklearn.metrics import mean_squared_error\n",
        "import numpy as np\n",
        "import pandas as pd\n",
        "import matplotlib.pyplot as plt\n",
        "import math"
      ],
      "execution_count": null,
      "outputs": []
    },
    {
      "cell_type": "code",
      "metadata": {
        "id": "mhskz0crWPuX"
      },
      "source": [
        "# Exploración de los datos\n",
        "dataset_train = pd.read_csv('google_train.csv')\n",
        "dataset_train.head(3)"
      ],
      "execution_count": null,
      "outputs": []
    },
    {
      "cell_type": "code",
      "metadata": {
        "id": "Z6sMwvdZWk7L"
      },
      "source": [
        "# Normalización de los datos\n",
        "from sklearn.preprocessing import MinMaxScaler\n",
        "scaler = MinMaxScaler(feature_range = (0, 1))\n",
        "train = dataset_train.loc[:, ['Open']].values\n",
        "train_scaled = scaler.fit_transform(train)\n",
        "\n",
        "plt.plot(train_scaled)\n",
        "plt.xlabel(\"Dia\")\n",
        "plt.ylabel(\"Precio de apertura\")\n",
        "plt.grid(True)\n",
        "plt.show()"
      ],
      "execution_count": null,
      "outputs": []
    },
    {
      "cell_type": "code",
      "metadata": {
        "id": "B32RDBAxbjSS"
      },
      "source": [
        "# Creación de conjunto de entrenamiento\n",
        "X_train = []\n",
        "y_train = []\n",
        "timesteps = 50\n",
        "\n",
        "for i in range(timesteps, 1250):\n",
        "    X_train.append(train_scaled[i - timesteps:i, 0])\n",
        "    y_train.append(train_scaled[i, 0])\n",
        "    \n",
        "X_train, y_train = np.array(X_train), np.array(y_train)\n",
        "X_train = np.reshape(X_train, (X_train.shape[0], X_train.shape[1], 1))\n",
        "print(\"Dimensión de atributos:\", X_train.shape)\n",
        "print(\"Dimensión de etiquetas:\", y_train.shape)"
      ],
      "execution_count": null,
      "outputs": []
    },
    {
      "cell_type": "code",
      "metadata": {
        "id": "OJMQ6EE8db2l"
      },
      "source": [
        "# Modelo con RNN simple\n",
        "import tensorflow as tf\n",
        "tf.random.set_seed(1)\n",
        "model = Sequential()\n",
        "model.add(SimpleRNN(units = 50, activation='tanh', return_sequences=True, input_shape= (X_train.shape[1],1)))\n",
        "model.add(Dropout(0.2))\n",
        "model.add(SimpleRNN(units = 50, activation='tanh', return_sequences=True))\n",
        "model.add(Dropout(0.2))\n",
        "model.add(SimpleRNN(units = 50, activation='tanh'))\n",
        "model.add(Dropout(0.2))\n",
        "model.add(Dense(units = 1, activation='tanh'))\n",
        "model.compile(optimizer='adam', loss='mean_squared_error')\n",
        "model.summary()"
      ],
      "execution_count": null,
      "outputs": []
    },
    {
      "cell_type": "code",
      "metadata": {
        "id": "FtnUHoCiegMr"
      },
      "source": [
        "# Entrenamiento del modelo anterior\n",
        "model.fit(X_train, y_train, epochs=10, batch_size=32)"
      ],
      "execution_count": null,
      "outputs": []
    },
    {
      "cell_type": "code",
      "metadata": {
        "id": "brII1kPCJ4Bz"
      },
      "source": [
        "prediccion_rnn_train = model.predict(X_train) #RNN\n",
        "prediccion_rnn_train_desescalada = scaler.inverse_transform(prediccion_rnn_train)\n",
        "plt.plot(scaler.inverse_transform(y_train.reshape(-1,1)), color='red', label='Precio real')\n",
        "plt.plot(prediccion_rnn_train_desescalada, color='blue', label='Predicción con RNN simple')\n",
        "plt.title('Predicción en entrenamiento')\n",
        "plt.xlabel('Día')\n",
        "plt.ylabel('Precio')\n",
        "plt.legend()\n",
        "plt.grid(True)\n",
        "plt.show()"
      ],
      "execution_count": null,
      "outputs": []
    },
    {
      "cell_type": "code",
      "metadata": {
        "id": "RyNtFI43fCfM"
      },
      "source": [
        "# Modelo con LSTM\n",
        "model2 = Sequential()\n",
        "model2.add(LSTM(10, input_shape= (X_train.shape[1],1)))\n",
        "model2.add(Dense(1))\n",
        "model2.compile(loss='mean_squared_error', optimizer='adam')\n",
        "model2.summary()"
      ],
      "execution_count": null,
      "outputs": []
    },
    {
      "cell_type": "code",
      "metadata": {
        "id": "1I98ujvTooE9"
      },
      "source": [
        "# Entrenamiento con LSTM\n",
        "hist2 = model2.fit(X_train, y_train, epochs=10, batch_size=32)"
      ],
      "execution_count": null,
      "outputs": []
    },
    {
      "cell_type": "code",
      "metadata": {
        "id": "hq5H0pidQaYM"
      },
      "source": [
        "plt.plot(hist2.history['loss'])\n",
        "plt.grid(True)\n",
        "plt.title(\"Pérdida en entrenamiento LSTM\")\n",
        "plt.ylabel(\"MSE\")\n",
        "plt.xlabel(\"Épocas\")\n",
        "plt.show()"
      ],
      "execution_count": null,
      "outputs": []
    },
    {
      "cell_type": "code",
      "metadata": {
        "id": "iBgpsLhCosAD"
      },
      "source": [
        "# carga de datos de validación\n",
        "dataset_test = pd.read_csv('google_test.csv')\n",
        "dataset_test.head()"
      ],
      "execution_count": null,
      "outputs": []
    },
    {
      "cell_type": "code",
      "metadata": {
        "id": "pKpu1gPcpSXc"
      },
      "source": [
        "# normalización\n",
        "precio_real = dataset_test.loc[:, ['Open']].values\n",
        "dataset_total = pd.concat((dataset_train['Open'], dataset_test['Open']), axis=0)\n",
        "inputs = dataset_total[len(dataset_total)-len(dataset_test) - timesteps:].values.reshape(-1,1)\n",
        "inputs = scaler.transform(inputs)"
      ],
      "execution_count": null,
      "outputs": []
    },
    {
      "cell_type": "code",
      "metadata": {
        "id": "1gCOMJ_EpvZ0"
      },
      "source": [
        "# predicción\n",
        "X_test = []\n",
        "y_test = []\n",
        "for i in range(timesteps, 70):\n",
        "    X_test.append(inputs[i-timesteps:i,0])\n",
        "    y_test.append(inputs[i, 0])\n",
        "X_test = np.array(X_test)\n",
        "y_test = np.array(y_test)\n",
        "X_test = np.reshape(X_test, (X_test.shape[0], X_test.shape[1], 1))\n",
        "prediccion_rnn = model.predict(X_test) # RNN\n",
        "prediccion_lstm = model2.predict(X_test) # LSTM\n",
        "prediccion_rnn_train = model.predict(X_train) #RNN\n",
        "prediccion_lstm_train = model2.predict(X_train) # LSTM\n",
        "prediccion_rnn_desescalada = scaler.inverse_transform(prediccion_rnn)\n",
        "prediccion_lstm_desescalada = scaler.inverse_transform(prediccion_lstm)\n",
        "prediccion_rnn_train_desescalada = scaler.inverse_transform(prediccion_rnn_train)\n",
        "prediccion_lstm_train_desescalada = scaler.inverse_transform(prediccion_lstm_train)"
      ],
      "execution_count": null,
      "outputs": []
    },
    {
      "cell_type": "code",
      "metadata": {
        "id": "tZcvq0Rgp2mU"
      },
      "source": [
        "y_train1 = scaler.inverse_transform([y_train])\n",
        "y_test1 = scaler.inverse_transform([y_test])\n",
        "\n",
        "costo_rnn_train = math.sqrt(mean_squared_error(y_train1[0], prediccion_rnn_train_desescalada[:,0]))\n",
        "print('RMSE entrenamiento RNN: %.2f' % (costo_rnn_train))\n",
        "costo_rnn = math.sqrt(mean_squared_error(y_test1[0], prediccion_rnn_desescalada[:,0]))\n",
        "print('RMSE validación RNN: %.2f' % (costo_rnn))\n",
        "\n",
        "costo_lstm_train = math.sqrt(mean_squared_error(y_train1[0], prediccion_lstm_train[:,0]))\n",
        "print('RMSE entrenamiento LSTM: %.2f' % (costo_lstm_train))\n",
        "costo_lstm = math.sqrt(mean_squared_error(y_test1[0], prediccion_lstm_desescalada[:,0]))\n",
        "print('RMSE validación LSTM: %.2f' % (costo_lstm))"
      ],
      "execution_count": null,
      "outputs": []
    },
    {
      "cell_type": "code",
      "metadata": {
        "id": "Ry0e2_4uwBVx"
      },
      "source": [
        "plt.plot(scaler.inverse_transform(y_train.reshape(-1,1)), color='red', label='Precio real')\n",
        "plt.plot(prediccion_rnn_train_desescalada, color='blue', label='Predicción con RNN simple')\n",
        "plt.plot(prediccion_lstm_train_desescalada, color='black', label='Predicción con LSTM')\n",
        "plt.title('Predicción en entrenamiento')\n",
        "plt.xlabel('Día')\n",
        "plt.ylabel('Precio')\n",
        "plt.legend()\n",
        "plt.subplots_adjust(bottom=0.5, top=1)\n",
        "plt.grid(True)\n",
        "plt.show()\n",
        "\n",
        "plt.plot(precio_real, color='red', label='Precio real')\n",
        "plt.plot(prediccion_rnn_desescalada, color='blue', label='Predicción con RNN simple')\n",
        "plt.plot(prediccion_lstm_desescalada, color='black', label='Predicción con LSTM')\n",
        "plt.title('Predicción en validación')\n",
        "plt.xlabel('Día')\n",
        "plt.ylabel('Precio')\n",
        "plt.legend()\n",
        "plt.grid(True)\n",
        "plt.subplots_adjust(bottom=0.5, top=1)\n",
        "plt.show()"
      ],
      "execution_count": null,
      "outputs": []
    },
    {
      "cell_type": "code",
      "metadata": {
        "id": "DWy8ubGBTdsQ"
      },
      "source": [
        ""
      ],
      "execution_count": null,
      "outputs": []
    }
  ]
}