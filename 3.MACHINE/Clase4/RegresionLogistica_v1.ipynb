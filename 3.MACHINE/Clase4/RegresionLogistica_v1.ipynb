{
  "nbformat": 4,
  "nbformat_minor": 0,
  "metadata": {
    "kernelspec": {
      "display_name": "Python 3 (system-wide)",
      "language": "python",
      "name": "python3"
    },
    "language_info": {
      "codemirror_mode": {
        "name": "ipython",
        "version": 3
      },
      "file_extension": ".py",
      "mimetype": "text/x-python",
      "name": "python",
      "nbconvert_exporter": "python",
      "pygments_lexer": "ipython3",
      "version": "3.6.9"
    },
    "colab": {
      "name": "RegresionLogistica_v1.ipynb",
      "provenance": []
    }
  },
  "cells": [
    {
      "cell_type": "markdown",
      "metadata": {
        "id": "uyD2M6aloqVO"
      },
      "source": [
        "##Código para regresión logística"
      ]
    },
    {
      "cell_type": "code",
      "metadata": {
        "id": "YQsE67wloqVQ"
      },
      "source": [
        "import scipy as sp\n",
        "import numpy as np\n",
        "import matplotlib.pyplot as plt\n",
        "from scipy.optimize import fmin_bfgs"
      ],
      "execution_count": null,
      "outputs": []
    },
    {
      "cell_type": "code",
      "metadata": {
        "id": "JhgYR1ktoqVU"
      },
      "source": [
        "# Define sigmoide, funcion de costo y gradientes\n",
        "def sigmoid(z):\n",
        "  return 1 / (1 +np.exp(-z))\n",
        "\n",
        "def cost_function(theta, X, Y):\n",
        "  theta =np.matrix(theta).T\n",
        "  #hack!\n",
        "  J = (1 / m) * (-Y.T * np.log(sigmoid(X * theta)+1e-7) - ((1 - Y).T * np.log(1 - sigmoid(X * theta)+1e-7)))\n",
        "  print(J)\n",
        "  return J[0, 0]\n",
        "\n",
        "def gradients(theta, X, Y):\n",
        "  theta = np.matrix(theta).T\n",
        "  grad = ((1 / m) * X.T * (sigmoid(X * theta) - Y)).T\n",
        "  grad = np.squeeze(np.asarray(grad))\n",
        "  return grad\n",
        "\n",
        "def predict(theta, X):\n",
        "  return np.around(sigmoid(X * theta))"
      ],
      "execution_count": null,
      "outputs": []
    },
    {
      "cell_type": "code",
      "metadata": {
        "id": "jfopK50foqVY",
        "colab": {
          "base_uri": "https://localhost:8080/"
        },
        "outputId": "d432971b-f1fb-4cb8-c9b1-f54b77f68eb8"
      },
      "source": [
        "# Carga data de data source 1\n",
        "data = sp.matrix(sp.loadtxt(\"ex2data2.txt\", delimiter=' '))\n",
        "print(\"data original\")\n",
        "print(data)\n",
        "X = data[:, 0:2]\n",
        "#los datos normalizados tienen media 0 y desviacion estandar 1.\n",
        "X = (X - np.mean(X))/np.std(X)\n",
        "Y = data[:, 2]\n",
        "m, n = X.shape\n",
        "X_orig=X\n",
        "# Imprimir datos normalizados\n",
        "print(X)\n",
        "# print(m,n)\n",
        "# print(X.shape)\n",
        "# print(Y.shape)"
      ],
      "execution_count": null,
      "outputs": [
        {
          "output_type": "stream",
          "name": "stdout",
          "text": [
            "data original\n",
            "[[ 0.051267   0.69956    1.       ]\n",
            " [-0.092742   0.68494    1.       ]\n",
            " [-0.21371    0.69225    1.       ]\n",
            " [-0.375      0.50219    1.       ]\n",
            " [-0.51325    0.46564    1.       ]\n",
            " [-0.52477    0.2098     1.       ]\n",
            " [-0.39804    0.034357   1.       ]\n",
            " [-0.30588   -0.19225    1.       ]\n",
            " [ 0.016705  -0.40424    1.       ]\n",
            " [ 0.13191   -0.51389    1.       ]\n",
            " [ 0.38537   -0.56506    1.       ]\n",
            " [ 0.52938   -0.5212     1.       ]\n",
            " [ 0.63882   -0.24342    1.       ]\n",
            " [ 0.73675   -0.18494    1.       ]\n",
            " [ 0.54666    0.48757    1.       ]\n",
            " [ 0.322      0.5826     1.       ]\n",
            " [ 0.16647    0.53874    1.       ]\n",
            " [-0.046659   0.81652    1.       ]\n",
            " [-0.17339    0.69956    1.       ]\n",
            " [-0.47869    0.63377    1.       ]\n",
            " [-0.60541    0.59722    1.       ]\n",
            " [-0.62846    0.33406    1.       ]\n",
            " [-0.59389    0.005117   1.       ]\n",
            " [-0.42108   -0.27266    1.       ]\n",
            " [-0.11578   -0.39693    1.       ]\n",
            " [ 0.20104   -0.60161    1.       ]\n",
            " [ 0.46601   -0.53582    1.       ]\n",
            " [ 0.67339   -0.53582    1.       ]\n",
            " [-0.13882    0.54605    1.       ]\n",
            " [-0.29435    0.77997    1.       ]\n",
            " [-0.26555    0.96272    1.       ]\n",
            " [-0.16187    0.8019     1.       ]\n",
            " [-0.17339    0.64839    1.       ]\n",
            " [-0.28283    0.47295    1.       ]\n",
            " [-0.36348    0.31213    1.       ]\n",
            " [-0.30012    0.027047   1.       ]\n",
            " [-0.23675   -0.21418    1.       ]\n",
            " [-0.06394   -0.18494    1.       ]\n",
            " [ 0.062788  -0.16301    1.       ]\n",
            " [ 0.22984   -0.41155    1.       ]\n",
            " [ 0.2932    -0.2288     1.       ]\n",
            " [ 0.48329   -0.18494    1.       ]\n",
            " [ 0.64459   -0.14108    1.       ]\n",
            " [ 0.46025    0.012427   1.       ]\n",
            " [ 0.6273     0.15863    1.       ]\n",
            " [ 0.57546    0.26827    1.       ]\n",
            " [ 0.72523    0.44371    1.       ]\n",
            " [ 0.22408    0.52412    1.       ]\n",
            " [ 0.44297    0.67032    1.       ]\n",
            " [ 0.322      0.69225    1.       ]\n",
            " [ 0.13767    0.57529    1.       ]\n",
            " [-0.0063364  0.39985    1.       ]\n",
            " [-0.092742   0.55336    1.       ]\n",
            " [-0.20795    0.35599    1.       ]\n",
            " [-0.20795    0.17325    1.       ]\n",
            " [-0.43836    0.21711    1.       ]\n",
            " [-0.21947   -0.016813   1.       ]\n",
            " [-0.13882   -0.27266    1.       ]\n",
            " [ 0.18376    0.93348    0.       ]\n",
            " [ 0.22408    0.77997    0.       ]\n",
            " [ 0.29896    0.61915    0.       ]\n",
            " [ 0.50634    0.75804    0.       ]\n",
            " [ 0.61578    0.7288     0.       ]\n",
            " [ 0.60426    0.59722    0.       ]\n",
            " [ 0.76555    0.50219    0.       ]\n",
            " [ 0.92684    0.3633     0.       ]\n",
            " [ 0.82316    0.27558    0.       ]\n",
            " [ 0.96141    0.085526   0.       ]\n",
            " [ 0.93836    0.012427   0.       ]\n",
            " [ 0.86348   -0.082602   0.       ]\n",
            " [ 0.89804   -0.20687    0.       ]\n",
            " [ 0.85196   -0.36769    0.       ]\n",
            " [ 0.82892   -0.5212     0.       ]\n",
            " [ 0.79435   -0.55775    0.       ]\n",
            " [ 0.59274   -0.7405     0.       ]\n",
            " [ 0.51786   -0.5943     0.       ]\n",
            " [ 0.46601   -0.41886    0.       ]\n",
            " [ 0.35081   -0.57968    0.       ]\n",
            " [ 0.28744   -0.76974    0.       ]\n",
            " [ 0.085829  -0.75512    0.       ]\n",
            " [ 0.14919   -0.57968    0.       ]\n",
            " [-0.13306   -0.4481     0.       ]\n",
            " [-0.40956   -0.41155    0.       ]\n",
            " [-0.39228   -0.25804    0.       ]\n",
            " [-0.74366   -0.25804    0.       ]\n",
            " [-0.69758    0.041667   0.       ]\n",
            " [-0.75518    0.2902     0.       ]\n",
            " [-0.69758    0.68494    0.       ]\n",
            " [-0.4038     0.70687    0.       ]\n",
            " [-0.38076    0.91886    0.       ]\n",
            " [-0.50749    0.90424    0.       ]\n",
            " [-0.54781    0.70687    0.       ]\n",
            " [ 0.10311    0.77997    0.       ]\n",
            " [ 0.057028   0.91886    0.       ]\n",
            " [-0.10426    0.99196    0.       ]\n",
            " [-0.081221   1.1089     0.       ]\n",
            " [ 0.28744    1.087      0.       ]\n",
            " [ 0.39689    0.82383    0.       ]\n",
            " [ 0.63882    0.88962    0.       ]\n",
            " [ 0.82316    0.66301    0.       ]\n",
            " [ 0.67339    0.64108    0.       ]\n",
            " [ 1.0709     0.10015    0.       ]\n",
            " [-0.046659  -0.57968    0.       ]\n",
            " [-0.23675   -0.63816    0.       ]\n",
            " [-0.15035   -0.36769    0.       ]\n",
            " [-0.49021   -0.3019     0.       ]\n",
            " [-0.46717   -0.13377    0.       ]\n",
            " [-0.28859   -0.060673   0.       ]\n",
            " [-0.61118   -0.067982   0.       ]\n",
            " [-0.66302   -0.21418    0.       ]\n",
            " [-0.59965   -0.41886    0.       ]\n",
            " [-0.72638   -0.082602   0.       ]\n",
            " [-0.83007    0.31213    0.       ]\n",
            " [-0.72062    0.53874    0.       ]\n",
            " [-0.59389    0.49488    0.       ]\n",
            " [-0.48445    0.99927    0.       ]\n",
            " [-0.0063364  0.99927    0.       ]\n",
            " [ 0.63265   -0.030612   0.       ]]\n",
            "[[-0.13263508  1.13797651]\n",
            " [-0.41488324  1.10932227]\n",
            " [-0.65197256  1.12364939]\n",
            " [-0.96809034  0.75114431]\n",
            " [-1.23905123  0.67950871]\n",
            " [-1.26162967  0.17807916]\n",
            " [-1.01324722 -0.16577757]\n",
            " [-0.83261969 -0.60991237]\n",
            " [-0.20037433 -1.02539881]\n",
            " [ 0.02541989 -1.24030559]\n",
            " [ 0.5221848  -1.34059542]\n",
            " [ 0.80443492 -1.25463271]\n",
            " [ 1.01893011 -0.7102022 ]\n",
            " [ 1.21086646 -0.59558525]\n",
            " [ 0.83830258  0.72249007]\n",
            " [ 0.39798377  0.90874261]\n",
            " [ 0.09315521  0.8227799 ]\n",
            " [-0.32456359  1.36721041]\n",
            " [-0.57294801  1.13797651]\n",
            " [-1.17131591  1.00903244]\n",
            " [-1.41967876  0.93739685]\n",
            " [-1.46485525  0.42162058]\n",
            " [-1.39710032 -0.22308604]\n",
            " [-1.0584041  -0.76751067]\n",
            " [-0.4600362  -1.01107169]\n",
            " [ 0.16091014 -1.41223102]\n",
            " [ 0.68023389 -1.28328695]\n",
            " [ 1.08668503 -1.28328695]\n",
            " [-0.50519309  0.83710702]\n",
            " [-0.81002165  1.29557482]\n",
            " [-0.75357554  1.65375278]\n",
            " [-0.55036957  1.33855617]\n",
            " [-0.57294801  1.03768668]\n",
            " [-0.7874432   0.69383583]\n",
            " [-0.94551189  0.37863922]\n",
            " [-0.82133047 -0.18010469]\n",
            " [-0.69712944 -0.65289372]\n",
            " [-0.35843322 -0.59558525]\n",
            " [-0.11005468 -0.55260389]\n",
            " [ 0.21735624 -1.03972593]\n",
            " [ 0.34153767 -0.68154796]\n",
            " [ 0.71410155 -0.59558525]\n",
            " [ 1.03023893 -0.50962254]\n",
            " [ 0.66894467 -0.20875893]\n",
            " [ 0.99635167  0.07778933]\n",
            " [ 0.89474868  0.29267651]\n",
            " [ 1.18828802  0.63652736]\n",
            " [ 0.20606702  0.79412566]\n",
            " [ 0.63507701  1.08066804]\n",
            " [ 0.39798377  1.12364939]\n",
            " [ 0.03670911  0.89441549]\n",
            " [-0.24553395  0.55056465]\n",
            " [-0.41488324  0.85143414]\n",
            " [-0.64068333  0.46460193]\n",
            " [-0.64068333  0.10644357]\n",
            " [-1.09227176  0.19240628]\n",
            " [-0.66326178 -0.2660674 ]\n",
            " [-0.50519309 -0.76751067]\n",
            " [ 0.12704247  1.59644431]\n",
            " [ 0.20606702  1.29557482]\n",
            " [ 0.35282689  0.98037821]\n",
            " [ 0.75927803  1.25259346]\n",
            " [ 0.97377323  1.19528499]\n",
            " [ 0.95119479  0.93739685]\n",
            " [ 1.26731257  0.75114431]\n",
            " [ 1.58343035  0.47892905]\n",
            " [ 1.38022437  0.30700363]\n",
            " [ 1.65118527 -0.0654897 ]\n",
            " [ 1.60600879 -0.20875893]\n",
            " [ 1.45924892 -0.39500951]\n",
            " [ 1.52698424 -0.63856661]\n",
            " [ 1.43667048 -0.95376322]\n",
            " [ 1.39151359 -1.25463271]\n",
            " [ 1.32375867 -1.3262683 ]\n",
            " [ 0.92861635 -1.68444627]\n",
            " [ 0.78185648 -1.3979039 ]\n",
            " [ 0.68023389 -1.05405305]\n",
            " [ 0.45444947 -1.36924966]\n",
            " [ 0.33024845 -1.74175474]\n",
            " [-0.06489584 -1.71310051]\n",
            " [ 0.05928755 -1.36924966]\n",
            " [-0.49390387 -1.11136152]\n",
            " [-1.03582566 -1.03972593]\n",
            " [-1.001958   -0.73885644]\n",
            " [-1.69063966 -0.73885644]\n",
            " [-1.6003259  -0.15145045]\n",
            " [-1.7132181   0.33565787]\n",
            " [-1.6003259   1.10932227]\n",
            " [-1.02453644  1.15230363]\n",
            " [-0.97937956  1.56779007]\n",
            " [-1.22776201  1.53913583]\n",
            " [-1.30678656  1.15230363]\n",
            " [-0.03102622  1.29557482]\n",
            " [-0.1213439   1.56779007]\n",
            " [-0.43745776  1.71106126]\n",
            " [-0.39230284  1.94025596]\n",
            " [ 0.33024845  1.8973334 ]\n",
            " [ 0.54476324  1.38153753]\n",
            " [ 1.01893011  1.5104816 ]\n",
            " [ 1.38022437  1.06634092]\n",
            " [ 1.08668503  1.02335956]\n",
            " [ 1.86577846 -0.03682762]\n",
            " [-0.32456359 -1.36924966]\n",
            " [-0.69712944 -1.48386661]\n",
            " [-0.52779113 -0.95376322]\n",
            " [-1.19389435 -0.82481915]\n",
            " [-1.14873747 -0.49529542]\n",
            " [-0.79873243 -0.35203011]\n",
            " [-1.43098758 -0.36635527]\n",
            " [-1.53259057 -0.65289372]\n",
            " [-1.40838954 -1.05405305]\n",
            " [-1.656772   -0.39500951]\n",
            " [-1.85999757  0.37863922]\n",
            " [-1.64548278  0.8227799 ]\n",
            " [-1.39710032  0.73681719]\n",
            " [-1.18260513  1.72538838]\n",
            " [-0.24553395  1.72538838]\n",
            " [ 1.00683732 -0.29311253]]\n"
          ]
        },
        {
          "output_type": "stream",
          "name": "stderr",
          "text": [
            "/usr/local/lib/python3.7/dist-packages/ipykernel_launcher.py:2: DeprecationWarning: scipy.loadtxt is deprecated and will be removed in SciPy 2.0.0, use numpy.loadtxt instead\n",
            "  \n"
          ]
        }
      ]
    },
    {
      "cell_type": "code",
      "metadata": {
        "id": "ORhzLtPqoqVc",
        "colab": {
          "base_uri": "https://localhost:8080/"
        },
        "outputId": "65a000e1-a7a6-4733-b8e5-a8032e048722"
      },
      "source": [
        "# Computa cost and gradientes\n",
        "# Inicializar\n",
        "import numpy as np\n",
        "X = np.hstack((np.ones((m, 1)), X_orig))\n",
        "print(X.shape)\n",
        "#X=sp.ones((m, 4))\n",
        "# theta = sp.zeros(n+1) # Usa vector fila por optimizacion\n",
        "theta=np.zeros(3)\n",
        "print(theta.shape)\n",
        "# Optimiza usando fmin_bfgs\n",
        "print('Inicio de optimización')\n",
        "res = fmin_bfgs(cost_function, theta, fprime=gradients,disp=True, maxiter=200, args=(X, Y))\n",
        "theta = np.matrix(res).T\n",
        "print(theta)"
      ],
      "execution_count": null,
      "outputs": [
        {
          "output_type": "stream",
          "name": "stdout",
          "text": [
            "(118, 3)\n",
            "(3,)\n",
            "Inicio de optimización\n",
            "[[0.69314698]]\n",
            "[[0.69200452]]\n",
            "[[0.69046884]]\n",
            "[[0.69025962]]\n",
            "[[0.6902498]]\n",
            "[[0.69024097]]\n",
            "[[0.69024093]]\n",
            "[[0.69024093]]\n",
            "[[0.69024092]]\n",
            "[[0.69024092]]\n",
            "Optimization terminated successfully.\n",
            "         Current function value: 0.690241\n",
            "         Iterations: 9\n",
            "         Function evaluations: 10\n",
            "         Gradient evaluations: 10\n",
            "[[-0.05244018]\n",
            " [-0.15483623]\n",
            " [-0.00924966]]\n"
          ]
        }
      ]
    },
    {
      "cell_type": "code",
      "metadata": {
        "id": "sw-YjbrToqVg",
        "colab": {
          "base_uri": "https://localhost:8080/",
          "height": 386
        },
        "outputId": "45dbd0a8-d8aa-4f2d-daf2-46c432b4a351"
      },
      "source": [
        "# Plot fiqure 1 (data)                 \n",
        "plt.figure(1)\n",
        "plt.xlabel('x1')\n",
        "plt.ylabel('x2')\n",
        "\n",
        "pos = sp.where(Y == 1)[0]\n",
        "neg = sp.where(Y == 0)[0]\n",
        "\n",
        "plt.plot(X[pos, 1], X[pos, 2], 'k+', linewidth=2, markersize=7)\n",
        "plt.plot(X[neg, 1], X[neg, 2], 'ko', markerfacecolor='y', markersize=7)\n"
      ],
      "execution_count": null,
      "outputs": [
        {
          "output_type": "stream",
          "name": "stderr",
          "text": [
            "/usr/local/lib/python3.7/dist-packages/ipykernel_launcher.py:6: DeprecationWarning: scipy.where is deprecated and will be removed in SciPy 2.0.0, use numpy.where instead\n",
            "  \n",
            "/usr/local/lib/python3.7/dist-packages/ipykernel_launcher.py:7: DeprecationWarning: scipy.where is deprecated and will be removed in SciPy 2.0.0, use numpy.where instead\n",
            "  import sys\n"
          ]
        },
        {
          "output_type": "execute_result",
          "data": {
            "text/plain": [
              "[<matplotlib.lines.Line2D at 0x7fdaf855eb90>]"
            ]
          },
          "metadata": {},
          "execution_count": 17
        },
        {
          "output_type": "display_data",
          "data": {
            "text/plain": [
              "<Figure size 432x288 with 1 Axes>"
            ],
            "image/png": "[encoded data removed]"
          },
          "metadata": {
            "needs_background": "light"
          }
        }
      ]
    },
    {
      "cell_type": "code",
      "metadata": {
        "id": "2vvBMAG2oqVk",
        "colab": {
          "base_uri": "https://localhost:8080/",
          "height": 279
        },
        "outputId": "531475ed-376d-4430-dbc7-57e6dde38f17"
      },
      "source": [
        "# Plot fiqure 2 (linea de decision)\n",
        "plt.figure(2)\n",
        "plt.xlabel('x1')\n",
        "plt.ylabel('x2')\n",
        "# plt.ylim(-5,5)\n",
        "       \n",
        "plt.ylim(np.min(X[:, 2])-2, np.max(X[:, 2])+2)\n",
        "\n",
        "pos = np.where(Y == 1)[0]\n",
        "neg = np.where(Y == 0)[0]\n",
        "\n",
        "plt.plot(X[pos, 1], X[pos, 2], 'k+', linewidth=2, markersize=7)\n",
        "plt.plot(X[neg, 1], X[neg, 2], 'ko', markerfacecolor='y', markersize=7)\n",
        "\n",
        "if X.shape[0] >= 3:\n",
        "  plot_x = np.array([np.amin(X[:, 1]) -0 , np.amax(X[:, 1]) + 0])\n",
        "\n",
        "  # viene de /theta_0+theta_1*x(1)+theta_2*x(2)=0 -> theta_2=(/theta_0+theta_1*x(1))/(-theta_2) ;)\n",
        "  plot_y = (-1 / theta[2, 0]) * (theta[0, 0] + theta[1, 0] * plot_x)\n",
        "  plt.plot(plot_x, plot_y)\n",
        "  plt.savefig('1.png')"
      ],
      "execution_count": null,
      "outputs": [
        {
          "output_type": "display_data",
          "data": {
            "text/plain": [
              "<Figure size 432x288 with 1 Axes>"
            ],
            "image/png": "[encoded data removed]"
          },
          "metadata": {
            "needs_background": "light"
          }
        }
      ]
    },
    {
      "cell_type": "code",
      "metadata": {
        "id": "tik5_IJwoqVn",
        "colab": {
          "base_uri": "https://localhost:8080/"
        },
        "outputId": "75f43d8a-3f4c-4fe3-e1b7-7d4d0d719893"
      },
      "source": [
        "p = predict(theta, X)\n",
        "r = sp.mean(sp.double(p == Y)) * 100\n",
        "\n",
        "print(\"Train Accuracy: {r}%\".format(**locals()))\n"
      ],
      "execution_count": null,
      "outputs": [
        {
          "output_type": "stream",
          "name": "stdout",
          "text": [
            "Train Accuracy: 55.08474576271186%\n"
          ]
        },
        {
          "output_type": "stream",
          "name": "stderr",
          "text": [
            "/usr/local/lib/python3.7/dist-packages/ipykernel_launcher.py:2: DeprecationWarning: scipy.mean is deprecated and will be removed in SciPy 2.0.0, use numpy.mean instead\n",
            "  \n"
          ]
        }
      ]
    },
    {
      "cell_type": "code",
      "metadata": {
        "id": "d6eDXHvtoqVr",
        "colab": {
          "base_uri": "https://localhost:8080/"
        },
        "outputId": "eaa02b56-05db-4d7d-c61e-040873a08061"
      },
      "source": [
        "theta"
      ],
      "execution_count": null,
      "outputs": [
        {
          "output_type": "execute_result",
          "data": {
            "text/plain": [
              "matrix([[1.71950757],\n",
              "        [3.90308725],\n",
              "        [3.81401615]])"
            ]
          },
          "metadata": {},
          "execution_count": 12
        }
      ]
    },
    {
      "cell_type": "code",
      "metadata": {
        "id": "TbEC6fRroqVu"
      },
      "source": [
        ""
      ],
      "execution_count": null,
      "outputs": []
    }
  ]
}