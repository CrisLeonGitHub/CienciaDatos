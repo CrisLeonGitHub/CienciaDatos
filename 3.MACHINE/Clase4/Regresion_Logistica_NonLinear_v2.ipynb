{
  "nbformat": 4,
  "nbformat_minor": 0,
  "metadata": {
    "kernelspec": {
      "display_name": "Python 3 (system-wide)",
      "language": "python",
      "name": "python3"
    },
    "language_info": {
      "codemirror_mode": {
        "name": "ipython",
        "version": 3
      },
      "file_extension": ".py",
      "mimetype": "text/x-python",
      "name": "python",
      "nbconvert_exporter": "python",
      "pygments_lexer": "ipython3",
      "version": "3.6.9"
    },
    "colab": {
      "name": "Regresion Logistica - NonLinear v2.ipynb",
      "provenance": []
    }
  },
  "cells": [
    {
      "cell_type": "markdown",
      "metadata": {
        "id": "p13gADyA__h2"
      },
      "source": [
        "# Regresion Logistica No lineal v2\n",
        "## Version mejorada: se agregaron features mas flexibles!"
      ]
    },
    {
      "cell_type": "code",
      "metadata": {
        "id": "5DAwkcRo__h4"
      },
      "source": [
        "import scipy as sp\n",
        "import numpy as np\n",
        "import matplotlib.pyplot as plt\n",
        "from scipy.optimize import fmin_bfgs\n",
        "from numpy import mean,std\n",
        "\n",
        "degree=40\n",
        "lambda_=0.00\n",
        "#def map_feature(X1, X2):\n",
        "#  degree = 40\n",
        "#  out = sp.matrix([\n",
        "#          list(map(lambda c: c.real, sp.multiply(sp.power(X1, (i-j)), sp.power(X2, j)).flatten().tolist()))\n",
        "#            for i in range(0, degree+1) \n",
        "#            for j in range(0, i+1)\n",
        "#        ]).T\n",
        "#  return out\n",
        "\n",
        "def mapFeature(X1, X2):\n",
        "  #Genera mapa de instancias considerando grado ejm, si degree es 2, tengo x1 y x2 como variales originales \n",
        "  #entonces se genera {x1*x2,x1**2,x2**2,x1,x2,1} que reemplaza {x1,x2}\n",
        "# degree = 20\n",
        " if isinstance(X1,float):\n",
        "  check=np.ones((1,1))\n",
        "  X1=X1*check\n",
        "  X2=X2*check\n",
        " \n",
        " m, n = X1.shape\n",
        " dg=int((degree+1)*(degree+2)/2)\n",
        "#  #Numero de monomios que se agregan\n",
        "#  print(\"Numero de monomios que se agregan\", dg)\n",
        " out=np.ones((m, dg))\n",
        " k=0\n",
        " for i in range(degree+1):\n",
        "    for j in range(i+1):        \n",
        "        aux3=np.multiply(np.power(X1, i-j),np.power(X2, j))\n",
        "        aux3=np.asmatrix(aux3)\n",
        "        out[:,k]=aux3.getA1()\n",
        "        k=k+1\n",
        " return out\n",
        "# Define sigmoide, funcion de costo y gradientes\n",
        "def sigmoid(z):\n",
        "  return 1 / (1 + np.exp(-z))\n",
        "\n",
        "def cost_function(theta, X, Y):\n",
        "  m, n = X.shape\n",
        "#  lambda_=0.001000\n",
        "  theta = np.matrix(theta).T\n",
        "  J = (1 / m) * (-Y.T * np.log(sigmoid(X * theta)+1e-7) - ((1 - Y).T * np.log(1 - sigmoid(X * theta)+1e-7)))\n",
        "  regul=np.multiply(theta,theta) #th1*th1+th2*th2+...+thn*thn -> regularizacion ridge.\n",
        "  aux1=sum(regul[1:m])\n",
        "  J=J+(lambda_/m)*aux1  \n",
        "  return J[0, 0]\n",
        "\n",
        "def gradients(theta, X, Y):\n",
        "  m, n = X.shape\n",
        "#  lambda_=0.00100\n",
        "  theta = np.matrix(theta).T\n",
        "  grad = ((1 / m) * X.T * (sigmoid(X * theta) - Y)).T\n",
        "  grad = np.squeeze(np.asarray(grad))\n",
        "  aux=theta[1:n]\n",
        "  grad[1:n]=grad[1:n]+(lambda_/m)*aux.getA1()\n",
        "  return grad\n",
        "\n",
        "def predict(theta, X):\n",
        "  return np.around(sigmoid(X * theta))"
      ],
      "execution_count": null,
      "outputs": []
    },
    {
      "cell_type": "code",
      "metadata": {
        "id": "Q3-v90hL__h8",
        "colab": {
          "base_uri": "https://localhost:8080/"
        },
        "outputId": "a619038e-843d-4e24-b162-0160baa1530c"
      },
      "source": [
        "# Carga data de data source 1\n",
        "data = np.matrix(np.loadtxt(\"ex2data2.txt\", delimiter=' '))\n",
        "X = data[:, 0:2]\n",
        "oldX=X\n",
        "\n",
        "X=mapFeature(oldX[:,0], oldX[:,1])\n",
        "print(X.shape)\n",
        "# X = (X - mean(X))/std(X) \n",
        "Y = data[:, 2]\n",
        "m, n = X.shape\n",
        "#print(\"size\")\n",
        "#print(X.shape)\n",
        "# Compute cost and gradients\n",
        "# Initialize\n",
        "#X = sp.hstack((sp.ones((m, 1)), X))\n",
        "\n",
        "theta = np.zeros(n) # Use vector fila para optimizar\n",
        "\n",
        "# Optimiza con fmin_bfgs\n",
        "res = fmin_bfgs(cost_function, theta, fprime=gradients,disp=True, maxiter=1000, args=(X, Y), full_output=False)\n",
        "theta = np.matrix(res).T"
      ],
      "execution_count": null,
      "outputs": [
        {
          "output_type": "stream",
          "name": "stdout",
          "text": [
            "(118, 861)\n"
          ]
        },
        {
          "output_type": "stream",
          "name": "stderr",
          "text": [
            "/usr/local/lib/python3.7/dist-packages/ipykernel_launcher.py:42: RuntimeWarning: overflow encountered in exp\n"
          ]
        },
        {
          "output_type": "stream",
          "name": "stdout",
          "text": [
            "Optimization terminated successfully.\n",
            "         Current function value: 0.109617\n",
            "         Iterations: 735\n",
            "         Function evaluations: 781\n",
            "         Gradient evaluations: 781\n"
          ]
        }
      ]
    },
    {
      "cell_type": "code",
      "metadata": {
        "id": "Cxcjg0FQ__iB",
        "colab": {
          "base_uri": "https://localhost:8080/",
          "height": 386
        },
        "outputId": "32d7ceb6-e521-4672-cabd-b6b104cbe561"
      },
      "source": [
        "#X=oldX\n",
        "# Plot fiqure 1 (data)    \n",
        "plt.clf()             \n",
        "plt.figure(1)\n",
        "plt.xlabel('x1')\n",
        "plt.ylabel('x2')\n",
        "\n",
        "pos = sp.where(Y == 1)[0]\n",
        "neg = sp.where(Y == 0)[0]\n",
        "\n",
        "plt.plot(X[pos, 1], X[pos, 2], 'k+', linewidth=2, markersize=7)\n",
        "plt.plot(X[neg, 1], X[neg, 2], 'ko', markerfacecolor='y', markersize=7)"
      ],
      "execution_count": null,
      "outputs": [
        {
          "output_type": "stream",
          "name": "stderr",
          "text": [
            "/usr/local/lib/python3.7/dist-packages/ipykernel_launcher.py:8: DeprecationWarning: scipy.where is deprecated and will be removed in SciPy 2.0.0, use numpy.where instead\n",
            "  \n",
            "/usr/local/lib/python3.7/dist-packages/ipykernel_launcher.py:9: DeprecationWarning: scipy.where is deprecated and will be removed in SciPy 2.0.0, use numpy.where instead\n",
            "  if __name__ == '__main__':\n"
          ]
        },
        {
          "output_type": "execute_result",
          "data": {
            "text/plain": [
              "[<matplotlib.lines.Line2D at 0x7f6bcae9fc90>]"
            ]
          },
          "metadata": {},
          "execution_count": 22
        },
        {
          "output_type": "display_data",
          "data": {
            "text/plain": [
              "<Figure size 432x288 with 1 Axes>"
            ],
            "image/png": "[encoded data removed]"
          },
          "metadata": {
            "needs_background": "light"
          }
        }
      ]
    },
    {
      "cell_type": "code",
      "metadata": {
        "id": "miW21K8S__iG"
      },
      "source": [
        "# # Plot fiqure 2 (borde de decision)\n",
        "# plt.figure(2)\n",
        "# plt.xlabel('x1')\n",
        "# plt.ylabel('x2')\n",
        "\n",
        "# pos = sp.where(Y == 1)[0]\n",
        "# neg = sp.where(Y == 0)[0]\n",
        "\n",
        "# plt.plot(X[pos, 1], X[pos, 2], 'ko', markerfacecolor='b',linewidth=2, markersize=10)\n",
        "# plt.plot(X[neg, 1], X[neg, 2], 'ko', markerfacecolor='y', markersize=10)\n"
      ],
      "execution_count": null,
      "outputs": []
    },
    {
      "cell_type": "code",
      "metadata": {
        "id": "eAKN4sSd__iJ",
        "colab": {
          "base_uri": "https://localhost:8080/"
        },
        "outputId": "0b890df1-2c82-4dc6-920a-d5f3f1adb64a"
      },
      "source": [
        "p = predict(theta, X)\n",
        "r = np.mean(np.double(p == Y)) * 100\n",
        "print(r)"
      ],
      "execution_count": null,
      "outputs": [
        {
          "output_type": "stream",
          "name": "stdout",
          "text": [
            "94.91525423728814\n"
          ]
        },
        {
          "output_type": "stream",
          "name": "stderr",
          "text": [
            "/usr/local/lib/python3.7/dist-packages/ipykernel_launcher.py:42: RuntimeWarning: overflow encountered in exp\n"
          ]
        }
      ]
    },
    {
      "cell_type": "code",
      "metadata": {
        "id": "GYuT67kS__iN",
        "colab": {
          "base_uri": "https://localhost:8080/",
          "height": 508
        },
        "outputId": "5d4dd866-e872-47fe-f2e6-757b4a56e276"
      },
      "source": [
        "#Borde de decision\n",
        "plt.plot(X[pos, 1], X[pos, 2], 'k+', linewidth=2, markersize=7)\n",
        "plt.plot(X[neg, 1], X[neg, 2], 'ko', markerfacecolor='y', markersize=7)\n",
        "# X = (X - mean(X))/std(X) \n",
        "plt.ylim(np.min(X[:, 2])-1, np.max(X[:, 2])+1)\n",
        "\n",
        "# u = np.linspace(-0.6145, -0.6146,50)\n",
        "# v = np.linspace(-0.6145, -0.6146,50)\n",
        "u = np.linspace(np.min(X[:, 1])-1, np.max(X[:, 1])+1,num=50)\n",
        "v = np.linspace(np.min(X[:, 2])-1, np.max(X[:, 2])+1,num=50)\n",
        "# print(u)\n",
        "# print(v)\n",
        "# print(theta)\n",
        "z = np.matrix(\n",
        "      np.reshape(\n",
        "        [ mapFeature(u[i], v[j]) * theta\n",
        "           for i in range(0, len(u))\n",
        "           for j in range(0, len(v)) \n",
        "        ], [50, 50])).T\n",
        "print(z) \n",
        "\n",
        "\n",
        "plt.contour(u, v, z, 0)\n",
        "\n",
        "print(\"Train Accuracy: {r}%\".format(**locals()))"
      ],
      "execution_count": null,
      "outputs": [
        {
          "output_type": "stream",
          "name": "stdout",
          "text": [
            "[[-1.08963921e+13 -9.66968574e+12 -9.44917378e+12 ... -5.64643784e+13\n",
            "  -1.89083891e+14 -7.67069095e+14]\n",
            " [-2.93591112e+12 -1.73305379e+12 -1.52529990e+12 ... -3.81137066e+13\n",
            "  -1.66622304e+14 -7.32117173e+14]\n",
            " [-1.64603070e+12 -4.56217636e+11 -2.52532133e+11 ... -3.42718311e+13\n",
            "  -1.59994413e+14 -7.15431549e+14]\n",
            " ...\n",
            " [-2.47228785e+15 -2.34794219e+15 -2.23749515e+15 ... -1.35662651e+15\n",
            "  -1.48435905e+15 -2.03815950e+15]\n",
            " [-1.11996855e+16 -1.06917749e+16 -1.02347630e+16 ... -6.30076341e+15\n",
            "  -6.44293909e+15 -7.01612413e+15]\n",
            " [-4.82143206e+16 -4.62204453e+16 -4.44141427e+16 ... -2.80654965e+16\n",
            "  -2.82591984e+16 -2.88919842e+16]]\n",
            "Train Accuracy: 94.91525423728814%\n"
          ]
        },
        {
          "output_type": "display_data",
          "data": {
            "text/plain": [
              "<Figure size 432x288 with 1 Axes>"
            ],
            "image/png": "[encoded data removed]"
          },
          "metadata": {
            "needs_background": "light"
          }
        }
      ]
    },
    {
      "cell_type": "code",
      "metadata": {
        "id": "9PFIDANk__iQ",
        "colab": {
          "base_uri": "https://localhost:8080/"
        },
        "outputId": "a0f078ea-6ae1-455d-8fa2-46dfd05373e6"
      },
      "source": [
        "print(theta)"
      ],
      "execution_count": null,
      "outputs": [
        {
          "output_type": "stream",
          "name": "stdout",
          "text": [
            "[[  5.11015589]\n",
            " [  3.20613103]\n",
            " [  4.11018218]\n",
            " [-11.89482701]\n",
            " [ -7.42328973]\n",
            " [-11.66711173]]\n"
          ]
        }
      ]
    },
    {
      "cell_type": "code",
      "metadata": {
        "id": "TvihtOSu__iV"
      },
      "source": [
        ""
      ],
      "execution_count": null,
      "outputs": []
    }
  ]
}