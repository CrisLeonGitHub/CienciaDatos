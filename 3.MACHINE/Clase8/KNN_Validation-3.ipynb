{
  "nbformat": 4,
  "nbformat_minor": 0,
  "metadata": {
    "kernelspec": {
      "name": "python3",
      "display_name": "Python 3"
    },
    "colab": {
      "name": "KNN_Validation.ipynb",
      "provenance": [],
      "collapsed_sections": []
    },
    "widgets": {
      "application/vnd.jupyter.widget-state+json": {
        "71764dfd1a494c24971d91b1616f2012": {
          "model_module": "@jupyter-widgets/controls",
          "model_name": "VBoxModel",
          "model_module_version": "1.5.0",
          "state": {
            "_dom_classes": [
              "widget-interact"
            ],
            "_model_module": "@jupyter-widgets/controls",
            "_model_module_version": "1.5.0",
            "_model_name": "VBoxModel",
            "_view_count": null,
            "_view_module": "@jupyter-widgets/controls",
            "_view_module_version": "1.5.0",
            "_view_name": "VBoxView",
            "box_style": "",
            "children": [
              "IPY_MODEL_ee2dbdc698ff4ca99c1a892de2b24f17",
              "IPY_MODEL_47ffd1f4e5084a9f9c2bd634121d7f0d",
              "IPY_MODEL_e1c13fc883c04ab0988159ddc6321cb6"
            ],
            "layout": "IPY_MODEL_62616c545010421c9ce2ed28042996e6"
          }
        },
        "ee2dbdc698ff4ca99c1a892de2b24f17": {
          "model_module": "@jupyter-widgets/controls",
          "model_name": "DropdownModel",
          "model_module_version": "1.5.0",
          "state": {
            "_dom_classes": [],
            "_model_module": "@jupyter-widgets/controls",
            "_model_module_version": "1.5.0",
            "_model_name": "DropdownModel",
            "_options_labels": [
              "1",
              "2",
              "30"
            ],
            "_view_count": null,
            "_view_module": "@jupyter-widgets/controls",
            "_view_module_version": "1.5.0",
            "_view_name": "DropdownView",
            "description": "degree",
            "description_tooltip": null,
            "disabled": false,
            "index": 0,
            "layout": "IPY_MODEL_4588f4277e4f4b6cbf0260ebcde20e27",
            "style": "IPY_MODEL_b6109124b67e40f382254a0a40b12046"
          }
        },
        "47ffd1f4e5084a9f9c2bd634121d7f0d": {
          "model_module": "@jupyter-widgets/controls",
          "model_name": "DropdownModel",
          "model_module_version": "1.5.0",
          "state": {
            "_dom_classes": [],
            "_model_module": "@jupyter-widgets/controls",
            "_model_module_version": "1.5.0",
            "_model_name": "DropdownModel",
            "_options_labels": [
              "2",
              "20",
              "100"
            ],
            "_view_count": null,
            "_view_module": "@jupyter-widgets/controls",
            "_view_module_version": "1.5.0",
            "_view_name": "DropdownView",
            "description": "Npts",
            "description_tooltip": null,
            "disabled": false,
            "index": 2,
            "layout": "IPY_MODEL_d99ac2e9179a4e0d8f7dd52b4ac5f070",
            "style": "IPY_MODEL_d82a59af1e184a1491aeac5dd4ac841a"
          }
        },
        "e1c13fc883c04ab0988159ddc6321cb6": {
          "model_module": "@jupyter-widgets/output",
          "model_name": "OutputModel",
          "model_module_version": "1.0.0",
          "state": {
            "_dom_classes": [],
            "_model_module": "@jupyter-widgets/output",
            "_model_module_version": "1.0.0",
            "_model_name": "OutputModel",
            "_view_count": null,
            "_view_module": "@jupyter-widgets/output",
            "_view_module_version": "1.0.0",
            "_view_name": "OutputView",
            "layout": "IPY_MODEL_a0b45d852adc46e5855146a9d2ebf653",
            "msg_id": "",
            "outputs": [
              {
                "output_type": "display_data",
                "data": {
                  "text/plain": "<Figure size 432x288 with 1 Axes>",
                  "image/png": "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\n"
                },
                "metadata": {}
              }
            ]
          }
        },
        "62616c545010421c9ce2ed28042996e6": {
          "model_module": "@jupyter-widgets/base",
          "model_name": "LayoutModel",
          "model_module_version": "1.2.0",
          "state": {
            "_model_module": "@jupyter-widgets/base",
            "_model_module_version": "1.2.0",
            "_model_name": "LayoutModel",
            "_view_count": null,
            "_view_module": "@jupyter-widgets/base",
            "_view_module_version": "1.2.0",
            "_view_name": "LayoutView",
            "align_content": null,
            "align_items": null,
            "align_self": null,
            "border": null,
            "bottom": null,
            "display": null,
            "flex": null,
            "flex_flow": null,
            "grid_area": null,
            "grid_auto_columns": null,
            "grid_auto_flow": null,
            "grid_auto_rows": null,
            "grid_column": null,
            "grid_gap": null,
            "grid_row": null,
            "grid_template_areas": null,
            "grid_template_columns": null,
            "grid_template_rows": null,
            "height": null,
            "justify_content": null,
            "justify_items": null,
            "left": null,
            "margin": null,
            "max_height": null,
            "max_width": null,
            "min_height": null,
            "min_width": null,
            "object_fit": null,
            "object_position": null,
            "order": null,
            "overflow": null,
            "overflow_x": null,
            "overflow_y": null,
            "padding": null,
            "right": null,
            "top": null,
            "visibility": null,
            "width": null
          }
        },
        "4588f4277e4f4b6cbf0260ebcde20e27": {
          "model_module": "@jupyter-widgets/base",
          "model_name": "LayoutModel",
          "model_module_version": "1.2.0",
          "state": {
            "_model_module": "@jupyter-widgets/base",
            "_model_module_version": "1.2.0",
            "_model_name": "LayoutModel",
            "_view_count": null,
            "_view_module": "@jupyter-widgets/base",
            "_view_module_version": "1.2.0",
            "_view_name": "LayoutView",
            "align_content": null,
            "align_items": null,
            "align_self": null,
            "border": null,
            "bottom": null,
            "display": null,
            "flex": null,
            "flex_flow": null,
            "grid_area": null,
            "grid_auto_columns": null,
            "grid_auto_flow": null,
            "grid_auto_rows": null,
            "grid_column": null,
            "grid_gap": null,
            "grid_row": null,
            "grid_template_areas": null,
            "grid_template_columns": null,
            "grid_template_rows": null,
            "height": null,
            "justify_content": null,
            "justify_items": null,
            "left": null,
            "margin": null,
            "max_height": null,
            "max_width": null,
            "min_height": null,
            "min_width": null,
            "object_fit": null,
            "object_position": null,
            "order": null,
            "overflow": null,
            "overflow_x": null,
            "overflow_y": null,
            "padding": null,
            "right": null,
            "top": null,
            "visibility": null,
            "width": null
          }
        },
        "b6109124b67e40f382254a0a40b12046": {
          "model_module": "@jupyter-widgets/controls",
          "model_name": "DescriptionStyleModel",
          "model_module_version": "1.5.0",
          "state": {
            "_model_module": "@jupyter-widgets/controls",
            "_model_module_version": "1.5.0",
            "_model_name": "DescriptionStyleModel",
            "_view_count": null,
            "_view_module": "@jupyter-widgets/base",
            "_view_module_version": "1.2.0",
            "_view_name": "StyleView",
            "description_width": ""
          }
        },
        "d99ac2e9179a4e0d8f7dd52b4ac5f070": {
          "model_module": "@jupyter-widgets/base",
          "model_name": "LayoutModel",
          "model_module_version": "1.2.0",
          "state": {
            "_model_module": "@jupyter-widgets/base",
            "_model_module_version": "1.2.0",
            "_model_name": "LayoutModel",
            "_view_count": null,
            "_view_module": "@jupyter-widgets/base",
            "_view_module_version": "1.2.0",
            "_view_name": "LayoutView",
            "align_content": null,
            "align_items": null,
            "align_self": null,
            "border": null,
            "bottom": null,
            "display": null,
            "flex": null,
            "flex_flow": null,
            "grid_area": null,
            "grid_auto_columns": null,
            "grid_auto_flow": null,
            "grid_auto_rows": null,
            "grid_column": null,
            "grid_gap": null,
            "grid_row": null,
            "grid_template_areas": null,
            "grid_template_columns": null,
            "grid_template_rows": null,
            "height": null,
            "justify_content": null,
            "justify_items": null,
            "left": null,
            "margin": null,
            "max_height": null,
            "max_width": null,
            "min_height": null,
            "min_width": null,
            "object_fit": null,
            "object_position": null,
            "order": null,
            "overflow": null,
            "overflow_x": null,
            "overflow_y": null,
            "padding": null,
            "right": null,
            "top": null,
            "visibility": null,
            "width": null
          }
        },
        "d82a59af1e184a1491aeac5dd4ac841a": {
          "model_module": "@jupyter-widgets/controls",
          "model_name": "DescriptionStyleModel",
          "model_module_version": "1.5.0",
          "state": {
            "_model_module": "@jupyter-widgets/controls",
            "_model_module_version": "1.5.0",
            "_model_name": "DescriptionStyleModel",
            "_view_count": null,
            "_view_module": "@jupyter-widgets/base",
            "_view_module_version": "1.2.0",
            "_view_name": "StyleView",
            "description_width": ""
          }
        },
        "a0b45d852adc46e5855146a9d2ebf653": {
          "model_module": "@jupyter-widgets/base",
          "model_name": "LayoutModel",
          "model_module_version": "1.2.0",
          "state": {
            "_model_module": "@jupyter-widgets/base",
            "_model_module_version": "1.2.0",
            "_model_name": "LayoutModel",
            "_view_count": null,
            "_view_module": "@jupyter-widgets/base",
            "_view_module_version": "1.2.0",
            "_view_name": "LayoutView",
            "align_content": null,
            "align_items": null,
            "align_self": null,
            "border": null,
            "bottom": null,
            "display": null,
            "flex": null,
            "flex_flow": null,
            "grid_area": null,
            "grid_auto_columns": null,
            "grid_auto_flow": null,
            "grid_auto_rows": null,
            "grid_column": null,
            "grid_gap": null,
            "grid_row": null,
            "grid_template_areas": null,
            "grid_template_columns": null,
            "grid_template_rows": null,
            "height": null,
            "justify_content": null,
            "justify_items": null,
            "left": null,
            "margin": null,
            "max_height": null,
            "max_width": null,
            "min_height": null,
            "min_width": null,
            "object_fit": null,
            "object_position": null,
            "order": null,
            "overflow": null,
            "overflow_x": null,
            "overflow_y": null,
            "padding": null,
            "right": null,
            "top": null,
            "visibility": null,
            "width": null
          }
        }
      }
    }
  },
  "cells": [
    {
      "cell_type": "markdown",
      "metadata": {
        "id": "WNjAREFH_3c2"
      },
      "source": [
        "# KNN considerando Validación"
      ]
    },
    {
      "cell_type": "markdown",
      "metadata": {
        "id": "btQTxT5h_3c6"
      },
      "source": [
        "En este curso vimos regresión logística y redes neuronales, sin embargo hay muchos otros modelos como árboles de decisión, K-vecinos cercanos (KNN) y modelos de ensambles entre muchos otros. En este ejercicio probaremos KNN como un clasificador haremos una evaluación del modelo además de ajustar *hiperparámetros*."
      ]
    },
    {
      "cell_type": "code",
      "metadata": {
        "id": "Bdi6EVwH_3c8"
      },
      "source": [
        "from __future__ import print_function, division\n",
        "\n",
        "%matplotlib inline\n",
        "import numpy as np\n",
        "import matplotlib.pyplot as plt\n",
        "import seaborn as sns; sns.set()"
      ],
      "execution_count": 57,
      "outputs": []
    },
    {
      "cell_type": "code",
      "metadata": {
        "id": "6VEBTWqe061m",
        "colab": {
          "base_uri": "https://localhost:8080/"
        },
        "outputId": "ab98ddef-a9e0-4aae-e86d-557d42111395"
      },
      "source": [
        "!pip install sklearn"
      ],
      "execution_count": 58,
      "outputs": [
        {
          "output_type": "stream",
          "name": "stdout",
          "text": [
            "Looking in indexes: https://pypi.org/simple, https://us-python.pkg.dev/colab-wheels/public/simple/\n",
            "Requirement already satisfied: sklearn in /usr/local/lib/python3.7/dist-packages (0.0)\n",
            "Requirement already satisfied: scikit-learn in /usr/local/lib/python3.7/dist-packages (from sklearn) (1.0.2)\n",
            "Requirement already satisfied: scipy>=1.1.0 in /usr/local/lib/python3.7/dist-packages (from scikit-learn->sklearn) (1.7.3)\n",
            "Requirement already satisfied: numpy>=1.14.6 in /usr/local/lib/python3.7/dist-packages (from scikit-learn->sklearn) (1.21.6)\n",
            "Requirement already satisfied: joblib>=0.11 in /usr/local/lib/python3.7/dist-packages (from scikit-learn->sklearn) (1.1.0)\n",
            "Requirement already satisfied: threadpoolctl>=2.0.0 in /usr/local/lib/python3.7/dist-packages (from scikit-learn->sklearn) (3.1.0)\n"
          ]
        }
      ]
    },
    {
      "cell_type": "markdown",
      "metadata": {
        "id": "hdOyREfX_3dE"
      },
      "source": [
        "## Validación de modelos\n",
        "\n",
        "Una parte muy importante del aprendizaje automático es la **validación del modelo**: es decir, verificar qué tan bien se ajusta su modelo a un conjunto de datos dado. Considere un dataset de dígitos, la pregunta es: ¿Cómo podríamos comprobar qué tan bien nuestro modelo se ajusta a los datos?\n"
      ]
    },
    {
      "cell_type": "code",
      "metadata": {
        "id": "Ejr2W_6R_3dG",
        "colab": {
          "base_uri": "https://localhost:8080/"
        },
        "outputId": "d4d1fb29-263e-4268-8fa0-220340f3e9f9"
      },
      "source": [
        "from sklearn.datasets import load_digits #base de datos MNIST\n",
        "digits = load_digits()\n",
        "X = digits.data\n",
        "y = digits.target\n",
        "print(X)\n",
        "print(type(X))\n",
        "print(y)\n",
        "print(X.shape)\n",
        "print(y.shape)\n",
        "print(np.max(X))"
      ],
      "execution_count": 59,
      "outputs": [
        {
          "output_type": "stream",
          "name": "stdout",
          "text": [
            "[[ 0.  0.  5. ...  0.  0.  0.]\n",
            " [ 0.  0.  0. ... 10.  0.  0.]\n",
            " [ 0.  0.  0. ... 16.  9.  0.]\n",
            " ...\n",
            " [ 0.  0.  1. ...  6.  0.  0.]\n",
            " [ 0.  0.  2. ... 12.  0.  0.]\n",
            " [ 0.  0. 10. ... 12.  1.  0.]]\n",
            "<class 'numpy.ndarray'>\n",
            "[0 1 2 ... 8 9 8]\n",
            "(1797, 64)\n",
            "(1797,)\n",
            "16.0\n"
          ]
        }
      ]
    },
    {
      "cell_type": "code",
      "metadata": {
        "id": "qfo3_Fp1u56p",
        "colab": {
          "base_uri": "https://localhost:8080/",
          "height": 314
        },
        "outputId": "6fc632b1-ba94-4daf-b45b-b9e8c4eb2ac8"
      },
      "source": [
        "plt.gray() #doctest: +SKIP  \n",
        "plt.matshow(digits.images[500]) #doctest: +SKIP  \n",
        "plt.show() #doctest: +SKIP  \n",
        "print(digits.target[500])"
      ],
      "execution_count": 63,
      "outputs": [
        {
          "output_type": "display_data",
          "data": {
            "text/plain": [
              "<Figure size 432x288 with 0 Axes>"
            ]
          },
          "metadata": {}
        },
        {
          "output_type": "display_data",
          "data": {
            "text/plain": [
              "<Figure size 288x288 with 1 Axes>"
            ],
            "image/png": "[encoded data removed]"
          },
          "metadata": {}
        },
        {
          "output_type": "stream",
          "name": "stdout",
          "text": [
            "8\n"
          ]
        }
      ]
    },
    {
      "cell_type": "markdown",
      "metadata": {
        "id": "QjtKEmLQ_3dM"
      },
      "source": [
        "Ajustemos un clasificador de K vecinos cercanos."
      ]
    },
    {
      "cell_type": "code",
      "metadata": {
        "id": "J_dyK7ep_3dN",
        "colab": {
          "base_uri": "https://localhost:8080/"
        },
        "outputId": "9aec2f18-ca27-4fe8-9efb-9e9ad7a2cc9c"
      },
      "source": [
        "from sklearn.neighbors import KNeighborsClassifier\n",
        "knn = KNeighborsClassifier(n_neighbors=1) #1NN \n",
        "knn.fit(X, y)"
      ],
      "execution_count": 64,
      "outputs": [
        {
          "output_type": "execute_result",
          "data": {
            "text/plain": [
              "KNeighborsClassifier(n_neighbors=1)"
            ]
          },
          "metadata": {},
          "execution_count": 64
        }
      ]
    },
    {
      "cell_type": "markdown",
      "metadata": {
        "id": "UIyK0kUH_3dV"
      },
      "source": [
        "Usaremos este clasificador para *predecir* etiquetas de datos."
      ]
    },
    {
      "cell_type": "code",
      "metadata": {
        "id": "GTxL3iFn_3dX"
      },
      "source": [
        "y_pred = knn.predict(X)"
      ],
      "execution_count": 65,
      "outputs": []
    },
    {
      "cell_type": "markdown",
      "metadata": {
        "id": "kBCBZ5A3_3da"
      },
      "source": [
        "Ahora podemos chequear que tan bien lo hicimos:"
      ]
    },
    {
      "cell_type": "code",
      "metadata": {
        "id": "YWi6V-Rc_3da",
        "colab": {
          "base_uri": "https://localhost:8080/"
        },
        "outputId": "1bd1d120-7054-4fbf-cbec-5346740631c4"
      },
      "source": [
        "print(\"{0} / {1} correct\".format(np.sum(y == y_pred), len(y)))"
      ],
      "execution_count": 66,
      "outputs": [
        {
          "output_type": "stream",
          "name": "stdout",
          "text": [
            "1797 / 1797 correct\n"
          ]
        }
      ]
    },
    {
      "cell_type": "markdown",
      "metadata": {
        "id": "1mu1R8n0_3dd"
      },
      "source": [
        "El mejor resultado posible!.. ¿pero observan algo?\n"
      ]
    },
    {
      "cell_type": "markdown",
      "metadata": {
        "id": "T_ioq6wA_3de"
      },
      "source": [
        "## Set de Validación\n",
        "\n",
        "Arriba cometimos el error de probar nuestros datos en el mismo conjunto de datos que se utilizó para el entrenamiento. **Esto generalmente no es una buena idea**. Si optimizamos nuestro estimador de esta manera, tendremos a **sobreajustar** los datos: es decir, aprendemos el ruido.\n",
        "\n",
        "Una mejor manera de probar un modelo es usar un conjunto de prueba (o test) que no ingrese al entrenamiento. Para ellos usaremos función de scikit-learn:\n"
      ]
    },
    {
      "cell_type": "code",
      "metadata": {
        "id": "VKafdftj_3de",
        "colab": {
          "base_uri": "https://localhost:8080/"
        },
        "outputId": "18ba8da2-9146-481b-a670-6e110a7980f1"
      },
      "source": [
        "from sklearn.model_selection import train_test_split\n",
        "X_train, X_test, y_train, y_test = train_test_split(X, y, test_size=0.33) #Hold-out\n",
        "X_train.shape, X_test.shape"
      ],
      "execution_count": 67,
      "outputs": [
        {
          "output_type": "execute_result",
          "data": {
            "text/plain": [
              "((1203, 64), (594, 64))"
            ]
          },
          "metadata": {},
          "execution_count": 67
        }
      ]
    },
    {
      "cell_type": "markdown",
      "metadata": {
        "id": "o087k7Ju_3di"
      },
      "source": [
        "Ahora usaremos ambos sets de datos (entrenamiento y testeo)."
      ]
    },
    {
      "cell_type": "code",
      "metadata": {
        "id": "c2iBWBtu_3di",
        "colab": {
          "base_uri": "https://localhost:8080/"
        },
        "outputId": "5c1254b2-af56-4ad7-b2fc-15b2990c4875"
      },
      "source": [
        "knn = KNeighborsClassifier(n_neighbors=1)\n",
        "knn.fit(X_train, y_train)\n",
        "y_pred = knn.predict(X_test)\n",
        "print(y_pred)\n",
        "print(\"{0} / {1} correct\".format(np.sum(y_test == y_pred), len(y_test)))\n",
        "print(np.sum(y_test == y_pred)/len(y_test))"
      ],
      "execution_count": 68,
      "outputs": [
        {
          "output_type": "stream",
          "name": "stdout",
          "text": [
            "[7 7 4 0 0 1 9 8 8 8 5 2 8 3 4 3 6 4 7 0 2 3 4 8 8 7 6 8 9 1 9 9 9 1 7 6 2\n",
            " 9 2 7 4 9 6 3 1 7 8 8 6 0 1 7 2 1 6 8 7 5 6 9 3 7 4 3 2 3 9 5 2 5 1 4 2 9\n",
            " 5 0 0 8 4 1 1 7 0 2 9 1 5 9 2 0 2 6 8 1 5 4 9 9 7 8 1 6 4 4 3 9 5 9 1 1 0\n",
            " 7 6 4 9 2 6 3 4 8 0 5 3 7 1 7 8 6 1 2 5 2 7 6 4 1 5 1 2 0 1 4 7 7 8 6 0 7\n",
            " 1 0 1 2 0 8 2 9 8 4 6 5 0 4 6 5 5 6 8 8 1 4 8 8 4 5 7 3 6 3 5 0 9 5 6 2 1\n",
            " 4 3 2 4 8 6 0 1 4 5 4 8 5 6 7 0 5 4 2 4 3 2 3 9 6 1 6 4 9 3 1 5 8 1 9 7 4\n",
            " 3 8 7 8 3 3 8 6 2 4 6 8 7 6 0 2 5 1 0 0 7 2 3 5 5 9 6 2 5 0 4 5 2 3 9 8 8\n",
            " 6 6 0 9 2 0 4 2 8 3 4 1 4 7 5 0 1 9 5 9 8 0 5 1 8 0 3 9 0 2 4 7 3 1 2 1 9\n",
            " 6 0 4 7 8 2 9 0 8 4 5 1 8 8 0 3 4 2 0 9 6 6 2 6 3 5 7 3 4 6 9 9 6 5 4 0 7\n",
            " 6 2 3 2 9 5 1 8 7 6 9 6 9 9 2 1 8 8 0 8 3 1 7 3 2 1 2 3 2 8 0 1 4 8 0 5 3\n",
            " 6 7 0 9 6 6 4 6 7 4 3 4 3 9 8 0 4 4 5 9 9 5 0 7 7 9 1 8 0 6 4 9 6 7 0 2 3\n",
            " 8 3 9 9 7 4 9 1 5 3 3 9 4 2 9 2 9 6 0 1 3 0 1 3 5 9 9 9 9 6 4 1 7 4 2 0 6\n",
            " 6 8 3 2 0 0 5 8 8 3 7 1 0 5 2 3 4 6 7 2 5 0 3 8 5 1 3 7 4 5 5 4 4 8 6 9 1\n",
            " 6 4 1 8 0 0 9 5 1 4 3 6 3 7 7 4 7 9 8 1 9 7 2 9 1 0 8 9 3 3 5 1 6 1 2 6 1\n",
            " 6 6 1 4 5 7 3 6 2 1 6 5 6 5 6 2 1 3 3 0 6 2 8 0 3 0 6 7 8 0 1 1 8 3 0 7 1\n",
            " 7 0 9 3 7 9 4 2 1 1 8 3 1 8 6 8 7 4 1 9 6 8 5 3 2 8 5 0 9 4 0 3 7 0 6 7 5\n",
            " 6 0]\n",
            "586 / 594 correct\n",
            "0.9865319865319865\n"
          ]
        }
      ]
    },
    {
      "cell_type": "markdown",
      "metadata": {
        "id": "BoC8MnaK_3dl"
      },
      "source": [
        "Esto nos da una estimación más confiable de cómo está funcionando nuestro modelo.\n",
        "\n",
        "La métrica que estamos usando aquí, que compara el número de coincidencias con el número total de muestras, se conoce como **accuracy (puede ser traducida como precisión)**:"
      ]
    },
    {
      "cell_type": "code",
      "metadata": {
        "id": "pQCasJOC_3dl",
        "colab": {
          "base_uri": "https://localhost:8080/"
        },
        "outputId": "b81adac7-03e6-4798-e459-b4207dca44ac"
      },
      "source": [
        "from sklearn.metrics import accuracy_score,classification_report\n",
        "print(accuracy_score(y_test, y_pred))\n",
        "print(classification_report(y_test, y_pred))"
      ],
      "execution_count": 69,
      "outputs": [
        {
          "output_type": "stream",
          "name": "stdout",
          "text": [
            "0.9865319865319865\n",
            "              precision    recall  f1-score   support\n",
            "\n",
            "           0       1.00      1.00      1.00        61\n",
            "           1       0.97      1.00      0.98        62\n",
            "           2       1.00      1.00      1.00        53\n",
            "           3       0.98      0.98      0.98        58\n",
            "           4       1.00      1.00      1.00        60\n",
            "           5       1.00      0.96      0.98        54\n",
            "           6       1.00      1.00      1.00        66\n",
            "           7       0.98      0.98      0.98        54\n",
            "           8       0.98      0.97      0.98        64\n",
            "           9       0.95      0.97      0.96        62\n",
            "\n",
            "    accuracy                           0.99       594\n",
            "   macro avg       0.99      0.99      0.99       594\n",
            "weighted avg       0.99      0.99      0.99       594\n",
            "\n"
          ]
        }
      ]
    },
    {
      "cell_type": "markdown",
      "metadata": {
        "id": "sqVUCGzP_3do"
      },
      "source": [
        "Otra forma es usando el método ``model.score``:"
      ]
    },
    {
      "cell_type": "code",
      "metadata": {
        "id": "5oUNs6m8_3do",
        "colab": {
          "base_uri": "https://localhost:8080/"
        },
        "outputId": "97bbc1b7-df83-4570-8b49-53dc311a52fe"
      },
      "source": [
        "knn.score(X_test, y_test)"
      ],
      "execution_count": 71,
      "outputs": [
        {
          "output_type": "execute_result",
          "data": {
            "text/plain": [
              "0.9865319865319865"
            ]
          },
          "metadata": {},
          "execution_count": 71
        }
      ]
    },
    {
      "cell_type": "markdown",
      "metadata": {
        "id": "RrcZ8lVA_3dr"
      },
      "source": [
        "Ahora variaremos el número de vecinos:"
      ]
    },
    {
      "cell_type": "code",
      "source": [
        "for n_neighbors in [1, 5, 10, 20, 30]:\n",
        "    knn = KNeighborsClassifier(n_neighbors)\n",
        "    knn.fit(X_train, y_train)\n",
        "    print(n_neighbors, knn.score(X_test, y_test))"
      ],
      "metadata": {
        "colab": {
          "base_uri": "https://localhost:8080/"
        },
        "id": "gzvLmx9WtIgE",
        "outputId": "67e2ef2f-7dfb-40b7-d0d4-43028a53d06e"
      },
      "execution_count": 72,
      "outputs": [
        {
          "output_type": "stream",
          "name": "stdout",
          "text": [
            "1 0.9865319865319865\n",
            "5 0.9781144781144782\n",
            "10 0.9696969696969697\n",
            "20 0.9528619528619529\n",
            "30 0.936026936026936\n"
          ]
        }
      ]
    },
    {
      "cell_type": "markdown",
      "source": [
        "#Validacion Cruzada"
      ],
      "metadata": {
        "id": "1YTpTMG9tOG9"
      }
    },
    {
      "cell_type": "markdown",
      "source": [
        "Un problema con los conjuntos de validación es que \"pierdes\" algunos de los datos. Arriba, solo hemos usado aproximadamente 2/3 de los datos para el entrenamiento y 1/3 para la validación (test). Por otro lado, en cierta medida dependemos del azar. Otra opción es utilizar la 2-validación cruzada (2-fold Cross-Validation), donde dividimos la muestra por la mitad y realizamos la validación dos veces:"
      ],
      "metadata": {
        "id": "aDCVlSYTtRCv"
      }
    },
    {
      "cell_type": "code",
      "source": [
        "X1, X2, y1, y2 = train_test_split(X, y, test_size=0.5, random_state=0)\n",
        "X1.shape, X2.shape"
      ],
      "metadata": {
        "colab": {
          "base_uri": "https://localhost:8080/"
        },
        "id": "wa47CBbvtMBS",
        "outputId": "4e84b420-3266-45b7-925a-abb39e7fc61f"
      },
      "execution_count": 16,
      "outputs": [
        {
          "output_type": "execute_result",
          "data": {
            "text/plain": [
              "((898, 64), (899, 64))"
            ]
          },
          "metadata": {},
          "execution_count": 16
        }
      ]
    },
    {
      "cell_type": "code",
      "source": [
        "print(KNeighborsClassifier(1).fit(X2, y2).score(X1, y1))\n",
        "print(KNeighborsClassifier(1).fit(X1, y1).score(X2, y2))"
      ],
      "metadata": {
        "colab": {
          "base_uri": "https://localhost:8080/"
        },
        "id": "kvrpgLnftmYd",
        "outputId": "f2935a1a-7245-4518-a92b-8c1c7b05b242"
      },
      "execution_count": 17,
      "outputs": [
        {
          "output_type": "stream",
          "name": "stdout",
          "text": [
            "0.9832962138084632\n",
            "0.982202447163515\n"
          ]
        }
      ]
    },
    {
      "cell_type": "markdown",
      "source": [
        "Por lo tanto, una 2-validación cruzada nos da dos estimaciones de la puntuación de ese parámetro.\n",
        "Debido a que esto es un poco complicado de hacer a mano, scikit-learn tiene una rutina de utilidad para ayudar:"
      ],
      "metadata": {
        "id": "WQCC4suztvWF"
      }
    },
    {
      "cell_type": "code",
      "source": [
        "#from sklearn.cross_validation import cross_val_score #desfasado 2022\n",
        "from sklearn.model_selection import cross_val_score\n",
        "cv_val = cross_val_score(KNeighborsClassifier(1), X, y, cv=2)\n",
        "print(cv_val)\n",
        "print(cv_val.mean())"
      ],
      "metadata": {
        "colab": {
          "base_uri": "https://localhost:8080/"
        },
        "id": "uG5e7yYptufU",
        "outputId": "a5ac4ebb-4530-4b3f-f7b2-c78570eceb26"
      },
      "execution_count": 78,
      "outputs": [
        {
          "output_type": "stream",
          "name": "stdout",
          "text": [
            "[0.9621802  0.95991091]\n",
            "0.9610455566813907\n"
          ]
        }
      ]
    },
    {
      "cell_type": "markdown",
      "source": [
        "### K-fold Cross-Validation\n",
        "\n",
        "Aquí hemos utilizado una validación cruzada doble. Esta es solo una especialización de $K$-fold cross-validation, en la que dividimos los datos en $K$ fragmentos y realizamos $K$ ajustes, donde cada fragmento recibe un turno como conjunto de validación.\n",
        "Podemos hacer esto cambiando el parámetro ``cv`` anterior. Hagamos una validación cruzada de 10 veces:"
      ],
      "metadata": {
        "id": "qzOIvtgVuDmn"
      }
    },
    {
      "cell_type": "code",
      "source": [
        "cv_val=cross_val_score(KNeighborsClassifier(1), X, y, cv=10)\n",
        "print(cv_val)\n",
        "print(cv_val.mean())\n",
        "print(cv_val.std())\n",
        "\n"
      ],
      "metadata": {
        "colab": {
          "base_uri": "https://localhost:8080/"
        },
        "id": "hVWkbonuuCAv",
        "outputId": "48869c31-530b-4a6c-be27-e4d6d0fe4517"
      },
      "execution_count": 83,
      "outputs": [
        {
          "output_type": "stream",
          "name": "stdout",
          "text": [
            "[0.93333333 0.99444444 0.97222222 0.97222222 0.96666667 0.98333333\n",
            " 0.99444444 0.98882682 0.97765363 0.96648045]\n",
            "0.9749627560521414\n",
            "0.017080387704964953\n"
          ]
        }
      ]
    },
    {
      "cell_type": "markdown",
      "source": [
        "Esto nos da una idea aún mas fiable de qué tan bien está funcionando nuestro modelo."
      ],
      "metadata": {
        "id": "ZyTAmzdDvG1x"
      }
    },
    {
      "cell_type": "markdown",
      "source": [
        "## Overfitting, Underfitting y Selección de Modelo\n",
        "\n",
        "\n",
        "\n",
        "Ahora que hemos repasado los conceptos básicos de la validación y la validación cruzada, es hora de profundizar aún más en la selección del modelo.\n",
        "Los problemas asociados con la validación y la validación cruzada son algunos de los aspectos más importantes de la práctica del aprendizaje automático. Seleccionar el modelo óptimo para sus datos es vital y es una parte del problema que los profesionales del aprendizaje automático no suelen apreciar.\n",
        "De importancia central es la siguiente pregunta:\n",
        "Si nuestro estimador tiene un bajo rendimiento, ¿cómo debemos avanzar?\n",
        "¿Usar un modelo más simple o más complicado?\n",
        "¿Agregar más características a cada punto de datos observado?\n",
        "¿Agregar más ejemplos de capacitación?\n",
        "La respuesta es a menudo contraria a la intuición. En particular, a veces usar un modelo más complicado dará peores resultados. Además, a veces agregar datos de entrenamiento no mejorará sus resultados. La capacidad de determinar qué pasos mejorarán su modelo es lo que separa a los profesionales exitosos del aprendizaje automático de los que no lo tienen."
      ],
      "metadata": {
        "id": "Zui2m1DOvZUR"
      }
    },
    {
      "cell_type": "markdown",
      "source": [
        "### Ilustración de la compensación entre sesgo y varianza\n",
        "\n",
        "Para esta sección, trabajaremos con un problema de regresión 1D simple. Esto nos ayudará a visualizar fácilmente los datos y el modelo, y los resultados se pueden generalizar fácilmente a conjuntos de datos de mayor dimensión. Exploraremos un problema de regresión lineal simple. Esto se puede lograr dentro de scikit-learn con el módulo `sklearn.linear_model`.\n",
        "Crearemos una función no lineal simple que nos gustaría ajustar"
      ],
      "metadata": {
        "id": "8BPcReBuvyx0"
      }
    },
    {
      "cell_type": "code",
      "source": [
        "def test_func(x, err=0.5):\n",
        "    y = 10 - 1. / (x + 0.1)\n",
        "    if err > 0:\n",
        "        y = np.random.normal(y, err)\n",
        "    return y"
      ],
      "metadata": {
        "id": "-lA0Brc6vMDI"
      },
      "execution_count": 87,
      "outputs": []
    },
    {
      "cell_type": "markdown",
      "source": [
        "Generemos algunos datos:"
      ],
      "metadata": {
        "id": "6JH66wgUwF8J"
      }
    },
    {
      "cell_type": "code",
      "source": [
        "def make_data(N=40, error=1.0, random_seed=1):\n",
        "    # randomly sample the data\n",
        "    np.random.seed(1)\n",
        "    X = np.random.random(N)[:, np.newaxis]\n",
        "    y = test_func(X.ravel(), error)\n",
        "    \n",
        "    return X, y"
      ],
      "metadata": {
        "id": "pUfi3Cq5wLEI"
      },
      "execution_count": 88,
      "outputs": []
    },
    {
      "cell_type": "code",
      "source": [
        "X, y = make_data(40, error=1)\n",
        "plt.scatter(X.ravel(), y);"
      ],
      "metadata": {
        "colab": {
          "base_uri": "https://localhost:8080/",
          "height": 268
        },
        "id": "T5OVV8i3wNTC",
        "outputId": "db1313cd-ddb6-4b72-e1d6-55a9f887ca8d"
      },
      "execution_count": 89,
      "outputs": [
        {
          "output_type": "display_data",
          "data": {
            "text/plain": [
              "<Figure size 432x288 with 1 Axes>"
            ],
            "image/png": "[encoded data removed]"
          },
          "metadata": {}
        }
      ]
    },
    {
      "cell_type": "markdown",
      "source": [
        "Ahora digamos que queremos realizar una regresión en estos datos. Usemos la función de regresión lineal incorporada para calcular un ajuste:"
      ],
      "metadata": {
        "id": "bZeSeX6wwT-V"
      }
    },
    {
      "cell_type": "code",
      "source": [
        "X_test = np.linspace(-0.1, 1.1, 500)[:, None]\n",
        "\n",
        "from sklearn.linear_model import LinearRegression\n",
        "from sklearn.metrics import mean_squared_error\n",
        "model = LinearRegression()\n",
        "model.fit(X, y)\n",
        "y_test = model.predict(X_test)\n",
        "\n",
        "plt.scatter(X.ravel(), y)\n",
        "plt.plot(X_test.ravel(), y_test)\n",
        "plt.title(\"mean squared error: {0:.3g}\".format(mean_squared_error(model.predict(X), y)));"
      ],
      "metadata": {
        "colab": {
          "base_uri": "https://localhost:8080/",
          "height": 284
        },
        "id": "weaVO4SNwS9x",
        "outputId": "7a933906-c045-409b-e69e-792183833a4a"
      },
      "execution_count": 90,
      "outputs": [
        {
          "output_type": "display_data",
          "data": {
            "text/plain": [
              "<Figure size 432x288 with 1 Axes>"
            ],
            "image/png": "[encoded data removed]"
          },
          "metadata": {}
        }
      ]
    },
    {
      "cell_type": "markdown",
      "source": [
        "Hemos ajustado una línea recta a los datos, pero claramente este modelo no es una buena elección. Decimos que este modelo está **sesgado** o que **no se ajusta** a los datos.\n",
        "\n",
        "Intentemos mejorar esto creando un modelo más complicado. Podemos hacer esto agregando grados de libertad y calculando una regresión polinomial sobre las entradas. Scikit-learn lo hace fácil con el preprocesador ``PolynomialFeatures``, que puede canalizarse con una regresión lineal.\n",
        "\n",
        "Hagamos una rutina conveniente para hacer esto:"
      ],
      "metadata": {
        "id": "v9UnvNmGwffp"
      }
    },
    {
      "cell_type": "code",
      "source": [
        "from sklearn.preprocessing import PolynomialFeatures\n",
        "from sklearn.linear_model import LinearRegression\n",
        "from sklearn.pipeline import make_pipeline\n",
        "\n",
        "def PolynomialRegression(degree=2, **kwargs):\n",
        "    return make_pipeline(PolynomialFeatures(degree),\n",
        "                         LinearRegression(**kwargs))"
      ],
      "metadata": {
        "id": "yYeaMy0Kwgog"
      },
      "execution_count": 92,
      "outputs": []
    },
    {
      "cell_type": "markdown",
      "source": [
        "Apliquemos una regresión cuadrática:"
      ],
      "metadata": {
        "id": "-RhGfRNBwoxV"
      }
    },
    {
      "cell_type": "code",
      "source": [
        "model = PolynomialRegression(2)\n",
        "model.fit(X, y)\n",
        "y_test = model.predict(X_test)\n",
        "\n",
        "plt.scatter(X.ravel(), y)\n",
        "plt.plot(X_test.ravel(), y_test)\n",
        "plt.title(\"mean squared error: {0:.3g}\".format(mean_squared_error(model.predict(X), y)));"
      ],
      "metadata": {
        "colab": {
          "base_uri": "https://localhost:8080/",
          "height": 284
        },
        "id": "bFLNWu0UYEWx",
        "outputId": "01d3ab9e-5d3a-43f9-b0c0-882929601a8a"
      },
      "execution_count": 95,
      "outputs": [
        {
          "output_type": "display_data",
          "data": {
            "text/plain": [
              "<Figure size 432x288 with 1 Axes>"
            ],
            "image/png": "[encoded data removed]"
          },
          "metadata": {}
        }
      ]
    },
    {
      "cell_type": "code",
      "source": [
        "model = PolynomialRegression(3)\n",
        "model.fit(X, y)\n",
        "y_test = model.predict(X_test)\n",
        "\n",
        "plt.scatter(X.ravel(), y)\n",
        "plt.plot(X_test.ravel(), y_test)\n",
        "plt.title(\"mean squared error: {0:.3g}\".format(mean_squared_error(model.predict(X), y)));"
      ],
      "metadata": {
        "colab": {
          "base_uri": "https://localhost:8080/",
          "height": 284
        },
        "id": "azvJQeFpwoJ_",
        "outputId": "70b438e2-0787-4627-e3ef-39cf493a82b2"
      },
      "execution_count": 94,
      "outputs": [
        {
          "output_type": "display_data",
          "data": {
            "text/plain": [
              "<Figure size 432x288 with 1 Axes>"
            ],
            "image/png": "[encoded data removed]"
          },
          "metadata": {}
        }
      ]
    },
    {
      "cell_type": "markdown",
      "source": [
        "Esto reduce el error cuadrático medio y hace un ajuste mucho mejor. ¿Qué sucede si usamos un polinomio de grado aún mayor?"
      ],
      "metadata": {
        "id": "-ZsF2vVgw1fX"
      }
    },
    {
      "cell_type": "code",
      "source": [
        "model = PolynomialRegression(30)\n",
        "model.fit(X, y)\n",
        "y_test = model.predict(X_test)\n",
        "\n",
        "plt.scatter(X.ravel(), y)\n",
        "plt.plot(X_test.ravel(), y_test)\n",
        "plt.title(\"mean squared error: {0:.3g}\".format(mean_squared_error(model.predict(X), y)))\n",
        "plt.ylim(-4, 14);"
      ],
      "metadata": {
        "colab": {
          "base_uri": "https://localhost:8080/",
          "height": 284
        },
        "id": "nDVNPTHJw2Nc",
        "outputId": "8f4a28f5-dedd-4ec5-9112-deb67ffde74e"
      },
      "execution_count": 96,
      "outputs": [
        {
          "output_type": "display_data",
          "data": {
            "text/plain": [
              "<Figure size 432x288 with 1 Axes>"
            ],
            "image/png": "[encoded data removed]"
          },
          "metadata": {}
        }
      ]
    },
    {
      "cell_type": "markdown",
      "source": [
        "Cuando aumentamos el grado hasta este punto, está claro que el ajuste resultante ya no refleja la verdadera distribución subyacente, sino que es más sensible al ruido en los datos de entrenamiento. Por esta razón, lo llamamos un **modelo de alta varianza** y decimos que **sobreajusta** los datos."
      ],
      "metadata": {
        "id": "FkwOYbYTw_ln"
      }
    },
    {
      "cell_type": "markdown",
      "source": [
        "Solo por diversión, usemos la capacidad de interacción de IPython (solo en IPython 2.0+) para explorar esto de forma interactiva:"
      ],
      "metadata": {
        "id": "vFyCH7SYxGt9"
      }
    },
    {
      "cell_type": "code",
      "source": [
        "from IPython.html.widgets import interact\n",
        "\n",
        "def plot_fit(degree=1, Npts=50):\n",
        "    X, y = make_data(Npts, error=1)\n",
        "    X_test = np.linspace(-0.1, 1.1, 500)[:, None]\n",
        "    \n",
        "    model = PolynomialRegression(degree=degree)\n",
        "    model.fit(X, y)\n",
        "    y_test = model.predict(X_test)\n",
        "\n",
        "    plt.scatter(X.ravel(), y)\n",
        "    plt.plot(X_test.ravel(), y_test)\n",
        "    plt.ylim(-4, 14)\n",
        "    plt.title(\"mean squared error: {0:.2f}\".format(mean_squared_error(model.predict(X), y)))\n",
        "    \n",
        "interact(plot_fit, degree=[1, 2,30], Npts=[2, 20, 100]);"
      ],
      "metadata": {
        "colab": {
          "base_uri": "https://localhost:8080/",
          "height": 348,
          "referenced_widgets": [
            "71764dfd1a494c24971d91b1616f2012",
            "ee2dbdc698ff4ca99c1a892de2b24f17",
            "47ffd1f4e5084a9f9c2bd634121d7f0d",
            "e1c13fc883c04ab0988159ddc6321cb6",
            "62616c545010421c9ce2ed28042996e6",
            "4588f4277e4f4b6cbf0260ebcde20e27",
            "b6109124b67e40f382254a0a40b12046",
            "d99ac2e9179a4e0d8f7dd52b4ac5f070",
            "d82a59af1e184a1491aeac5dd4ac841a",
            "a0b45d852adc46e5855146a9d2ebf653"
          ]
        },
        "id": "_GFIdNqzw-qo",
        "outputId": "6be90a1d-9581-4b7c-bc49-0a82fc40a6ad"
      },
      "execution_count": 97,
      "outputs": [
        {
          "output_type": "display_data",
          "data": {
            "text/plain": [
              "interactive(children=(Dropdown(description='degree', options=(1, 2, 30), value=1), Dropdown(description='Npts'…"
            ],
            "application/vnd.jupyter.widget-view+json": {
              "version_major": 2,
              "version_minor": 0,
              "model_id": "71764dfd1a494c24971d91b1616f2012"
            }
          },
          "metadata": {}
        }
      ]
    },
    {
      "cell_type": "markdown",
      "source": [
        ""
      ],
      "metadata": {
        "id": "Br1G2siWyWSl"
      }
    },
    {
      "cell_type": "code",
      "source": [
        "# import sklearn as sk\n",
        "# sorted(sk.metrics.SCORERS.keys())"
      ],
      "metadata": {
        "id": "_PMTgnljx4e0"
      },
      "execution_count": null,
      "outputs": []
    },
    {
      "cell_type": "markdown",
      "source": [
        "### Detección de sobreajuste con curvas de validación\n",
        "\n",
        "Claramente, calcular el error en los datos de entrenamiento no es suficiente (lo vimos anteriormente). Como se mencionó anteriormente, podemos usar la **validación cruzada** para obtener un mejor manejo de cómo funciona el ajuste del modelo.\n",
        "\n",
        "Hagamos esto aquí, nuevamente usando la utilidad ``validation_curve``. Para aclarar las cosas, usaremos un conjunto de datos un poco más grande:"
      ],
      "metadata": {
        "id": "zIy_tKTdOBgv"
      }
    },
    {
      "cell_type": "code",
      "source": [
        "X, y = make_data(120, error=1.0)\n",
        "plt.scatter(X, y);"
      ],
      "metadata": {
        "colab": {
          "base_uri": "https://localhost:8080/",
          "height": 268
        },
        "id": "wy6FjHWwzTSQ",
        "outputId": "f5ff83d9-112e-4c58-adff-8f984091f816"
      },
      "execution_count": 99,
      "outputs": [
        {
          "output_type": "display_data",
          "data": {
            "text/plain": [
              "<Figure size 432x288 with 1 Axes>"
            ],
            "image/png": "[encoded data removed]"
          },
          "metadata": {}
        }
      ]
    },
    {
      "cell_type": "markdown",
      "source": [
        ""
      ],
      "metadata": {
        "id": "MWfqti-NORbi"
      }
    },
    {
      "cell_type": "code",
      "source": [
        "from sklearn.model_selection import validation_curve\n",
        "\n",
        "def rms_error(model, X, y):\n",
        "    y_pred = model.predict(X)\n",
        "    return np.sqrt(np.mean((y - y_pred) ** 2))\n",
        "\n",
        "degree = np.arange(0, 18)\n",
        "val_train, val_test = validation_curve(PolynomialRegression(), X, y,\n",
        "                                       param_name='polynomialfeatures__degree', \n",
        "                                       param_range=degree, \n",
        "                                       cv=10,\n",
        "                                       scoring = \"neg_mean_squared_error\")"
      ],
      "metadata": {
        "id": "WifYnKoYNVAm"
      },
      "execution_count": 101,
      "outputs": []
    },
    {
      "cell_type": "code",
      "source": [
        "def plot_with_err(x, data, **kwargs):\n",
        "    mu, std = data.mean(1), data.std(1)\n",
        "    lines = plt.plot(x, mu, '-', **kwargs)\n",
        "    plt.fill_between(x, mu - std, mu + std, edgecolor='none',\n",
        "                     facecolor=lines[0].get_color(), alpha=0.2)\n",
        "\n",
        "plot_with_err(degree, val_train, label='training scores')\n",
        "plot_with_err(degree, val_test, label='validation scores')\n",
        "plt.xlabel('degree'); plt.ylabel('rms error')\n",
        "plt.legend();"
      ],
      "metadata": {
        "colab": {
          "base_uri": "https://localhost:8080/",
          "height": 285
        },
        "id": "4IbuNOFcNYdx",
        "outputId": "a63c40c9-4c22-41c8-dd95-8ab4330664e3"
      },
      "execution_count": 102,
      "outputs": [
        {
          "output_type": "display_data",
          "data": {
            "text/plain": [
              "<Figure size 432x288 with 1 Axes>"
            ],
            "image/png": "[encoded data removed]"
          },
          "metadata": {}
        }
      ]
    },
    {
      "cell_type": "markdown",
      "source": [
        "Observe la tendencia aquí, que es común para este tipo de trama.\n",
        "\n",
        "1. Para una complejidad de modelo pequeña, el error de entrenamiento y el error de validación son muy similares. Esto indica que el modelo **no se ajusta bien** a los datos: no tiene la complejidad suficiente para representar los datos. Otra forma de decirlo es que este es un modelo de **alto sesgo**.\n",
        "\n",
        "2. A medida que crece la complejidad del modelo, las puntuaciones de entrenamiento y validación divergen. Esto indica que el modelo **sobreajusta** los datos: tiene tanta flexibilidad que se ajusta al ruido en lugar de a la tendencia subyacente. Otra forma de decirlo es que este es un modelo de **varianza alta**.\n",
        "\n",
        "3. Tenga en cuenta que la puntuación de entrenamiento (casi) siempre mejora con la complejidad del modelo. Esto se debe a que un modelo más complicado puede adaptarse mejor al ruido, por lo que el modelo mejora. Los datos de validación generalmente tienen un punto óptimo, que aquí es de alrededor de 5 términos.\n",
        "\n",
        "Aquí está nuestro modelo de mejor ajuste según la validación cruzada:"
      ],
      "metadata": {
        "id": "ckIpue7ZOSUP"
      }
    },
    {
      "cell_type": "code",
      "source": [
        "model = PolynomialRegression(4).fit(X, y)\n",
        "plt.scatter(X, y)\n",
        "plt.plot(X_test, model.predict(X_test));"
      ],
      "metadata": {
        "colab": {
          "base_uri": "https://localhost:8080/",
          "height": 268
        },
        "id": "IOjjQ1TBN-Ek",
        "outputId": "a996e7bd-9d82-4062-ded5-92224dc5fb9a"
      },
      "execution_count": 103,
      "outputs": [
        {
          "output_type": "display_data",
          "data": {
            "text/plain": [
              "<Figure size 432x288 with 1 Axes>"
            ],
            "image/png": "[encoded data removed]"
          },
          "metadata": {}
        }
      ]
    },
    {
      "cell_type": "code",
      "source": [
        ""
      ],
      "metadata": {
        "id": "Dhyr8S7WOZIM"
      },
      "execution_count": null,
      "outputs": []
    }
  ]
}