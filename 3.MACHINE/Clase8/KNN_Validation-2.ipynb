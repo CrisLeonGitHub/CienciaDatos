{
  "nbformat": 4,
  "nbformat_minor": 0,
  "metadata": {
    "kernelspec": {
      "name": "python3",
      "display_name": "Python 3"
    },
    "colab": {
      "name": "KNN_Validation.ipynb",
      "provenance": [],
      "collapsed_sections": []
    },
    "widgets": {
      "application/vnd.jupyter.widget-state+json": {
        "4230ca8bbf7d49d6aea7223c7fc278e1": {
          "model_module": "@jupyter-widgets/controls",
          "model_name": "VBoxModel",
          "model_module_version": "1.5.0",
          "state": {
            "_dom_classes": [
              "widget-interact"
            ],
            "_model_module": "@jupyter-widgets/controls",
            "_model_module_version": "1.5.0",
            "_model_name": "VBoxModel",
            "_view_count": null,
            "_view_module": "@jupyter-widgets/controls",
            "_view_module_version": "1.5.0",
            "_view_name": "VBoxView",
            "box_style": "",
            "children": [
              "IPY_MODEL_bacc108b6c6d4f659654106d44858a06",
              "IPY_MODEL_d99e14e28527477b979686070284db62",
              "IPY_MODEL_7832f46229924c6c9730cf8351d733db"
            ],
            "layout": "IPY_MODEL_b5e6b5bc4e5e4d4682a2cd89bb1b4616"
          }
        },
        "bacc108b6c6d4f659654106d44858a06": {
          "model_module": "@jupyter-widgets/controls",
          "model_name": "DropdownModel",
          "model_module_version": "1.5.0",
          "state": {
            "_dom_classes": [],
            "_model_module": "@jupyter-widgets/controls",
            "_model_module_version": "1.5.0",
            "_model_name": "DropdownModel",
            "_options_labels": [
              "1",
              "2",
              "30"
            ],
            "_view_count": null,
            "_view_module": "@jupyter-widgets/controls",
            "_view_module_version": "1.5.0",
            "_view_name": "DropdownView",
            "description": "degree",
            "description_tooltip": null,
            "disabled": false,
            "index": 2,
            "layout": "IPY_MODEL_68ddc0b13f804fe9be08b32ccc38af6b",
            "style": "IPY_MODEL_f541eedfd865404b8cc64a9b3c0f80f3"
          }
        },
        "d99e14e28527477b979686070284db62": {
          "model_module": "@jupyter-widgets/controls",
          "model_name": "DropdownModel",
          "model_module_version": "1.5.0",
          "state": {
            "_dom_classes": [],
            "_model_module": "@jupyter-widgets/controls",
            "_model_module_version": "1.5.0",
            "_model_name": "DropdownModel",
            "_options_labels": [
              "2",
              "20",
              "100"
            ],
            "_view_count": null,
            "_view_module": "@jupyter-widgets/controls",
            "_view_module_version": "1.5.0",
            "_view_name": "DropdownView",
            "description": "Npts",
            "description_tooltip": null,
            "disabled": false,
            "index": 2,
            "layout": "IPY_MODEL_2d051832f0184d46b4c31b62179f8a7a",
            "style": "IPY_MODEL_0cf32203881e436baf821c68d5e2b2a3"
          }
        },
        "7832f46229924c6c9730cf8351d733db": {
          "model_module": "@jupyter-widgets/output",
          "model_name": "OutputModel",
          "model_module_version": "1.0.0",
          "state": {
            "_dom_classes": [],
            "_model_module": "@jupyter-widgets/output",
            "_model_module_version": "1.0.0",
            "_model_name": "OutputModel",
            "_view_count": null,
            "_view_module": "@jupyter-widgets/output",
            "_view_module_version": "1.0.0",
            "_view_name": "OutputView",
            "layout": "IPY_MODEL_f1fa01c03447417f815b8f4693e6259f",
            "msg_id": "",
            "outputs": [
              {
                "output_type": "display_data",
                "data": {
                  "text/plain": "<Figure size 432x288 with 1 Axes>",
                  "image/png": "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\n"
                },
                "metadata": {
                  "needs_background": "light"
                }
              }
            ]
          }
        },
        "b5e6b5bc4e5e4d4682a2cd89bb1b4616": {
          "model_module": "@jupyter-widgets/base",
          "model_name": "LayoutModel",
          "model_module_version": "1.2.0",
          "state": {
            "_model_module": "@jupyter-widgets/base",
            "_model_module_version": "1.2.0",
            "_model_name": "LayoutModel",
            "_view_count": null,
            "_view_module": "@jupyter-widgets/base",
            "_view_module_version": "1.2.0",
            "_view_name": "LayoutView",
            "align_content": null,
            "align_items": null,
            "align_self": null,
            "border": null,
            "bottom": null,
            "display": null,
            "flex": null,
            "flex_flow": null,
            "grid_area": null,
            "grid_auto_columns": null,
            "grid_auto_flow": null,
            "grid_auto_rows": null,
            "grid_column": null,
            "grid_gap": null,
            "grid_row": null,
            "grid_template_areas": null,
            "grid_template_columns": null,
            "grid_template_rows": null,
            "height": null,
            "justify_content": null,
            "justify_items": null,
            "left": null,
            "margin": null,
            "max_height": null,
            "max_width": null,
            "min_height": null,
            "min_width": null,
            "object_fit": null,
            "object_position": null,
            "order": null,
            "overflow": null,
            "overflow_x": null,
            "overflow_y": null,
            "padding": null,
            "right": null,
            "top": null,
            "visibility": null,
            "width": null
          }
        },
        "68ddc0b13f804fe9be08b32ccc38af6b": {
          "model_module": "@jupyter-widgets/base",
          "model_name": "LayoutModel",
          "model_module_version": "1.2.0",
          "state": {
            "_model_module": "@jupyter-widgets/base",
            "_model_module_version": "1.2.0",
            "_model_name": "LayoutModel",
            "_view_count": null,
            "_view_module": "@jupyter-widgets/base",
            "_view_module_version": "1.2.0",
            "_view_name": "LayoutView",
            "align_content": null,
            "align_items": null,
            "align_self": null,
            "border": null,
            "bottom": null,
            "display": null,
            "flex": null,
            "flex_flow": null,
            "grid_area": null,
            "grid_auto_columns": null,
            "grid_auto_flow": null,
            "grid_auto_rows": null,
            "grid_column": null,
            "grid_gap": null,
            "grid_row": null,
            "grid_template_areas": null,
            "grid_template_columns": null,
            "grid_template_rows": null,
            "height": null,
            "justify_content": null,
            "justify_items": null,
            "left": null,
            "margin": null,
            "max_height": null,
            "max_width": null,
            "min_height": null,
            "min_width": null,
            "object_fit": null,
            "object_position": null,
            "order": null,
            "overflow": null,
            "overflow_x": null,
            "overflow_y": null,
            "padding": null,
            "right": null,
            "top": null,
            "visibility": null,
            "width": null
          }
        },
        "f541eedfd865404b8cc64a9b3c0f80f3": {
          "model_module": "@jupyter-widgets/controls",
          "model_name": "DescriptionStyleModel",
          "model_module_version": "1.5.0",
          "state": {
            "_model_module": "@jupyter-widgets/controls",
            "_model_module_version": "1.5.0",
            "_model_name": "DescriptionStyleModel",
            "_view_count": null,
            "_view_module": "@jupyter-widgets/base",
            "_view_module_version": "1.2.0",
            "_view_name": "StyleView",
            "description_width": ""
          }
        },
        "2d051832f0184d46b4c31b62179f8a7a": {
          "model_module": "@jupyter-widgets/base",
          "model_name": "LayoutModel",
          "model_module_version": "1.2.0",
          "state": {
            "_model_module": "@jupyter-widgets/base",
            "_model_module_version": "1.2.0",
            "_model_name": "LayoutModel",
            "_view_count": null,
            "_view_module": "@jupyter-widgets/base",
            "_view_module_version": "1.2.0",
            "_view_name": "LayoutView",
            "align_content": null,
            "align_items": null,
            "align_self": null,
            "border": null,
            "bottom": null,
            "display": null,
            "flex": null,
            "flex_flow": null,
            "grid_area": null,
            "grid_auto_columns": null,
            "grid_auto_flow": null,
            "grid_auto_rows": null,
            "grid_column": null,
            "grid_gap": null,
            "grid_row": null,
            "grid_template_areas": null,
            "grid_template_columns": null,
            "grid_template_rows": null,
            "height": null,
            "justify_content": null,
            "justify_items": null,
            "left": null,
            "margin": null,
            "max_height": null,
            "max_width": null,
            "min_height": null,
            "min_width": null,
            "object_fit": null,
            "object_position": null,
            "order": null,
            "overflow": null,
            "overflow_x": null,
            "overflow_y": null,
            "padding": null,
            "right": null,
            "top": null,
            "visibility": null,
            "width": null
          }
        },
        "0cf32203881e436baf821c68d5e2b2a3": {
          "model_module": "@jupyter-widgets/controls",
          "model_name": "DescriptionStyleModel",
          "model_module_version": "1.5.0",
          "state": {
            "_model_module": "@jupyter-widgets/controls",
            "_model_module_version": "1.5.0",
            "_model_name": "DescriptionStyleModel",
            "_view_count": null,
            "_view_module": "@jupyter-widgets/base",
            "_view_module_version": "1.2.0",
            "_view_name": "StyleView",
            "description_width": ""
          }
        },
        "f1fa01c03447417f815b8f4693e6259f": {
          "model_module": "@jupyter-widgets/base",
          "model_name": "LayoutModel",
          "model_module_version": "1.2.0",
          "state": {
            "_model_module": "@jupyter-widgets/base",
            "_model_module_version": "1.2.0",
            "_model_name": "LayoutModel",
            "_view_count": null,
            "_view_module": "@jupyter-widgets/base",
            "_view_module_version": "1.2.0",
            "_view_name": "LayoutView",
            "align_content": null,
            "align_items": null,
            "align_self": null,
            "border": null,
            "bottom": null,
            "display": null,
            "flex": null,
            "flex_flow": null,
            "grid_area": null,
            "grid_auto_columns": null,
            "grid_auto_flow": null,
            "grid_auto_rows": null,
            "grid_column": null,
            "grid_gap": null,
            "grid_row": null,
            "grid_template_areas": null,
            "grid_template_columns": null,
            "grid_template_rows": null,
            "height": null,
            "justify_content": null,
            "justify_items": null,
            "left": null,
            "margin": null,
            "max_height": null,
            "max_width": null,
            "min_height": null,
            "min_width": null,
            "object_fit": null,
            "object_position": null,
            "order": null,
            "overflow": null,
            "overflow_x": null,
            "overflow_y": null,
            "padding": null,
            "right": null,
            "top": null,
            "visibility": null,
            "width": null
          }
        }
      }
    }
  },
  "cells": [
    {
      "cell_type": "markdown",
      "metadata": {
        "id": "WNjAREFH_3c2"
      },
      "source": [
        "# KNN considerando Validación"
      ]
    },
    {
      "cell_type": "markdown",
      "metadata": {
        "id": "btQTxT5h_3c6"
      },
      "source": [
        "En este curso vimos regresión logística y redes neuronales, sin embargo hay muchos otros modelos como árboles de decisión, K-vecinos cercanos (KNN) y modelos de ensambles entre muchos otros. En este ejercicio probaremos KNN como un clasificador haremos una evaluación del modelo además de ajustar *hiperparámetros*."
      ]
    },
    {
      "cell_type": "code",
      "metadata": {
        "id": "Bdi6EVwH_3c8"
      },
      "source": [
        "from __future__ import print_function, division\n",
        "\n",
        "%matplotlib inline\n",
        "import numpy as np\n",
        "import matplotlib.pyplot as plt\n",
        "import seaborn as sns; sns.set()"
      ],
      "execution_count": 1,
      "outputs": []
    },
    {
      "cell_type": "code",
      "metadata": {
        "id": "6VEBTWqe061m",
        "colab": {
          "base_uri": "https://localhost:8080/"
        },
        "outputId": "178c564b-574a-4b10-e5cd-dec3aac0494c"
      },
      "source": [
        "!pip install sklearn"
      ],
      "execution_count": 2,
      "outputs": [
        {
          "output_type": "stream",
          "name": "stdout",
          "text": [
            "Looking in indexes: https://pypi.org/simple, https://us-python.pkg.dev/colab-wheels/public/simple/\n",
            "Requirement already satisfied: sklearn in /usr/local/lib/python3.7/dist-packages (0.0)\n",
            "Requirement already satisfied: scikit-learn in /usr/local/lib/python3.7/dist-packages (from sklearn) (1.0.2)\n",
            "Requirement already satisfied: scipy>=1.1.0 in /usr/local/lib/python3.7/dist-packages (from scikit-learn->sklearn) (1.7.3)\n",
            "Requirement already satisfied: joblib>=0.11 in /usr/local/lib/python3.7/dist-packages (from scikit-learn->sklearn) (1.1.0)\n",
            "Requirement already satisfied: threadpoolctl>=2.0.0 in /usr/local/lib/python3.7/dist-packages (from scikit-learn->sklearn) (3.1.0)\n",
            "Requirement already satisfied: numpy>=1.14.6 in /usr/local/lib/python3.7/dist-packages (from scikit-learn->sklearn) (1.21.6)\n"
          ]
        }
      ]
    },
    {
      "cell_type": "markdown",
      "metadata": {
        "id": "hdOyREfX_3dE"
      },
      "source": [
        "## Validación de modelos\n",
        "\n",
        "Una parte muy importante del aprendizaje automático es la **validación del modelo**: es decir, verificar qué tan bien se ajusta su modelo a un conjunto de datos dado. Considere un dataset de dígitos, la pregunta es: ¿Cómo podríamos comprobar qué tan bien nuestro modelo se ajusta a los datos?\n"
      ]
    },
    {
      "cell_type": "code",
      "metadata": {
        "id": "Ejr2W_6R_3dG",
        "colab": {
          "base_uri": "https://localhost:8080/"
        },
        "outputId": "010d63e4-754d-4504-cc4a-593514313f7f"
      },
      "source": [
        "from sklearn.datasets import load_digits #base de datos MNIST\n",
        "digits = load_digits()\n",
        "X = digits.data\n",
        "y = digits.target\n",
        "print(X)\n",
        "print(type(X))\n",
        "print(y)\n",
        "print(X.shape)\n",
        "print(y.shape)\n",
        "print(np.max(X))"
      ],
      "execution_count": 3,
      "outputs": [
        {
          "output_type": "stream",
          "name": "stdout",
          "text": [
            "[[ 0.  0.  5. ...  0.  0.  0.]\n",
            " [ 0.  0.  0. ... 10.  0.  0.]\n",
            " [ 0.  0.  0. ... 16.  9.  0.]\n",
            " ...\n",
            " [ 0.  0.  1. ...  6.  0.  0.]\n",
            " [ 0.  0.  2. ... 12.  0.  0.]\n",
            " [ 0.  0. 10. ... 12.  1.  0.]]\n",
            "<class 'numpy.ndarray'>\n",
            "[0 1 2 ... 8 9 8]\n",
            "(1797, 64)\n",
            "(1797,)\n",
            "16.0\n"
          ]
        }
      ]
    },
    {
      "cell_type": "code",
      "metadata": {
        "id": "qfo3_Fp1u56p",
        "colab": {
          "base_uri": "https://localhost:8080/",
          "height": 314
        },
        "outputId": "88580d30-1d41-4a03-ccf6-504a2af6e874"
      },
      "source": [
        "plt.gray() #doctest: +SKIP  \n",
        "plt.matshow(digits.images[100]) #doctest: +SKIP  \n",
        "plt.show() #doctest: +SKIP  \n",
        "print(digits.target[100])"
      ],
      "execution_count": 7,
      "outputs": [
        {
          "output_type": "display_data",
          "data": {
            "text/plain": [
              "<Figure size 432x288 with 0 Axes>"
            ]
          },
          "metadata": {}
        },
        {
          "output_type": "display_data",
          "data": {
            "text/plain": [
              "<Figure size 288x288 with 1 Axes>"
            ],
            "image/png": "[encoded data removed]"
          },
          "metadata": {
            "needs_background": "light"
          }
        },
        {
          "output_type": "stream",
          "name": "stdout",
          "text": [
            "4\n"
          ]
        }
      ]
    },
    {
      "cell_type": "markdown",
      "metadata": {
        "id": "QjtKEmLQ_3dM"
      },
      "source": [
        "Ajustemos un clasificador de K vecinos cercanos."
      ]
    },
    {
      "cell_type": "code",
      "metadata": {
        "id": "J_dyK7ep_3dN",
        "colab": {
          "base_uri": "https://localhost:8080/"
        },
        "outputId": "35d40263-d7da-492a-e00c-bbf9f1aa6bce"
      },
      "source": [
        "from sklearn.neighbors import KNeighborsClassifier\n",
        "knn = KNeighborsClassifier(n_neighbors=1) #1NN \n",
        "knn.fit(X, y)"
      ],
      "execution_count": 8,
      "outputs": [
        {
          "output_type": "execute_result",
          "data": {
            "text/plain": [
              "KNeighborsClassifier(n_neighbors=1)"
            ]
          },
          "metadata": {},
          "execution_count": 8
        }
      ]
    },
    {
      "cell_type": "markdown",
      "metadata": {
        "id": "UIyK0kUH_3dV"
      },
      "source": [
        "Usaremos este clasificador para *predecir* etiquetas de datos."
      ]
    },
    {
      "cell_type": "code",
      "metadata": {
        "id": "GTxL3iFn_3dX"
      },
      "source": [
        "y_pred = knn.predict(X)"
      ],
      "execution_count": 9,
      "outputs": []
    },
    {
      "cell_type": "markdown",
      "metadata": {
        "id": "kBCBZ5A3_3da"
      },
      "source": [
        "Ahora podemos chequear que tan bien lo hicimos:"
      ]
    },
    {
      "cell_type": "code",
      "metadata": {
        "id": "YWi6V-Rc_3da",
        "colab": {
          "base_uri": "https://localhost:8080/"
        },
        "outputId": "07b7ccf3-dab6-4cb7-90b4-1d72378c103d"
      },
      "source": [
        "print(\"{0} / {1} correct\".format(np.sum(y == y_pred), len(y)))"
      ],
      "execution_count": 10,
      "outputs": [
        {
          "output_type": "stream",
          "name": "stdout",
          "text": [
            "1797 / 1797 correct\n"
          ]
        }
      ]
    },
    {
      "cell_type": "markdown",
      "metadata": {
        "id": "1mu1R8n0_3dd"
      },
      "source": [
        "El mejor resultado posible!.. ¿pero observan algo?\n"
      ]
    },
    {
      "cell_type": "markdown",
      "metadata": {
        "id": "T_ioq6wA_3de"
      },
      "source": [
        "## Set de Validación\n",
        "\n",
        "Arriba cometimos el error de probar nuestros datos en el mismo conjunto de datos que se utilizó para el entrenamiento. **Esto generalmente no es una buena idea**. Si optimizamos nuestro estimador de esta manera, tendremos a **sobreajustar** los datos: es decir, aprendemos el ruido.\n",
        "\n",
        "Una mejor manera de probar un modelo es usar un conjunto de prueba (o test) que no ingrese al entrenamiento. Para ellos usaremos función de scikit-learn:\n"
      ]
    },
    {
      "cell_type": "code",
      "metadata": {
        "id": "VKafdftj_3de",
        "colab": {
          "base_uri": "https://localhost:8080/"
        },
        "outputId": "c1893008-003e-458c-d412-c5810ea0ba9a"
      },
      "source": [
        "from sklearn.model_selection import train_test_split\n",
        "X_train, X_test, y_train, y_test = train_test_split(X, y, test_size=0.33) #Hold-out\n",
        "X_train.shape, X_test.shape"
      ],
      "execution_count": 11,
      "outputs": [
        {
          "output_type": "execute_result",
          "data": {
            "text/plain": [
              "((1203, 64), (594, 64))"
            ]
          },
          "metadata": {},
          "execution_count": 11
        }
      ]
    },
    {
      "cell_type": "markdown",
      "metadata": {
        "id": "o087k7Ju_3di"
      },
      "source": [
        "Ahora usaremos ambos sets de datos (entrenamiento y testeo)."
      ]
    },
    {
      "cell_type": "code",
      "metadata": {
        "id": "c2iBWBtu_3di",
        "colab": {
          "base_uri": "https://localhost:8080/"
        },
        "outputId": "1b79d424-83c0-4000-948a-d2b07c839e9d"
      },
      "source": [
        "knn = KNeighborsClassifier(n_neighbors=1)\n",
        "knn.fit(X_train, y_train)\n",
        "y_pred = knn.predict(X_test)\n",
        "print(y_pred)\n",
        "print(\"{0} / {1} correct\".format(np.sum(y_test == y_pred), len(y_test)))\n",
        "print(np.sum(y_test == y_pred)/len(y_test))"
      ],
      "execution_count": 12,
      "outputs": [
        {
          "output_type": "stream",
          "name": "stdout",
          "text": [
            "[0 7 0 7 6 0 1 4 6 1 2 4 7 4 2 9 7 0 0 5 6 8 3 5 4 6 9 4 3 9 5 0 8 4 3 5 2\n",
            " 7 2 5 0 5 5 8 5 6 2 0 4 1 5 4 3 4 5 5 1 5 5 3 7 9 2 2 9 2 7 7 0 1 5 0 5 5\n",
            " 9 9 7 6 8 9 5 1 8 9 7 0 7 0 9 9 8 6 1 8 4 3 4 9 8 2 9 8 6 7 8 9 1 7 0 9 5\n",
            " 2 6 3 8 3 4 6 4 6 5 4 8 6 7 1 5 8 4 2 7 7 1 4 9 2 5 0 9 8 9 7 0 5 9 0 4 2\n",
            " 5 3 3 6 7 2 3 2 3 6 4 9 0 2 0 4 5 5 8 4 5 8 8 2 4 1 2 3 6 0 8 9 1 3 6 9 8\n",
            " 9 6 4 2 7 8 2 5 4 1 2 8 2 8 4 5 1 1 8 8 4 9 6 9 4 7 1 1 0 9 4 6 8 7 4 1 4\n",
            " 7 2 3 5 1 2 5 5 6 7 6 0 2 1 2 6 8 2 0 6 5 9 6 2 3 0 9 8 4 4 0 9 5 1 0 2 9\n",
            " 3 5 2 3 0 5 8 1 0 3 2 6 8 5 8 6 2 1 3 1 8 0 8 1 0 7 0 0 8 8 7 0 8 1 3 5 7\n",
            " 3 6 3 2 7 6 9 2 7 4 3 2 6 5 9 8 8 7 9 4 7 9 9 4 8 4 3 9 9 5 1 1 7 8 2 9 2\n",
            " 0 4 9 0 1 6 3 3 0 6 8 3 1 0 1 4 1 3 1 3 7 5 8 0 1 6 4 9 8 4 3 2 3 3 2 6 8\n",
            " 9 5 5 3 8 2 4 7 2 7 0 4 2 9 4 5 5 8 1 3 2 0 3 7 3 6 4 2 1 6 9 0 7 5 1 5 3\n",
            " 0 8 9 3 7 0 7 1 0 3 6 5 6 1 2 8 3 1 3 0 5 4 4 1 0 9 6 3 7 5 9 9 0 7 2 3 4\n",
            " 3 0 0 4 6 3 3 0 8 3 2 9 2 0 9 2 4 4 9 7 6 3 8 0 5 1 3 3 4 6 9 3 4 0 8 6 3\n",
            " 6 9 2 0 2 0 0 7 8 6 0 5 7 3 3 4 7 5 6 9 5 3 0 2 5 3 7 5 8 2 0 3 8 4 9 8 0\n",
            " 5 1 8 9 9 0 5 1 4 7 5 0 0 4 7 3 6 2 5 1 0 0 4 0 7 3 9 7 9 4 9 3 6 5 9 0 4\n",
            " 7 2 6 7 6 8 5 1 1 4 3 9 7 7 9 2 1 7 0 1 3 1 4 9 7 7 2 1 0 2 8 1 3 3 6 9 4\n",
            " 7 2]\n",
            "584 / 594 correct\n",
            "0.9831649831649831\n"
          ]
        }
      ]
    },
    {
      "cell_type": "markdown",
      "metadata": {
        "id": "BoC8MnaK_3dl"
      },
      "source": [
        "Esto nos da una estimación más confiable de cómo está funcionando nuestro modelo.\n",
        "\n",
        "La métrica que estamos usando aquí, que compara el número de coincidencias con el número total de muestras, se conoce como **accuracy (puede ser traducida como precisión)**:"
      ]
    },
    {
      "cell_type": "code",
      "metadata": {
        "id": "pQCasJOC_3dl",
        "colab": {
          "base_uri": "https://localhost:8080/"
        },
        "outputId": "1308de79-6605-4cd8-cdc1-c330fdec0504"
      },
      "source": [
        "from sklearn.metrics import accuracy_score,classification_report\n",
        "print(accuracy_score(y_test, y_pred))\n",
        "print(classification_report(y_test, y_pred))"
      ],
      "execution_count": 13,
      "outputs": [
        {
          "output_type": "stream",
          "name": "stdout",
          "text": [
            "0.9831649831649831\n",
            "              precision    recall  f1-score   support\n",
            "\n",
            "           0       1.00      1.00      1.00        68\n",
            "           1       0.94      1.00      0.97        49\n",
            "           2       1.00      0.98      0.99        60\n",
            "           3       0.98      1.00      0.99        64\n",
            "           4       1.00      1.00      1.00        61\n",
            "           5       0.98      0.97      0.98        62\n",
            "           6       0.98      1.00      0.99        49\n",
            "           7       1.00      0.98      0.99        58\n",
            "           8       0.98      0.95      0.97        59\n",
            "           9       0.95      0.95      0.95        64\n",
            "\n",
            "    accuracy                           0.98       594\n",
            "   macro avg       0.98      0.98      0.98       594\n",
            "weighted avg       0.98      0.98      0.98       594\n",
            "\n"
          ]
        }
      ]
    },
    {
      "cell_type": "markdown",
      "metadata": {
        "id": "sqVUCGzP_3do"
      },
      "source": [
        "Otra forma es usando el método ``model.score``:"
      ]
    },
    {
      "cell_type": "code",
      "metadata": {
        "id": "5oUNs6m8_3do",
        "colab": {
          "base_uri": "https://localhost:8080/"
        },
        "outputId": "03c8dc1a-8bde-489c-f56b-bb43b83a8b44"
      },
      "source": [
        "knn.score(X_test, y_test)"
      ],
      "execution_count": 14,
      "outputs": [
        {
          "output_type": "execute_result",
          "data": {
            "text/plain": [
              "0.9831649831649831"
            ]
          },
          "metadata": {},
          "execution_count": 14
        }
      ]
    },
    {
      "cell_type": "markdown",
      "metadata": {
        "id": "RrcZ8lVA_3dr"
      },
      "source": [
        "Ahora variaremos el número de vecinos:"
      ]
    },
    {
      "cell_type": "code",
      "source": [
        "for n_neighbors in [1, 5, 10, 20, 30]:\n",
        "    knn = KNeighborsClassifier(n_neighbors)\n",
        "    knn.fit(X_train, y_train)\n",
        "    print(n_neighbors, knn.score(X_test, y_test))"
      ],
      "metadata": {
        "colab": {
          "base_uri": "https://localhost:8080/"
        },
        "id": "gzvLmx9WtIgE",
        "outputId": "fe0f3f6e-821f-4675-a340-96ff9777fc73"
      },
      "execution_count": 15,
      "outputs": [
        {
          "output_type": "stream",
          "name": "stdout",
          "text": [
            "1 0.9831649831649831\n",
            "5 0.9814814814814815\n",
            "10 0.9730639730639731\n",
            "20 0.9629629629629629\n",
            "30 0.9494949494949495\n"
          ]
        }
      ]
    },
    {
      "cell_type": "markdown",
      "source": [
        "#Validacion Cruzada"
      ],
      "metadata": {
        "id": "1YTpTMG9tOG9"
      }
    },
    {
      "cell_type": "markdown",
      "source": [
        "Un problema con los conjuntos de validación es que \"pierdes\" algunos de los datos. Arriba, solo hemos usado 3/4 de los datos para el entrenamiento y 1/4 para la validación. Por otro lado, en cierta medida dependemos del azar. Otra opción es utilizar la 2-validación cruzada (2-fold Cross-Validation), donde dividimos la muestra por la mitad y realizamos la validación dos veces:"
      ],
      "metadata": {
        "id": "aDCVlSYTtRCv"
      }
    },
    {
      "cell_type": "code",
      "source": [
        "X1, X2, y1, y2 = train_test_split(X, y, test_size=0.5, random_state=0)\n",
        "X1.shape, X2.shape"
      ],
      "metadata": {
        "colab": {
          "base_uri": "https://localhost:8080/"
        },
        "id": "wa47CBbvtMBS",
        "outputId": "4e84b420-3266-45b7-925a-abb39e7fc61f"
      },
      "execution_count": 16,
      "outputs": [
        {
          "output_type": "execute_result",
          "data": {
            "text/plain": [
              "((898, 64), (899, 64))"
            ]
          },
          "metadata": {},
          "execution_count": 16
        }
      ]
    },
    {
      "cell_type": "code",
      "source": [
        "print(KNeighborsClassifier(1).fit(X2, y2).score(X1, y1))\n",
        "print(KNeighborsClassifier(1).fit(X1, y1).score(X2, y2))"
      ],
      "metadata": {
        "colab": {
          "base_uri": "https://localhost:8080/"
        },
        "id": "kvrpgLnftmYd",
        "outputId": "f2935a1a-7245-4518-a92b-8c1c7b05b242"
      },
      "execution_count": 17,
      "outputs": [
        {
          "output_type": "stream",
          "name": "stdout",
          "text": [
            "0.9832962138084632\n",
            "0.982202447163515\n"
          ]
        }
      ]
    },
    {
      "cell_type": "markdown",
      "source": [
        "Por lo tanto, una 2-validación cruzada nos da dos estimaciones de la puntuación de ese parámetro.\n",
        "Debido a que esto es un poco complicado de hacer a mano, scikit-learn tiene una rutina de utilidad para ayudar:"
      ],
      "metadata": {
        "id": "WQCC4suztvWF"
      }
    },
    {
      "cell_type": "code",
      "source": [
        "#from sklearn.cross_validation import cross_val_score #desfasado 2022\n",
        "from sklearn.model_selection import cross_val_score\n",
        "cv_val = cross_val_score(KNeighborsClassifier(1), X, y, cv=2)\n",
        "cv_val.mean()"
      ],
      "metadata": {
        "colab": {
          "base_uri": "https://localhost:8080/"
        },
        "id": "uG5e7yYptufU",
        "outputId": "0b5c8f80-3928-4106-ad42-583d80e50ac6"
      },
      "execution_count": 22,
      "outputs": [
        {
          "output_type": "execute_result",
          "data": {
            "text/plain": [
              "0.9610455566813907"
            ]
          },
          "metadata": {},
          "execution_count": 22
        }
      ]
    },
    {
      "cell_type": "markdown",
      "source": [
        "### K-fold Cross-Validation\n",
        "\n",
        "Aquí hemos utilizado una validación cruzada doble. Esta es solo una especialización de $K$-fold cross-validation, en la que dividimos los datos en $K$ fragmentos y realizamos $K$ ajustes, donde cada fragmento recibe un turno como conjunto de validación.\n",
        "Podemos hacer esto cambiando el parámetro ``cv`` anterior. Hagamos una validación cruzada de 10 veces:"
      ],
      "metadata": {
        "id": "qzOIvtgVuDmn"
      }
    },
    {
      "cell_type": "code",
      "source": [
        "cv_val=cross_val_score(KNeighborsClassifier(1), X, y, cv=10)\n",
        "print(cv_val.mean())\n"
      ],
      "metadata": {
        "colab": {
          "base_uri": "https://localhost:8080/"
        },
        "id": "hVWkbonuuCAv",
        "outputId": "427220cc-d130-4857-b5ca-9681620c1f72"
      },
      "execution_count": 26,
      "outputs": [
        {
          "output_type": "stream",
          "name": "stdout",
          "text": [
            "0.9749627560521414\n"
          ]
        }
      ]
    },
    {
      "cell_type": "markdown",
      "source": [
        "Esto nos da una idea aún mas fiable de qué tan bien está funcionando nuestro modelo."
      ],
      "metadata": {
        "id": "ZyTAmzdDvG1x"
      }
    },
    {
      "cell_type": "markdown",
      "source": [
        "## Overfitting, Underfitting y Selección de Modelo\n",
        "\n",
        "\n",
        "\n",
        "Ahora que hemos repasado los conceptos básicos de la validación y la validación cruzada, es hora de profundizar aún más en la selección del modelo.\n",
        "Los problemas asociados con la validación y la validación cruzada son algunos de los aspectos más importantes de la práctica del aprendizaje automático. Seleccionar el modelo óptimo para sus datos es vital y es una parte del problema que los profesionales del aprendizaje automático no suelen apreciar.\n",
        "De importancia central es la siguiente pregunta:\n",
        "Si nuestro estimador tiene un bajo rendimiento, ¿cómo debemos avanzar?\n",
        "¿Usar un modelo más simple o más complicado?\n",
        "¿Agregar más características a cada punto de datos observado?\n",
        "¿Agregar más ejemplos de capacitación?\n",
        "La respuesta es a menudo contraria a la intuición. En particular, a veces usar un modelo más complicado dará peores resultados. Además, a veces agregar datos de entrenamiento no mejorará sus resultados. La capacidad de determinar qué pasos mejorarán su modelo es lo que separa a los profesionales exitosos del aprendizaje automático de los que no lo tienen."
      ],
      "metadata": {
        "id": "Zui2m1DOvZUR"
      }
    },
    {
      "cell_type": "markdown",
      "source": [
        "### Ilustración de la compensación entre sesgo y varianza\n",
        "\n",
        "Para esta sección, trabajaremos con un problema de regresión 1D simple. Esto nos ayudará a visualizar fácilmente los datos y el modelo, y los resultados se pueden generalizar fácilmente a conjuntos de datos de mayor dimensión. Exploraremos un problema de regresión lineal simple. Esto se puede lograr dentro de scikit-learn con el módulo `sklearn.linear_model`.\n",
        "Crearemos una función no lineal simple que nos gustaría ajustar"
      ],
      "metadata": {
        "id": "8BPcReBuvyx0"
      }
    },
    {
      "cell_type": "code",
      "source": [
        "def test_func(x, err=0.5):\n",
        "    y = 10 - 1. / (x + 0.1)\n",
        "    if err > 0:\n",
        "        y = np.random.normal(y, err)\n",
        "    return y"
      ],
      "metadata": {
        "id": "-lA0Brc6vMDI"
      },
      "execution_count": 27,
      "outputs": []
    },
    {
      "cell_type": "markdown",
      "source": [
        "Generemos algunos datos:"
      ],
      "metadata": {
        "id": "6JH66wgUwF8J"
      }
    },
    {
      "cell_type": "code",
      "source": [
        "def make_data(N=40, error=1.0, random_seed=1):\n",
        "    # randomly sample the data\n",
        "    np.random.seed(1)\n",
        "    X = np.random.random(N)[:, np.newaxis]\n",
        "    y = test_func(X.ravel(), error)\n",
        "    \n",
        "    return X, y"
      ],
      "metadata": {
        "id": "pUfi3Cq5wLEI"
      },
      "execution_count": 28,
      "outputs": []
    },
    {
      "cell_type": "code",
      "source": [
        "X, y = make_data(40, error=1)\n",
        "plt.scatter(X.ravel(), y);"
      ],
      "metadata": {
        "colab": {
          "base_uri": "https://localhost:8080/",
          "height": 268
        },
        "id": "T5OVV8i3wNTC",
        "outputId": "f480792a-1b9f-4466-c860-5765fd4e97d2"
      },
      "execution_count": 29,
      "outputs": [
        {
          "output_type": "display_data",
          "data": {
            "text/plain": [
              "<Figure size 432x288 with 1 Axes>"
            ],
            "image/png": "[encoded data removed]"
          },
          "metadata": {
            "needs_background": "light"
          }
        }
      ]
    },
    {
      "cell_type": "markdown",
      "source": [
        "Ahora digamos que queremos realizar una regresión en estos datos. Usemos la función de regresión lineal incorporada para calcular un ajuste:"
      ],
      "metadata": {
        "id": "bZeSeX6wwT-V"
      }
    },
    {
      "cell_type": "code",
      "source": [
        "X_test = np.linspace(-0.1, 1.1, 500)[:, None]\n",
        "\n",
        "from sklearn.linear_model import LinearRegression\n",
        "from sklearn.metrics import mean_squared_error\n",
        "model = LinearRegression()\n",
        "model.fit(X, y)\n",
        "y_test = model.predict(X_test)\n",
        "\n",
        "plt.scatter(X.ravel(), y)\n",
        "plt.plot(X_test.ravel(), y_test)\n",
        "plt.title(\"mean squared error: {0:.3g}\".format(mean_squared_error(model.predict(X), y)));"
      ],
      "metadata": {
        "colab": {
          "base_uri": "https://localhost:8080/",
          "height": 284
        },
        "id": "weaVO4SNwS9x",
        "outputId": "22426823-fbe3-4d5f-e16f-7ad5faecf343"
      },
      "execution_count": 30,
      "outputs": [
        {
          "output_type": "display_data",
          "data": {
            "text/plain": [
              "<Figure size 432x288 with 1 Axes>"
            ],
            "image/png": "[encoded data removed]"
          },
          "metadata": {
            "needs_background": "light"
          }
        }
      ]
    },
    {
      "cell_type": "markdown",
      "source": [
        "Hemos ajustado una línea recta a los datos, pero claramente este modelo no es una buena elección. Decimos que este modelo está **sesgado** o que **no se ajusta** a los datos.\n",
        "\n",
        "Intentemos mejorar esto creando un modelo más complicado. Podemos hacer esto agregando grados de libertad y calculando una regresión polinomial sobre las entradas. Scikit-learn lo hace fácil con el preprocesador ``PolynomialFeatures``, que puede canalizarse con una regresión lineal.\n",
        "\n",
        "Hagamos una rutina conveniente para hacer esto:"
      ],
      "metadata": {
        "id": "v9UnvNmGwffp"
      }
    },
    {
      "cell_type": "code",
      "source": [
        "from sklearn.preprocessing import PolynomialFeatures\n",
        "from sklearn.linear_model import LinearRegression\n",
        "from sklearn.pipeline import make_pipeline\n",
        "\n",
        "def PolynomialRegression(degree=2, **kwargs):\n",
        "    return make_pipeline(PolynomialFeatures(degree),\n",
        "                         LinearRegression(**kwargs))"
      ],
      "metadata": {
        "id": "yYeaMy0Kwgog"
      },
      "execution_count": 31,
      "outputs": []
    },
    {
      "cell_type": "markdown",
      "source": [
        "Apliquemos una regresión cuadrática:"
      ],
      "metadata": {
        "id": "-RhGfRNBwoxV"
      }
    },
    {
      "cell_type": "code",
      "source": [
        "model = PolynomialRegression(2)\n",
        "model.fit(X, y)\n",
        "y_test = model.predict(X_test)\n",
        "\n",
        "plt.scatter(X.ravel(), y)\n",
        "plt.plot(X_test.ravel(), y_test)\n",
        "plt.title(\"mean squared error: {0:.3g}\".format(mean_squared_error(model.predict(X), y)));"
      ],
      "metadata": {
        "colab": {
          "base_uri": "https://localhost:8080/",
          "height": 284
        },
        "id": "azvJQeFpwoJ_",
        "outputId": "83c8fb90-5f3c-4a13-f995-5790e979fbc2"
      },
      "execution_count": 32,
      "outputs": [
        {
          "output_type": "display_data",
          "data": {
            "text/plain": [
              "<Figure size 432x288 with 1 Axes>"
            ],
            "image/png": "[encoded data removed]"
          },
          "metadata": {
            "needs_background": "light"
          }
        }
      ]
    },
    {
      "cell_type": "markdown",
      "source": [
        "Esto reduce el error cuadrático medio y hace un ajuste mucho mejor. ¿Qué sucede si usamos un polinomio de grado aún mayor?"
      ],
      "metadata": {
        "id": "-ZsF2vVgw1fX"
      }
    },
    {
      "cell_type": "code",
      "source": [
        "model = PolynomialRegression(30)\n",
        "model.fit(X, y)\n",
        "y_test = model.predict(X_test)\n",
        "\n",
        "plt.scatter(X.ravel(), y)\n",
        "plt.plot(X_test.ravel(), y_test)\n",
        "plt.title(\"mean squared error: {0:.3g}\".format(mean_squared_error(model.predict(X), y)))\n",
        "plt.ylim(-4, 14);"
      ],
      "metadata": {
        "colab": {
          "base_uri": "https://localhost:8080/",
          "height": 284
        },
        "id": "nDVNPTHJw2Nc",
        "outputId": "40856d8b-b98b-45db-b708-25e2fafc4cdd"
      },
      "execution_count": 33,
      "outputs": [
        {
          "output_type": "display_data",
          "data": {
            "text/plain": [
              "<Figure size 432x288 with 1 Axes>"
            ],
            "image/png": "[encoded data removed]"
          },
          "metadata": {
            "needs_background": "light"
          }
        }
      ]
    },
    {
      "cell_type": "markdown",
      "source": [
        "Cuando aumentamos el grado hasta este punto, está claro que el ajuste resultante ya no refleja la verdadera distribución subyacente, sino que es más sensible al ruido en los datos de entrenamiento. Por esta razón, lo llamamos un **modelo de alta varianza** y decimos que **sobreajusta** los datos."
      ],
      "metadata": {
        "id": "FkwOYbYTw_ln"
      }
    },
    {
      "cell_type": "markdown",
      "source": [
        "Solo por diversión, usemos la capacidad de interacción de IPython (solo en IPython 2.0+) para explorar esto de forma interactiva:"
      ],
      "metadata": {
        "id": "vFyCH7SYxGt9"
      }
    },
    {
      "cell_type": "code",
      "source": [
        "from IPython.html.widgets import interact\n",
        "\n",
        "def plot_fit(degree=1, Npts=50):\n",
        "    X, y = make_data(Npts, error=1)\n",
        "    X_test = np.linspace(-0.1, 1.1, 500)[:, None]\n",
        "    \n",
        "    model = PolynomialRegression(degree=degree)\n",
        "    model.fit(X, y)\n",
        "    y_test = model.predict(X_test)\n",
        "\n",
        "    plt.scatter(X.ravel(), y)\n",
        "    plt.plot(X_test.ravel(), y_test)\n",
        "    plt.ylim(-4, 14)\n",
        "    plt.title(\"mean squared error: {0:.2f}\".format(mean_squared_error(model.predict(X), y)))\n",
        "    \n",
        "interact(plot_fit, degree=[1, 2,30], Npts=[2, 20, 100]);"
      ],
      "metadata": {
        "colab": {
          "base_uri": "https://localhost:8080/",
          "height": 348,
          "referenced_widgets": [
            "4230ca8bbf7d49d6aea7223c7fc278e1",
            "bacc108b6c6d4f659654106d44858a06",
            "d99e14e28527477b979686070284db62",
            "7832f46229924c6c9730cf8351d733db",
            "b5e6b5bc4e5e4d4682a2cd89bb1b4616",
            "68ddc0b13f804fe9be08b32ccc38af6b",
            "f541eedfd865404b8cc64a9b3c0f80f3",
            "2d051832f0184d46b4c31b62179f8a7a",
            "0cf32203881e436baf821c68d5e2b2a3",
            "f1fa01c03447417f815b8f4693e6259f"
          ]
        },
        "id": "_GFIdNqzw-qo",
        "outputId": "282f7747-ee91-4af1-cbaa-931410add6b7"
      },
      "execution_count": 36,
      "outputs": [
        {
          "output_type": "display_data",
          "data": {
            "text/plain": [
              "interactive(children=(Dropdown(description='degree', options=(1, 2, 30), value=1), Dropdown(description='Npts'…"
            ],
            "application/vnd.jupyter.widget-view+json": {
              "version_major": 2,
              "version_minor": 0,
              "model_id": "4230ca8bbf7d49d6aea7223c7fc278e1"
            }
          },
          "metadata": {}
        }
      ]
    },
    {
      "cell_type": "markdown",
      "source": [
        ""
      ],
      "metadata": {
        "id": "Br1G2siWyWSl"
      }
    },
    {
      "cell_type": "code",
      "source": [
        "import sklearn as sk\n",
        "sorted(sk.metrics.SCORERS.keys())"
      ],
      "metadata": {
        "colab": {
          "base_uri": "https://localhost:8080/"
        },
        "id": "_PMTgnljx4e0",
        "outputId": "79411c89-1bf9-4ff6-f49b-9775e93afb11"
      },
      "execution_count": 46,
      "outputs": [
        {
          "output_type": "execute_result",
          "data": {
            "text/plain": [
              "['accuracy',\n",
              " 'adjusted_mutual_info_score',\n",
              " 'adjusted_rand_score',\n",
              " 'average_precision',\n",
              " 'balanced_accuracy',\n",
              " 'completeness_score',\n",
              " 'explained_variance',\n",
              " 'f1',\n",
              " 'f1_macro',\n",
              " 'f1_micro',\n",
              " 'f1_samples',\n",
              " 'f1_weighted',\n",
              " 'fowlkes_mallows_score',\n",
              " 'homogeneity_score',\n",
              " 'jaccard',\n",
              " 'jaccard_macro',\n",
              " 'jaccard_micro',\n",
              " 'jaccard_samples',\n",
              " 'jaccard_weighted',\n",
              " 'max_error',\n",
              " 'mutual_info_score',\n",
              " 'neg_brier_score',\n",
              " 'neg_log_loss',\n",
              " 'neg_mean_absolute_error',\n",
              " 'neg_mean_absolute_percentage_error',\n",
              " 'neg_mean_gamma_deviance',\n",
              " 'neg_mean_poisson_deviance',\n",
              " 'neg_mean_squared_error',\n",
              " 'neg_mean_squared_log_error',\n",
              " 'neg_median_absolute_error',\n",
              " 'neg_root_mean_squared_error',\n",
              " 'normalized_mutual_info_score',\n",
              " 'precision',\n",
              " 'precision_macro',\n",
              " 'precision_micro',\n",
              " 'precision_samples',\n",
              " 'precision_weighted',\n",
              " 'r2',\n",
              " 'rand_score',\n",
              " 'recall',\n",
              " 'recall_macro',\n",
              " 'recall_micro',\n",
              " 'recall_samples',\n",
              " 'recall_weighted',\n",
              " 'roc_auc',\n",
              " 'roc_auc_ovo',\n",
              " 'roc_auc_ovo_weighted',\n",
              " 'roc_auc_ovr',\n",
              " 'roc_auc_ovr_weighted',\n",
              " 'top_k_accuracy',\n",
              " 'v_measure_score']"
            ]
          },
          "metadata": {},
          "execution_count": 46
        }
      ]
    },
    {
      "cell_type": "code",
      "source": [
        ""
      ],
      "metadata": {
        "id": "wy6FjHWwzTSQ"
      },
      "execution_count": null,
      "outputs": []
    }
  ]
}